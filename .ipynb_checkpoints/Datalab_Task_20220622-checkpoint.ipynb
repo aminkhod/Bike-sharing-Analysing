{
 "cells": [
  {
   "cell_type": "markdown",
   "metadata": {},
   "source": [
    "# Sixt Data Science Lab - Test Task for Data Scientist Job Candidates"
   ]
  },
  {
   "cell_type": "markdown",
   "metadata": {},
   "source": [
    "## Introduction\n",
    "\n",
    "In this test task you will have an opportunity to demonstrate your skills of a Data Scientist from various angles - processing data, analyzing and vizalizing it, finding insights, applying predictive techniques and explaining your reasoning about it.\n",
    "\n",
    "The task is based around a bike sharing dataset openly available at UCI Machine Learning Repository [1].\n",
    "\n",
    "Please go through the steps below, build up the necessary code and comment on your choices."
   ]
  },
  {
   "cell_type": "markdown",
   "metadata": {},
   "source": [
    "## Part 1 - Data Loading and Environment Preparation\n",
    "\n",
    "**Tasks:**\n",
    "1. Prepare a Python 3 virtual environment (with virtualenv command). requirements.txt output of pip freeze command should be included as part of your submission.\n",
    "2. Load the data from UCI Repository and put it into the same folder with the notebook. The link to it is https://archive.ics.uci.edu/ml/datasets/bike+sharing+dataset . Here is an available mirror in case the above website is down: https://data.world/uci/bike-sharing-dataset\n",
    "3. We split the data into two parts. One dataset containing the last 30 days and one dataset with the rest."
   ]
  },
  {
   "cell_type": "code",
   "execution_count": 50,
   "metadata": {},
   "outputs": [
    {
     "data": {
      "text/html": [
       "<div>\n",
       "<style scoped>\n",
       "    .dataframe tbody tr th:only-of-type {\n",
       "        vertical-align: middle;\n",
       "    }\n",
       "\n",
       "    .dataframe tbody tr th {\n",
       "        vertical-align: top;\n",
       "    }\n",
       "\n",
       "    .dataframe thead th {\n",
       "        text-align: right;\n",
       "    }\n",
       "</style>\n",
       "<table border=\"1\" class=\"dataframe\">\n",
       "  <thead>\n",
       "    <tr style=\"text-align: right;\">\n",
       "      <th></th>\n",
       "      <th>instant</th>\n",
       "      <th>dteday</th>\n",
       "      <th>season</th>\n",
       "      <th>yr</th>\n",
       "      <th>mnth</th>\n",
       "      <th>holiday</th>\n",
       "      <th>weekday</th>\n",
       "      <th>workingday</th>\n",
       "      <th>weathersit</th>\n",
       "      <th>temp</th>\n",
       "      <th>atemp</th>\n",
       "      <th>hum</th>\n",
       "      <th>windspeed</th>\n",
       "      <th>casual</th>\n",
       "      <th>registered</th>\n",
       "      <th>cnt</th>\n",
       "    </tr>\n",
       "  </thead>\n",
       "  <tbody>\n",
       "    <tr>\n",
       "      <th>0</th>\n",
       "      <td>1</td>\n",
       "      <td>2011-01-01</td>\n",
       "      <td>1</td>\n",
       "      <td>0</td>\n",
       "      <td>1</td>\n",
       "      <td>0</td>\n",
       "      <td>6</td>\n",
       "      <td>0</td>\n",
       "      <td>2</td>\n",
       "      <td>0.344167</td>\n",
       "      <td>0.363625</td>\n",
       "      <td>0.805833</td>\n",
       "      <td>0.160446</td>\n",
       "      <td>331</td>\n",
       "      <td>654</td>\n",
       "      <td>985</td>\n",
       "    </tr>\n",
       "    <tr>\n",
       "      <th>1</th>\n",
       "      <td>2</td>\n",
       "      <td>2011-01-02</td>\n",
       "      <td>1</td>\n",
       "      <td>0</td>\n",
       "      <td>1</td>\n",
       "      <td>0</td>\n",
       "      <td>0</td>\n",
       "      <td>0</td>\n",
       "      <td>2</td>\n",
       "      <td>0.363478</td>\n",
       "      <td>0.353739</td>\n",
       "      <td>0.696087</td>\n",
       "      <td>0.248539</td>\n",
       "      <td>131</td>\n",
       "      <td>670</td>\n",
       "      <td>801</td>\n",
       "    </tr>\n",
       "    <tr>\n",
       "      <th>2</th>\n",
       "      <td>3</td>\n",
       "      <td>2011-01-03</td>\n",
       "      <td>1</td>\n",
       "      <td>0</td>\n",
       "      <td>1</td>\n",
       "      <td>0</td>\n",
       "      <td>1</td>\n",
       "      <td>1</td>\n",
       "      <td>1</td>\n",
       "      <td>0.196364</td>\n",
       "      <td>0.189405</td>\n",
       "      <td>0.437273</td>\n",
       "      <td>0.248309</td>\n",
       "      <td>120</td>\n",
       "      <td>1229</td>\n",
       "      <td>1349</td>\n",
       "    </tr>\n",
       "    <tr>\n",
       "      <th>3</th>\n",
       "      <td>4</td>\n",
       "      <td>2011-01-04</td>\n",
       "      <td>1</td>\n",
       "      <td>0</td>\n",
       "      <td>1</td>\n",
       "      <td>0</td>\n",
       "      <td>2</td>\n",
       "      <td>1</td>\n",
       "      <td>1</td>\n",
       "      <td>0.200000</td>\n",
       "      <td>0.212122</td>\n",
       "      <td>0.590435</td>\n",
       "      <td>0.160296</td>\n",
       "      <td>108</td>\n",
       "      <td>1454</td>\n",
       "      <td>1562</td>\n",
       "    </tr>\n",
       "    <tr>\n",
       "      <th>4</th>\n",
       "      <td>5</td>\n",
       "      <td>2011-01-05</td>\n",
       "      <td>1</td>\n",
       "      <td>0</td>\n",
       "      <td>1</td>\n",
       "      <td>0</td>\n",
       "      <td>3</td>\n",
       "      <td>1</td>\n",
       "      <td>1</td>\n",
       "      <td>0.226957</td>\n",
       "      <td>0.229270</td>\n",
       "      <td>0.436957</td>\n",
       "      <td>0.186900</td>\n",
       "      <td>82</td>\n",
       "      <td>1518</td>\n",
       "      <td>1600</td>\n",
       "    </tr>\n",
       "  </tbody>\n",
       "</table>\n",
       "</div>"
      ],
      "text/plain": [
       "   instant      dteday  season  yr  mnth  holiday  weekday  workingday  \\\n",
       "0        1  2011-01-01       1   0     1        0        6           0   \n",
       "1        2  2011-01-02       1   0     1        0        0           0   \n",
       "2        3  2011-01-03       1   0     1        0        1           1   \n",
       "3        4  2011-01-04       1   0     1        0        2           1   \n",
       "4        5  2011-01-05       1   0     1        0        3           1   \n",
       "\n",
       "   weathersit      temp     atemp       hum  windspeed  casual  registered  \\\n",
       "0           2  0.344167  0.363625  0.805833   0.160446     331         654   \n",
       "1           2  0.363478  0.353739  0.696087   0.248539     131         670   \n",
       "2           1  0.196364  0.189405  0.437273   0.248309     120        1229   \n",
       "3           1  0.200000  0.212122  0.590435   0.160296     108        1454   \n",
       "4           1  0.226957  0.229270  0.436957   0.186900      82        1518   \n",
       "\n",
       "    cnt  \n",
       "0   985  \n",
       "1   801  \n",
       "2  1349  \n",
       "3  1562  \n",
       "4  1600  "
      ]
     },
     "execution_count": 50,
     "metadata": {},
     "output_type": "execute_result"
    }
   ],
   "source": [
    "import pandas as pd\n",
    "import numpy as np\n",
    "\n",
    "# read raw data\n",
    "df_all = pd.read_csv('day.csv')\n",
    "\n",
    "# split dataset\n",
    "df_last30 = df_all.tail(30)\n",
    "df = df_all.iloc[:-30, :]\n",
    "\n",
    "df.head()"
   ]
  },
  {
   "cell_type": "markdown",
   "metadata": {
    "jp-MarkdownHeadingCollapsed": true
   },
   "source": [
    "## Part 2 - Data Processing and Analysis\n",
    "\n",
    "**Tasks:**\n",
    "1. Perform all needed steps to load and clean the data. Please comment the major steps of your code.\n",
    "2. Visualise rentals of bikes per day.\n",
    "3. Assume that each bike has exactly maximum 12 rentals per day.\n",
    "    * Find the maximum number of bicycles `nmax` that was needed in any one day.\n",
    "    * Find the 95%-percentile of bicycles `n95` that was needed in any one day.\n",
    "5. Visualize the distribution of the covered days depending on the number of available bicycles (e.g. `nmax` bicycles would cover 100% of days, `n95` covers 95%, etc.)\n"
   ]
  },
  {
   "cell_type": "markdown",
   "metadata": {},
   "source": [
    "### Pat2 - Task 1 - Perform all needed steps to load and clean the data. Please comment on the major steps of your code."
   ]
  },
  {
   "cell_type": "markdown",
   "metadata": {},
   "source": [
    "#### Inspect the Data"
   ]
  },
  {
   "cell_type": "code",
   "execution_count": 51,
   "metadata": {},
   "outputs": [
    {
     "name": "stdout",
     "output_type": "stream",
     "text": [
      "Dataset contains 701 rows and 16 columns.\n",
      "Missing values in each column:\n",
      "instant       0\n",
      "dteday        0\n",
      "season        0\n",
      "yr            0\n",
      "mnth          0\n",
      "holiday       0\n",
      "weekday       0\n",
      "workingday    0\n",
      "weathersit    0\n",
      "temp          0\n",
      "atemp         0\n",
      "hum           0\n",
      "windspeed     0\n",
      "casual        0\n",
      "registered    0\n",
      "cnt           0\n",
      "dtype: int64\n",
      "\n",
      "Data types of each column:\n",
      "instant         int64\n",
      "dteday         object\n",
      "season          int64\n",
      "yr              int64\n",
      "mnth            int64\n",
      "holiday         int64\n",
      "weekday         int64\n",
      "workingday      int64\n",
      "weathersit      int64\n",
      "temp          float64\n",
      "atemp         float64\n",
      "hum           float64\n",
      "windspeed     float64\n",
      "casual          int64\n",
      "registered      int64\n",
      "cnt             int64\n",
      "dtype: object\n"
     ]
    },
    {
     "data": {
      "text/html": [
       "<div>\n",
       "<style scoped>\n",
       "    .dataframe tbody tr th:only-of-type {\n",
       "        vertical-align: middle;\n",
       "    }\n",
       "\n",
       "    .dataframe tbody tr th {\n",
       "        vertical-align: top;\n",
       "    }\n",
       "\n",
       "    .dataframe thead th {\n",
       "        text-align: right;\n",
       "    }\n",
       "</style>\n",
       "<table border=\"1\" class=\"dataframe\">\n",
       "  <thead>\n",
       "    <tr style=\"text-align: right;\">\n",
       "      <th></th>\n",
       "      <th>instant</th>\n",
       "      <th>season</th>\n",
       "      <th>yr</th>\n",
       "      <th>mnth</th>\n",
       "      <th>holiday</th>\n",
       "      <th>weekday</th>\n",
       "      <th>workingday</th>\n",
       "      <th>weathersit</th>\n",
       "      <th>temp</th>\n",
       "      <th>atemp</th>\n",
       "      <th>hum</th>\n",
       "      <th>windspeed</th>\n",
       "      <th>casual</th>\n",
       "      <th>registered</th>\n",
       "      <th>cnt</th>\n",
       "    </tr>\n",
       "  </thead>\n",
       "  <tbody>\n",
       "    <tr>\n",
       "      <th>count</th>\n",
       "      <td>701.000000</td>\n",
       "      <td>701.000000</td>\n",
       "      <td>701.000000</td>\n",
       "      <td>701.000000</td>\n",
       "      <td>701.000000</td>\n",
       "      <td>701.000000</td>\n",
       "      <td>701.000000</td>\n",
       "      <td>701.000000</td>\n",
       "      <td>701.000000</td>\n",
       "      <td>701.000000</td>\n",
       "      <td>701.000000</td>\n",
       "      <td>701.000000</td>\n",
       "      <td>701.000000</td>\n",
       "      <td>701.000000</td>\n",
       "      <td>701.000000</td>\n",
       "    </tr>\n",
       "    <tr>\n",
       "      <th>mean</th>\n",
       "      <td>351.000000</td>\n",
       "      <td>2.479315</td>\n",
       "      <td>0.479315</td>\n",
       "      <td>6.285307</td>\n",
       "      <td>0.028531</td>\n",
       "      <td>3.004280</td>\n",
       "      <td>0.684736</td>\n",
       "      <td>1.385164</td>\n",
       "      <td>0.502732</td>\n",
       "      <td>0.480847</td>\n",
       "      <td>0.625717</td>\n",
       "      <td>0.190534</td>\n",
       "      <td>866.937233</td>\n",
       "      <td>3661.104137</td>\n",
       "      <td>4528.041369</td>\n",
       "    </tr>\n",
       "    <tr>\n",
       "      <th>std</th>\n",
       "      <td>202.505555</td>\n",
       "      <td>1.090839</td>\n",
       "      <td>0.499929</td>\n",
       "      <td>3.329294</td>\n",
       "      <td>0.166602</td>\n",
       "      <td>2.003207</td>\n",
       "      <td>0.464953</td>\n",
       "      <td>0.542489</td>\n",
       "      <td>0.182781</td>\n",
       "      <td>0.162584</td>\n",
       "      <td>0.141988</td>\n",
       "      <td>0.076740</td>\n",
       "      <td>693.470674</td>\n",
       "      <td>1553.467783</td>\n",
       "      <td>1939.766889</td>\n",
       "    </tr>\n",
       "    <tr>\n",
       "      <th>min</th>\n",
       "      <td>1.000000</td>\n",
       "      <td>1.000000</td>\n",
       "      <td>0.000000</td>\n",
       "      <td>1.000000</td>\n",
       "      <td>0.000000</td>\n",
       "      <td>0.000000</td>\n",
       "      <td>0.000000</td>\n",
       "      <td>1.000000</td>\n",
       "      <td>0.059130</td>\n",
       "      <td>0.079070</td>\n",
       "      <td>0.000000</td>\n",
       "      <td>0.022392</td>\n",
       "      <td>2.000000</td>\n",
       "      <td>20.000000</td>\n",
       "      <td>22.000000</td>\n",
       "    </tr>\n",
       "    <tr>\n",
       "      <th>25%</th>\n",
       "      <td>176.000000</td>\n",
       "      <td>2.000000</td>\n",
       "      <td>0.000000</td>\n",
       "      <td>3.000000</td>\n",
       "      <td>0.000000</td>\n",
       "      <td>1.000000</td>\n",
       "      <td>0.000000</td>\n",
       "      <td>1.000000</td>\n",
       "      <td>0.343478</td>\n",
       "      <td>0.348470</td>\n",
       "      <td>0.519167</td>\n",
       "      <td>0.134958</td>\n",
       "      <td>317.000000</td>\n",
       "      <td>2507.000000</td>\n",
       "      <td>3194.000000</td>\n",
       "    </tr>\n",
       "    <tr>\n",
       "      <th>50%</th>\n",
       "      <td>351.000000</td>\n",
       "      <td>2.000000</td>\n",
       "      <td>0.000000</td>\n",
       "      <td>6.000000</td>\n",
       "      <td>0.000000</td>\n",
       "      <td>3.000000</td>\n",
       "      <td>1.000000</td>\n",
       "      <td>1.000000</td>\n",
       "      <td>0.514167</td>\n",
       "      <td>0.503146</td>\n",
       "      <td>0.623750</td>\n",
       "      <td>0.182221</td>\n",
       "      <td>738.000000</td>\n",
       "      <td>3656.000000</td>\n",
       "      <td>4541.000000</td>\n",
       "    </tr>\n",
       "    <tr>\n",
       "      <th>75%</th>\n",
       "      <td>526.000000</td>\n",
       "      <td>3.000000</td>\n",
       "      <td>1.000000</td>\n",
       "      <td>9.000000</td>\n",
       "      <td>0.000000</td>\n",
       "      <td>5.000000</td>\n",
       "      <td>1.000000</td>\n",
       "      <td>2.000000</td>\n",
       "      <td>0.660000</td>\n",
       "      <td>0.613025</td>\n",
       "      <td>0.728750</td>\n",
       "      <td>0.233221</td>\n",
       "      <td>1135.000000</td>\n",
       "      <td>4739.000000</td>\n",
       "      <td>6041.000000</td>\n",
       "    </tr>\n",
       "    <tr>\n",
       "      <th>max</th>\n",
       "      <td>701.000000</td>\n",
       "      <td>4.000000</td>\n",
       "      <td>1.000000</td>\n",
       "      <td>12.000000</td>\n",
       "      <td>1.000000</td>\n",
       "      <td>6.000000</td>\n",
       "      <td>1.000000</td>\n",
       "      <td>3.000000</td>\n",
       "      <td>0.861667</td>\n",
       "      <td>0.840896</td>\n",
       "      <td>0.972500</td>\n",
       "      <td>0.507463</td>\n",
       "      <td>3410.000000</td>\n",
       "      <td>6946.000000</td>\n",
       "      <td>8714.000000</td>\n",
       "    </tr>\n",
       "  </tbody>\n",
       "</table>\n",
       "</div>"
      ],
      "text/plain": [
       "          instant      season          yr        mnth     holiday     weekday  \\\n",
       "count  701.000000  701.000000  701.000000  701.000000  701.000000  701.000000   \n",
       "mean   351.000000    2.479315    0.479315    6.285307    0.028531    3.004280   \n",
       "std    202.505555    1.090839    0.499929    3.329294    0.166602    2.003207   \n",
       "min      1.000000    1.000000    0.000000    1.000000    0.000000    0.000000   \n",
       "25%    176.000000    2.000000    0.000000    3.000000    0.000000    1.000000   \n",
       "50%    351.000000    2.000000    0.000000    6.000000    0.000000    3.000000   \n",
       "75%    526.000000    3.000000    1.000000    9.000000    0.000000    5.000000   \n",
       "max    701.000000    4.000000    1.000000   12.000000    1.000000    6.000000   \n",
       "\n",
       "       workingday  weathersit        temp       atemp         hum   windspeed  \\\n",
       "count  701.000000  701.000000  701.000000  701.000000  701.000000  701.000000   \n",
       "mean     0.684736    1.385164    0.502732    0.480847    0.625717    0.190534   \n",
       "std      0.464953    0.542489    0.182781    0.162584    0.141988    0.076740   \n",
       "min      0.000000    1.000000    0.059130    0.079070    0.000000    0.022392   \n",
       "25%      0.000000    1.000000    0.343478    0.348470    0.519167    0.134958   \n",
       "50%      1.000000    1.000000    0.514167    0.503146    0.623750    0.182221   \n",
       "75%      1.000000    2.000000    0.660000    0.613025    0.728750    0.233221   \n",
       "max      1.000000    3.000000    0.861667    0.840896    0.972500    0.507463   \n",
       "\n",
       "            casual   registered          cnt  \n",
       "count   701.000000   701.000000   701.000000  \n",
       "mean    866.937233  3661.104137  4528.041369  \n",
       "std     693.470674  1553.467783  1939.766889  \n",
       "min       2.000000    20.000000    22.000000  \n",
       "25%     317.000000  2507.000000  3194.000000  \n",
       "50%     738.000000  3656.000000  4541.000000  \n",
       "75%    1135.000000  4739.000000  6041.000000  \n",
       "max    3410.000000  6946.000000  8714.000000  "
      ]
     },
     "execution_count": 51,
     "metadata": {},
     "output_type": "execute_result"
    }
   ],
   "source": [
    "# Check the shape of the dataset (rows, columns)\n",
    "print(f\"Dataset contains {df.shape[0]} rows and {df.shape[1]} columns.\")\n",
    "\n",
    "# Check for missing values\n",
    "print(\"Missing values in each column:\")\n",
    "print(df.isnull().sum())\n",
    "\n",
    "# Check the data types of each column\n",
    "print(\"\\nData types of each column:\")\n",
    "print(df.dtypes)\n",
    "df.describe()"
   ]
  },
  {
   "cell_type": "markdown",
   "metadata": {},
   "source": [
    "#### Handle Missing Values"
   ]
  },
  {
   "cell_type": "code",
   "execution_count": 52,
   "metadata": {},
   "outputs": [],
   "source": [
    "# Since there are no missing values, no further action is needed here\n",
    "# If there were missing values, we could fill them or drop the rows"
   ]
  },
  {
   "cell_type": "markdown",
   "metadata": {},
   "source": [
    "#### Convert Data Types"
   ]
  },
  {
   "cell_type": "code",
   "execution_count": 53,
   "metadata": {},
   "outputs": [
    {
     "name": "stdout",
     "output_type": "stream",
     "text": [
      "\n",
      "Data type of 'dteday' after conversion:\n",
      "datetime64[ns]\n"
     ]
    },
    {
     "name": "stderr",
     "output_type": "stream",
     "text": [
      "C:\\Users\\Akhod\\AppData\\Local\\Temp\\ipykernel_13152\\1264700120.py:2: SettingWithCopyWarning:\n",
      "\n",
      "\n",
      "A value is trying to be set on a copy of a slice from a DataFrame.\n",
      "Try using .loc[row_indexer,col_indexer] = value instead\n",
      "\n",
      "See the caveats in the documentation: https://pandas.pydata.org/pandas-docs/stable/user_guide/indexing.html#returning-a-view-versus-a-copy\n",
      "\n"
     ]
    }
   ],
   "source": [
    "# Convert 'dteday' to datetime\n",
    "df['date'] = df['dteday'].apply(pd.to_datetime)\n",
    "df = df.drop('dteday',  axis=1)\n",
    "# Confirm the conversion\n",
    "print(\"\\nData type of 'dteday' after conversion:\")\n",
    "print(df['date'].dtype)\n"
   ]
  },
  {
   "cell_type": "markdown",
   "metadata": {},
   "source": [
    "#### Remove Unnecessary Columns"
   ]
  },
  {
   "cell_type": "code",
   "execution_count": 54,
   "metadata": {},
   "outputs": [
    {
     "name": "stdout",
     "output_type": "stream",
     "text": [
      "\n",
      "Columns after dropping 'instant':\n",
      "Index(['season', 'yr', 'mnth', 'holiday', 'weekday', 'workingday',\n",
      "       'weathersit', 'temp', 'atemp', 'hum', 'windspeed', 'casual',\n",
      "       'registered', 'cnt', 'date'],\n",
      "      dtype='object')\n"
     ]
    }
   ],
   "source": [
    "# Drop the'instant' as the column is just a record index, it is not necessary.\n",
    "df = df.drop(columns=['instant'])\n",
    "\n",
    "# Check the dataset after dropping the column\n",
    "print(\"\\nColumns after dropping 'instant':\")\n",
    "print(df.columns)\n"
   ]
  },
  {
   "cell_type": "markdown",
   "metadata": {},
   "source": [
    "#### Handle Categorical Variables"
   ]
  },
  {
   "cell_type": "code",
   "execution_count": 55,
   "metadata": {},
   "outputs": [
    {
     "name": "stdout",
     "output_type": "stream",
     "text": [
      "\n",
      "Data types after conversion to categorical:\n",
      "season              category\n",
      "yr                  category\n",
      "mnth                category\n",
      "holiday             category\n",
      "weekday             category\n",
      "workingday          category\n",
      "weathersit          category\n",
      "temp                 float64\n",
      "atemp                float64\n",
      "hum                  float64\n",
      "windspeed            float64\n",
      "casual                 int64\n",
      "registered             int64\n",
      "cnt                    int64\n",
      "date          datetime64[ns]\n",
      "dtype: object\n"
     ]
    }
   ],
   "source": [
    "# Convert 'season', 'weathersit', 'weekday', and 'mnth' to categorical data types\n",
    "categorical_columns = ['season', 'weathersit', 'weekday', 'mnth', 'holiday', 'workingday', 'yr']\n",
    "\n",
    "for col in categorical_columns:\n",
    "    df[col] = df[col].astype('category')\n",
    "\n",
    "# Confirm the conversion\n",
    "print(\"\\nData types after conversion to categorical:\")\n",
    "print(df.dtypes)"
   ]
  },
  {
   "cell_type": "markdown",
   "metadata": {},
   "source": [
    "#### Normalize or Scale Data"
   ]
  },
  {
   "cell_type": "code",
   "execution_count": 56,
   "metadata": {},
   "outputs": [],
   "source": [
    "# The data is already normalized, so this step might not be necessary."
   ]
  },
  {
   "cell_type": "markdown",
   "metadata": {},
   "source": [
    "#### Final Inspection"
   ]
  },
  {
   "cell_type": "code",
   "execution_count": 57,
   "metadata": {},
   "outputs": [
    {
     "data": {
      "text/html": [
       "<div>\n",
       "<style scoped>\n",
       "    .dataframe tbody tr th:only-of-type {\n",
       "        vertical-align: middle;\n",
       "    }\n",
       "\n",
       "    .dataframe tbody tr th {\n",
       "        vertical-align: top;\n",
       "    }\n",
       "\n",
       "    .dataframe thead th {\n",
       "        text-align: right;\n",
       "    }\n",
       "</style>\n",
       "<table border=\"1\" class=\"dataframe\">\n",
       "  <thead>\n",
       "    <tr style=\"text-align: right;\">\n",
       "      <th></th>\n",
       "      <th>season</th>\n",
       "      <th>yr</th>\n",
       "      <th>mnth</th>\n",
       "      <th>holiday</th>\n",
       "      <th>weekday</th>\n",
       "      <th>workingday</th>\n",
       "      <th>weathersit</th>\n",
       "      <th>temp</th>\n",
       "      <th>atemp</th>\n",
       "      <th>hum</th>\n",
       "      <th>windspeed</th>\n",
       "      <th>casual</th>\n",
       "      <th>registered</th>\n",
       "      <th>cnt</th>\n",
       "      <th>date</th>\n",
       "    </tr>\n",
       "  </thead>\n",
       "  <tbody>\n",
       "    <tr>\n",
       "      <th>count</th>\n",
       "      <td>701.0</td>\n",
       "      <td>701.0</td>\n",
       "      <td>701.0</td>\n",
       "      <td>701.0</td>\n",
       "      <td>701.0</td>\n",
       "      <td>701.0</td>\n",
       "      <td>701.0</td>\n",
       "      <td>701.000000</td>\n",
       "      <td>701.000000</td>\n",
       "      <td>701.000000</td>\n",
       "      <td>701.000000</td>\n",
       "      <td>701.000000</td>\n",
       "      <td>701.000000</td>\n",
       "      <td>701.000000</td>\n",
       "      <td>701</td>\n",
       "    </tr>\n",
       "    <tr>\n",
       "      <th>unique</th>\n",
       "      <td>4.0</td>\n",
       "      <td>2.0</td>\n",
       "      <td>12.0</td>\n",
       "      <td>2.0</td>\n",
       "      <td>7.0</td>\n",
       "      <td>2.0</td>\n",
       "      <td>3.0</td>\n",
       "      <td>NaN</td>\n",
       "      <td>NaN</td>\n",
       "      <td>NaN</td>\n",
       "      <td>NaN</td>\n",
       "      <td>NaN</td>\n",
       "      <td>NaN</td>\n",
       "      <td>NaN</td>\n",
       "      <td>NaN</td>\n",
       "    </tr>\n",
       "    <tr>\n",
       "      <th>top</th>\n",
       "      <td>3.0</td>\n",
       "      <td>0.0</td>\n",
       "      <td>1.0</td>\n",
       "      <td>0.0</td>\n",
       "      <td>6.0</td>\n",
       "      <td>1.0</td>\n",
       "      <td>1.0</td>\n",
       "      <td>NaN</td>\n",
       "      <td>NaN</td>\n",
       "      <td>NaN</td>\n",
       "      <td>NaN</td>\n",
       "      <td>NaN</td>\n",
       "      <td>NaN</td>\n",
       "      <td>NaN</td>\n",
       "      <td>NaN</td>\n",
       "    </tr>\n",
       "    <tr>\n",
       "      <th>freq</th>\n",
       "      <td>188.0</td>\n",
       "      <td>365.0</td>\n",
       "      <td>62.0</td>\n",
       "      <td>681.0</td>\n",
       "      <td>101.0</td>\n",
       "      <td>480.0</td>\n",
       "      <td>451.0</td>\n",
       "      <td>NaN</td>\n",
       "      <td>NaN</td>\n",
       "      <td>NaN</td>\n",
       "      <td>NaN</td>\n",
       "      <td>NaN</td>\n",
       "      <td>NaN</td>\n",
       "      <td>NaN</td>\n",
       "      <td>NaN</td>\n",
       "    </tr>\n",
       "    <tr>\n",
       "      <th>mean</th>\n",
       "      <td>NaN</td>\n",
       "      <td>NaN</td>\n",
       "      <td>NaN</td>\n",
       "      <td>NaN</td>\n",
       "      <td>NaN</td>\n",
       "      <td>NaN</td>\n",
       "      <td>NaN</td>\n",
       "      <td>0.502732</td>\n",
       "      <td>0.480847</td>\n",
       "      <td>0.625717</td>\n",
       "      <td>0.190534</td>\n",
       "      <td>866.937233</td>\n",
       "      <td>3661.104137</td>\n",
       "      <td>4528.041369</td>\n",
       "      <td>2011-12-17 00:00:00</td>\n",
       "    </tr>\n",
       "    <tr>\n",
       "      <th>min</th>\n",
       "      <td>NaN</td>\n",
       "      <td>NaN</td>\n",
       "      <td>NaN</td>\n",
       "      <td>NaN</td>\n",
       "      <td>NaN</td>\n",
       "      <td>NaN</td>\n",
       "      <td>NaN</td>\n",
       "      <td>0.059130</td>\n",
       "      <td>0.079070</td>\n",
       "      <td>0.000000</td>\n",
       "      <td>0.022392</td>\n",
       "      <td>2.000000</td>\n",
       "      <td>20.000000</td>\n",
       "      <td>22.000000</td>\n",
       "      <td>2011-01-01 00:00:00</td>\n",
       "    </tr>\n",
       "    <tr>\n",
       "      <th>25%</th>\n",
       "      <td>NaN</td>\n",
       "      <td>NaN</td>\n",
       "      <td>NaN</td>\n",
       "      <td>NaN</td>\n",
       "      <td>NaN</td>\n",
       "      <td>NaN</td>\n",
       "      <td>NaN</td>\n",
       "      <td>0.343478</td>\n",
       "      <td>0.348470</td>\n",
       "      <td>0.519167</td>\n",
       "      <td>0.134958</td>\n",
       "      <td>317.000000</td>\n",
       "      <td>2507.000000</td>\n",
       "      <td>3194.000000</td>\n",
       "      <td>2011-06-25 00:00:00</td>\n",
       "    </tr>\n",
       "    <tr>\n",
       "      <th>50%</th>\n",
       "      <td>NaN</td>\n",
       "      <td>NaN</td>\n",
       "      <td>NaN</td>\n",
       "      <td>NaN</td>\n",
       "      <td>NaN</td>\n",
       "      <td>NaN</td>\n",
       "      <td>NaN</td>\n",
       "      <td>0.514167</td>\n",
       "      <td>0.503146</td>\n",
       "      <td>0.623750</td>\n",
       "      <td>0.182221</td>\n",
       "      <td>738.000000</td>\n",
       "      <td>3656.000000</td>\n",
       "      <td>4541.000000</td>\n",
       "      <td>2011-12-17 00:00:00</td>\n",
       "    </tr>\n",
       "    <tr>\n",
       "      <th>75%</th>\n",
       "      <td>NaN</td>\n",
       "      <td>NaN</td>\n",
       "      <td>NaN</td>\n",
       "      <td>NaN</td>\n",
       "      <td>NaN</td>\n",
       "      <td>NaN</td>\n",
       "      <td>NaN</td>\n",
       "      <td>0.660000</td>\n",
       "      <td>0.613025</td>\n",
       "      <td>0.728750</td>\n",
       "      <td>0.233221</td>\n",
       "      <td>1135.000000</td>\n",
       "      <td>4739.000000</td>\n",
       "      <td>6041.000000</td>\n",
       "      <td>2012-06-09 00:00:00</td>\n",
       "    </tr>\n",
       "    <tr>\n",
       "      <th>max</th>\n",
       "      <td>NaN</td>\n",
       "      <td>NaN</td>\n",
       "      <td>NaN</td>\n",
       "      <td>NaN</td>\n",
       "      <td>NaN</td>\n",
       "      <td>NaN</td>\n",
       "      <td>NaN</td>\n",
       "      <td>0.861667</td>\n",
       "      <td>0.840896</td>\n",
       "      <td>0.972500</td>\n",
       "      <td>0.507463</td>\n",
       "      <td>3410.000000</td>\n",
       "      <td>6946.000000</td>\n",
       "      <td>8714.000000</td>\n",
       "      <td>2012-12-01 00:00:00</td>\n",
       "    </tr>\n",
       "    <tr>\n",
       "      <th>std</th>\n",
       "      <td>NaN</td>\n",
       "      <td>NaN</td>\n",
       "      <td>NaN</td>\n",
       "      <td>NaN</td>\n",
       "      <td>NaN</td>\n",
       "      <td>NaN</td>\n",
       "      <td>NaN</td>\n",
       "      <td>0.182781</td>\n",
       "      <td>0.162584</td>\n",
       "      <td>0.141988</td>\n",
       "      <td>0.076740</td>\n",
       "      <td>693.470674</td>\n",
       "      <td>1553.467783</td>\n",
       "      <td>1939.766889</td>\n",
       "      <td>NaN</td>\n",
       "    </tr>\n",
       "  </tbody>\n",
       "</table>\n",
       "</div>"
      ],
      "text/plain": [
       "        season     yr   mnth  holiday  weekday  workingday  weathersit  \\\n",
       "count    701.0  701.0  701.0    701.0    701.0       701.0       701.0   \n",
       "unique     4.0    2.0   12.0      2.0      7.0         2.0         3.0   \n",
       "top        3.0    0.0    1.0      0.0      6.0         1.0         1.0   \n",
       "freq     188.0  365.0   62.0    681.0    101.0       480.0       451.0   \n",
       "mean       NaN    NaN    NaN      NaN      NaN         NaN         NaN   \n",
       "min        NaN    NaN    NaN      NaN      NaN         NaN         NaN   \n",
       "25%        NaN    NaN    NaN      NaN      NaN         NaN         NaN   \n",
       "50%        NaN    NaN    NaN      NaN      NaN         NaN         NaN   \n",
       "75%        NaN    NaN    NaN      NaN      NaN         NaN         NaN   \n",
       "max        NaN    NaN    NaN      NaN      NaN         NaN         NaN   \n",
       "std        NaN    NaN    NaN      NaN      NaN         NaN         NaN   \n",
       "\n",
       "              temp       atemp         hum   windspeed       casual  \\\n",
       "count   701.000000  701.000000  701.000000  701.000000   701.000000   \n",
       "unique         NaN         NaN         NaN         NaN          NaN   \n",
       "top            NaN         NaN         NaN         NaN          NaN   \n",
       "freq           NaN         NaN         NaN         NaN          NaN   \n",
       "mean      0.502732    0.480847    0.625717    0.190534   866.937233   \n",
       "min       0.059130    0.079070    0.000000    0.022392     2.000000   \n",
       "25%       0.343478    0.348470    0.519167    0.134958   317.000000   \n",
       "50%       0.514167    0.503146    0.623750    0.182221   738.000000   \n",
       "75%       0.660000    0.613025    0.728750    0.233221  1135.000000   \n",
       "max       0.861667    0.840896    0.972500    0.507463  3410.000000   \n",
       "std       0.182781    0.162584    0.141988    0.076740   693.470674   \n",
       "\n",
       "         registered          cnt                 date  \n",
       "count    701.000000   701.000000                  701  \n",
       "unique          NaN          NaN                  NaN  \n",
       "top             NaN          NaN                  NaN  \n",
       "freq            NaN          NaN                  NaN  \n",
       "mean    3661.104137  4528.041369  2011-12-17 00:00:00  \n",
       "min       20.000000    22.000000  2011-01-01 00:00:00  \n",
       "25%     2507.000000  3194.000000  2011-06-25 00:00:00  \n",
       "50%     3656.000000  4541.000000  2011-12-17 00:00:00  \n",
       "75%     4739.000000  6041.000000  2012-06-09 00:00:00  \n",
       "max     6946.000000  8714.000000  2012-12-01 00:00:00  \n",
       "std     1553.467783  1939.766889                  NaN  "
      ]
     },
     "execution_count": 57,
     "metadata": {},
     "output_type": "execute_result"
    }
   ],
   "source": [
    "# Tthe first five rows\n",
    "df.head()\n",
    "\n",
    "# Summary of the dataset\n",
    "df.describe(include='all')"
   ]
  },
  {
   "cell_type": "markdown",
   "metadata": {},
   "source": [
    "### Part 2 - Task 2 Visualise rentals of bikes per day."
   ]
  },
  {
   "cell_type": "code",
   "execution_count": 58,
   "metadata": {},
   "outputs": [],
   "source": [
    "df.set_index('date', inplace=True)\n",
    "daily_rentals = df.cnt"
   ]
  },
  {
   "cell_type": "code",
   "execution_count": 59,
   "metadata": {},
   "outputs": [
    {
     "data": {
      "image/png": "[encoded data removed]",
      "text/plain": [
       "<Figure size 1200x600 with 1 Axes>"
      ]
     },
     "metadata": {},
     "output_type": "display_data"
    }
   ],
   "source": [
    "import matplotlib.pyplot as plt\n",
    "\n",
    "# Plot\n",
    "plt.figure(figsize=(12, 6))\n",
    "daily_rentals.plot(kind='line', color='g', linestyle='-', marker='o')\n",
    "plt.title('Bike Rentals Per Day')\n",
    "plt.xlabel('Date')\n",
    "plt.ylabel('Number of Rentals')\n",
    "plt.grid(True)\n",
    "plt.xticks(rotation=45)\n",
    "plt.tight_layout()\n",
    "plt.show()\n"
   ]
  },
  {
   "cell_type": "code",
   "execution_count": 60,
   "metadata": {},
   "outputs": [],
   "source": [
    "df.reset_index('date', inplace=True)\n",
    "# df"
   ]
  },
  {
   "cell_type": "code",
   "execution_count": 61,
   "metadata": {},
   "outputs": [
    {
     "data": {
      "application/vnd.plotly.v1+json": {
       "config": {
        "plotlyServerURL": "https://plot.ly"
       },
       "data": [
        {
         "colorscale": [
          [
           0,
           "rgb(247,252,245)"
          ],
          [
           0.125,
           "rgb(229,245,224)"
          ],
          [
           0.25,
           "rgb(199,233,192)"
          ],
          [
           0.375,
           "rgb(161,217,155)"
          ],
          [
           0.5,
           "rgb(116,196,118)"
          ],
          [
           0.625,
           "rgb(65,171,93)"
          ],
          [
           0.75,
           "rgb(35,139,69)"
          ],
          [
           0.875,
           "rgb(0,109,44)"
          ],
          [
           1,
           "rgb(0,68,27)"
          ]
         ],
         "customdata": [
          [
           "2011-01-01",
           "y"
          ],
          [
           "2011-01-02",
           "y"
          ],
          [
           "2011-01-03",
           "y"
          ],
          [
           "2011-01-04",
           "y"
          ],
          [
           "2011-01-05",
           "y"
          ],
          [
           "2011-01-06",
           "y"
          ],
          [
           "2011-01-07",
           "y"
          ],
          [
           "2011-01-08",
           "y"
          ],
          [
           "2011-01-09",
           "y"
          ],
          [
           "2011-01-10",
           "y"
          ],
          [
           "2011-01-11",
           "y"
          ],
          [
           "2011-01-12",
           "y"
          ],
          [
           "2011-01-13",
           "y"
          ],
          [
           "2011-01-14",
           "y"
          ],
          [
           "2011-01-15",
           "y"
          ],
          [
           "2011-01-16",
           "y"
          ],
          [
           "2011-01-17",
           "y"
          ],
          [
           "2011-01-18",
           "y"
          ],
          [
           "2011-01-19",
           "y"
          ],
          [
           "2011-01-20",
           "y"
          ],
          [
           "2011-01-21",
           "y"
          ],
          [
           "2011-01-22",
           "y"
          ],
          [
           "2011-01-23",
           "y"
          ],
          [
           "2011-01-24",
           "y"
          ],
          [
           "2011-01-25",
           "y"
          ],
          [
           "2011-01-26",
           "y"
          ],
          [
           "2011-01-27",
           "y"
          ],
          [
           "2011-01-28",
           "y"
          ],
          [
           "2011-01-29",
           "y"
          ],
          [
           "2011-01-30",
           "y"
          ],
          [
           "2011-01-31",
           "y"
          ],
          [
           "2011-02-01",
           "y"
          ],
          [
           "2011-02-02",
           "y"
          ],
          [
           "2011-02-03",
           "y"
          ],
          [
           "2011-02-04",
           "y"
          ],
          [
           "2011-02-05",
           "y"
          ],
          [
           "2011-02-06",
           "y"
          ],
          [
           "2011-02-07",
           "y"
          ],
          [
           "2011-02-08",
           "y"
          ],
          [
           "2011-02-09",
           "y"
          ],
          [
           "2011-02-10",
           "y"
          ],
          [
           "2011-02-11",
           "y"
          ],
          [
           "2011-02-12",
           "y"
          ],
          [
           "2011-02-13",
           "y"
          ],
          [
           "2011-02-14",
           "y"
          ],
          [
           "2011-02-15",
           "y"
          ],
          [
           "2011-02-16",
           "y"
          ],
          [
           "2011-02-17",
           "y"
          ],
          [
           "2011-02-18",
           "y"
          ],
          [
           "2011-02-19",
           "y"
          ],
          [
           "2011-02-20",
           "y"
          ],
          [
           "2011-02-21",
           "y"
          ],
          [
           "2011-02-22",
           "y"
          ],
          [
           "2011-02-23",
           "y"
          ],
          [
           "2011-02-24",
           "y"
          ],
          [
           "2011-02-25",
           "y"
          ],
          [
           "2011-02-26",
           "y"
          ],
          [
           "2011-02-27",
           "y"
          ],
          [
           "2011-02-28",
           "y"
          ],
          [
           "2011-03-01",
           "y"
          ],
          [
           "2011-03-02",
           "y"
          ],
          [
           "2011-03-03",
           "y"
          ],
          [
           "2011-03-04",
           "y"
          ],
          [
           "2011-03-05",
           "y"
          ],
          [
           "2011-03-06",
           "y"
          ],
          [
           "2011-03-07",
           "y"
          ],
          [
           "2011-03-08",
           "y"
          ],
          [
           "2011-03-09",
           "y"
          ],
          [
           "2011-03-10",
           "y"
          ],
          [
           "2011-03-11",
           "y"
          ],
          [
           "2011-03-12",
           "y"
          ],
          [
           "2011-03-13",
           "y"
          ],
          [
           "2011-03-14",
           "y"
          ],
          [
           "2011-03-15",
           "y"
          ],
          [
           "2011-03-16",
           "y"
          ],
          [
           "2011-03-17",
           "y"
          ],
          [
           "2011-03-18",
           "y"
          ],
          [
           "2011-03-19",
           "y"
          ],
          [
           "2011-03-20",
           "y"
          ],
          [
           "2011-03-21",
           "y"
          ],
          [
           "2011-03-22",
           "y"
          ],
          [
           "2011-03-23",
           "y"
          ],
          [
           "2011-03-24",
           "y"
          ],
          [
           "2011-03-25",
           "y"
          ],
          [
           "2011-03-26",
           "y"
          ],
          [
           "2011-03-27",
           "y"
          ],
          [
           "2011-03-28",
           "y"
          ],
          [
           "2011-03-29",
           "y"
          ],
          [
           "2011-03-30",
           "y"
          ],
          [
           "2011-03-31",
           "y"
          ],
          [
           "2011-04-01",
           "y"
          ],
          [
           "2011-04-02",
           "y"
          ],
          [
           "2011-04-03",
           "y"
          ],
          [
           "2011-04-04",
           "y"
          ],
          [
           "2011-04-05",
           "y"
          ],
          [
           "2011-04-06",
           "y"
          ],
          [
           "2011-04-07",
           "y"
          ],
          [
           "2011-04-08",
           "y"
          ],
          [
           "2011-04-09",
           "y"
          ],
          [
           "2011-04-10",
           "y"
          ],
          [
           "2011-04-11",
           "y"
          ],
          [
           "2011-04-12",
           "y"
          ],
          [
           "2011-04-13",
           "y"
          ],
          [
           "2011-04-14",
           "y"
          ],
          [
           "2011-04-15",
           "y"
          ],
          [
           "2011-04-16",
           "y"
          ],
          [
           "2011-04-17",
           "y"
          ],
          [
           "2011-04-18",
           "y"
          ],
          [
           "2011-04-19",
           "y"
          ],
          [
           "2011-04-20",
           "y"
          ],
          [
           "2011-04-21",
           "y"
          ],
          [
           "2011-04-22",
           "y"
          ],
          [
           "2011-04-23",
           "y"
          ],
          [
           "2011-04-24",
           "y"
          ],
          [
           "2011-04-25",
           "y"
          ],
          [
           "2011-04-26",
           "y"
          ],
          [
           "2011-04-27",
           "y"
          ],
          [
           "2011-04-28",
           "y"
          ],
          [
           "2011-04-29",
           "y"
          ],
          [
           "2011-04-30",
           "y"
          ],
          [
           "2011-05-01",
           "y"
          ],
          [
           "2011-05-02",
           "y"
          ],
          [
           "2011-05-03",
           "y"
          ],
          [
           "2011-05-04",
           "y"
          ],
          [
           "2011-05-05",
           "y"
          ],
          [
           "2011-05-06",
           "y"
          ],
          [
           "2011-05-07",
           "y"
          ],
          [
           "2011-05-08",
           "y"
          ],
          [
           "2011-05-09",
           "y"
          ],
          [
           "2011-05-10",
           "y"
          ],
          [
           "2011-05-11",
           "y"
          ],
          [
           "2011-05-12",
           "y"
          ],
          [
           "2011-05-13",
           "y"
          ],
          [
           "2011-05-14",
           "y"
          ],
          [
           "2011-05-15",
           "y"
          ],
          [
           "2011-05-16",
           "y"
          ],
          [
           "2011-05-17",
           "y"
          ],
          [
           "2011-05-18",
           "y"
          ],
          [
           "2011-05-19",
           "y"
          ],
          [
           "2011-05-20",
           "y"
          ],
          [
           "2011-05-21",
           "y"
          ],
          [
           "2011-05-22",
           "y"
          ],
          [
           "2011-05-23",
           "y"
          ],
          [
           "2011-05-24",
           "y"
          ],
          [
           "2011-05-25",
           "y"
          ],
          [
           "2011-05-26",
           "y"
          ],
          [
           "2011-05-27",
           "y"
          ],
          [
           "2011-05-28",
           "y"
          ],
          [
           "2011-05-29",
           "y"
          ],
          [
           "2011-05-30",
           "y"
          ],
          [
           "2011-05-31",
           "y"
          ],
          [
           "2011-06-01",
           "y"
          ],
          [
           "2011-06-02",
           "y"
          ],
          [
           "2011-06-03",
           "y"
          ],
          [
           "2011-06-04",
           "y"
          ],
          [
           "2011-06-05",
           "y"
          ],
          [
           "2011-06-06",
           "y"
          ],
          [
           "2011-06-07",
           "y"
          ],
          [
           "2011-06-08",
           "y"
          ],
          [
           "2011-06-09",
           "y"
          ],
          [
           "2011-06-10",
           "y"
          ],
          [
           "2011-06-11",
           "y"
          ],
          [
           "2011-06-12",
           "y"
          ],
          [
           "2011-06-13",
           "y"
          ],
          [
           "2011-06-14",
           "y"
          ],
          [
           "2011-06-15",
           "y"
          ],
          [
           "2011-06-16",
           "y"
          ],
          [
           "2011-06-17",
           "y"
          ],
          [
           "2011-06-18",
           "y"
          ],
          [
           "2011-06-19",
           "y"
          ],
          [
           "2011-06-20",
           "y"
          ],
          [
           "2011-06-21",
           "y"
          ],
          [
           "2011-06-22",
           "y"
          ],
          [
           "2011-06-23",
           "y"
          ],
          [
           "2011-06-24",
           "y"
          ],
          [
           "2011-06-25",
           "y"
          ],
          [
           "2011-06-26",
           "y"
          ],
          [
           "2011-06-27",
           "y"
          ],
          [
           "2011-06-28",
           "y"
          ],
          [
           "2011-06-29",
           "y"
          ],
          [
           "2011-06-30",
           "y"
          ],
          [
           "2011-07-01",
           "y"
          ],
          [
           "2011-07-02",
           "y"
          ],
          [
           "2011-07-03",
           "y"
          ],
          [
           "2011-07-04",
           "y"
          ],
          [
           "2011-07-05",
           "y"
          ],
          [
           "2011-07-06",
           "y"
          ],
          [
           "2011-07-07",
           "y"
          ],
          [
           "2011-07-08",
           "y"
          ],
          [
           "2011-07-09",
           "y"
          ],
          [
           "2011-07-10",
           "y"
          ],
          [
           "2011-07-11",
           "y"
          ],
          [
           "2011-07-12",
           "y"
          ],
          [
           "2011-07-13",
           "y"
          ],
          [
           "2011-07-14",
           "y"
          ],
          [
           "2011-07-15",
           "y"
          ],
          [
           "2011-07-16",
           "y"
          ],
          [
           "2011-07-17",
           "y"
          ],
          [
           "2011-07-18",
           "y"
          ],
          [
           "2011-07-19",
           "y"
          ],
          [
           "2011-07-20",
           "y"
          ],
          [
           "2011-07-21",
           "y"
          ],
          [
           "2011-07-22",
           "y"
          ],
          [
           "2011-07-23",
           "y"
          ],
          [
           "2011-07-24",
           "y"
          ],
          [
           "2011-07-25",
           "y"
          ],
          [
           "2011-07-26",
           "y"
          ],
          [
           "2011-07-27",
           "y"
          ],
          [
           "2011-07-28",
           "y"
          ],
          [
           "2011-07-29",
           "y"
          ],
          [
           "2011-07-30",
           "y"
          ],
          [
           "2011-07-31",
           "y"
          ],
          [
           "2011-08-01",
           "y"
          ],
          [
           "2011-08-02",
           "y"
          ],
          [
           "2011-08-03",
           "y"
          ],
          [
           "2011-08-04",
           "y"
          ],
          [
           "2011-08-05",
           "y"
          ],
          [
           "2011-08-06",
           "y"
          ],
          [
           "2011-08-07",
           "y"
          ],
          [
           "2011-08-08",
           "y"
          ],
          [
           "2011-08-09",
           "y"
          ],
          [
           "2011-08-10",
           "y"
          ],
          [
           "2011-08-11",
           "y"
          ],
          [
           "2011-08-12",
           "y"
          ],
          [
           "2011-08-13",
           "y"
          ],
          [
           "2011-08-14",
           "y"
          ],
          [
           "2011-08-15",
           "y"
          ],
          [
           "2011-08-16",
           "y"
          ],
          [
           "2011-08-17",
           "y"
          ],
          [
           "2011-08-18",
           "y"
          ],
          [
           "2011-08-19",
           "y"
          ],
          [
           "2011-08-20",
           "y"
          ],
          [
           "2011-08-21",
           "y"
          ],
          [
           "2011-08-22",
           "y"
          ],
          [
           "2011-08-23",
           "y"
          ],
          [
           "2011-08-24",
           "y"
          ],
          [
           "2011-08-25",
           "y"
          ],
          [
           "2011-08-26",
           "y"
          ],
          [
           "2011-08-27",
           "y"
          ],
          [
           "2011-08-28",
           "y"
          ],
          [
           "2011-08-29",
           "y"
          ],
          [
           "2011-08-30",
           "y"
          ],
          [
           "2011-08-31",
           "y"
          ],
          [
           "2011-09-01",
           "y"
          ],
          [
           "2011-09-02",
           "y"
          ],
          [
           "2011-09-03",
           "y"
          ],
          [
           "2011-09-04",
           "y"
          ],
          [
           "2011-09-05",
           "y"
          ],
          [
           "2011-09-06",
           "y"
          ],
          [
           "2011-09-07",
           "y"
          ],
          [
           "2011-09-08",
           "y"
          ],
          [
           "2011-09-09",
           "y"
          ],
          [
           "2011-09-10",
           "y"
          ],
          [
           "2011-09-11",
           "y"
          ],
          [
           "2011-09-12",
           "y"
          ],
          [
           "2011-09-13",
           "y"
          ],
          [
           "2011-09-14",
           "y"
          ],
          [
           "2011-09-15",
           "y"
          ],
          [
           "2011-09-16",
           "y"
          ],
          [
           "2011-09-17",
           "y"
          ],
          [
           "2011-09-18",
           "y"
          ],
          [
           "2011-09-19",
           "y"
          ],
          [
           "2011-09-20",
           "y"
          ],
          [
           "2011-09-21",
           "y"
          ],
          [
           "2011-09-22",
           "y"
          ],
          [
           "2011-09-23",
           "y"
          ],
          [
           "2011-09-24",
           "y"
          ],
          [
           "2011-09-25",
           "y"
          ],
          [
           "2011-09-26",
           "y"
          ],
          [
           "2011-09-27",
           "y"
          ],
          [
           "2011-09-28",
           "y"
          ],
          [
           "2011-09-29",
           "y"
          ],
          [
           "2011-09-30",
           "y"
          ],
          [
           "2011-10-01",
           "y"
          ],
          [
           "2011-10-02",
           "y"
          ],
          [
           "2011-10-03",
           "y"
          ],
          [
           "2011-10-04",
           "y"
          ],
          [
           "2011-10-05",
           "y"
          ],
          [
           "2011-10-06",
           "y"
          ],
          [
           "2011-10-07",
           "y"
          ],
          [
           "2011-10-08",
           "y"
          ],
          [
           "2011-10-09",
           "y"
          ],
          [
           "2011-10-10",
           "y"
          ],
          [
           "2011-10-11",
           "y"
          ],
          [
           "2011-10-12",
           "y"
          ],
          [
           "2011-10-13",
           "y"
          ],
          [
           "2011-10-14",
           "y"
          ],
          [
           "2011-10-15",
           "y"
          ],
          [
           "2011-10-16",
           "y"
          ],
          [
           "2011-10-17",
           "y"
          ],
          [
           "2011-10-18",
           "y"
          ],
          [
           "2011-10-19",
           "y"
          ],
          [
           "2011-10-20",
           "y"
          ],
          [
           "2011-10-21",
           "y"
          ],
          [
           "2011-10-22",
           "y"
          ],
          [
           "2011-10-23",
           "y"
          ],
          [
           "2011-10-24",
           "y"
          ],
          [
           "2011-10-25",
           "y"
          ],
          [
           "2011-10-26",
           "y"
          ],
          [
           "2011-10-27",
           "y"
          ],
          [
           "2011-10-28",
           "y"
          ],
          [
           "2011-10-29",
           "y"
          ],
          [
           "2011-10-30",
           "y"
          ],
          [
           "2011-10-31",
           "y"
          ],
          [
           "2011-11-01",
           "y"
          ],
          [
           "2011-11-02",
           "y"
          ],
          [
           "2011-11-03",
           "y"
          ],
          [
           "2011-11-04",
           "y"
          ],
          [
           "2011-11-05",
           "y"
          ],
          [
           "2011-11-06",
           "y"
          ],
          [
           "2011-11-07",
           "y"
          ],
          [
           "2011-11-08",
           "y"
          ],
          [
           "2011-11-09",
           "y"
          ],
          [
           "2011-11-10",
           "y"
          ],
          [
           "2011-11-11",
           "y"
          ],
          [
           "2011-11-12",
           "y"
          ],
          [
           "2011-11-13",
           "y"
          ],
          [
           "2011-11-14",
           "y"
          ],
          [
           "2011-11-15",
           "y"
          ],
          [
           "2011-11-16",
           "y"
          ],
          [
           "2011-11-17",
           "y"
          ],
          [
           "2011-11-18",
           "y"
          ],
          [
           "2011-11-19",
           "y"
          ],
          [
           "2011-11-20",
           "y"
          ],
          [
           "2011-11-21",
           "y"
          ],
          [
           "2011-11-22",
           "y"
          ],
          [
           "2011-11-23",
           "y"
          ],
          [
           "2011-11-24",
           "y"
          ],
          [
           "2011-11-25",
           "y"
          ],
          [
           "2011-11-26",
           "y"
          ],
          [
           "2011-11-27",
           "y"
          ],
          [
           "2011-11-28",
           "y"
          ],
          [
           "2011-11-29",
           "y"
          ],
          [
           "2011-11-30",
           "y"
          ],
          [
           "2011-12-01",
           "y"
          ],
          [
           "2011-12-02",
           "y"
          ],
          [
           "2011-12-03",
           "y"
          ],
          [
           "2011-12-04",
           "y"
          ],
          [
           "2011-12-05",
           "y"
          ],
          [
           "2011-12-06",
           "y"
          ],
          [
           "2011-12-07",
           "y"
          ],
          [
           "2011-12-08",
           "y"
          ],
          [
           "2011-12-09",
           "y"
          ],
          [
           "2011-12-10",
           "y"
          ],
          [
           "2011-12-11",
           "y"
          ],
          [
           "2011-12-12",
           "y"
          ],
          [
           "2011-12-13",
           "y"
          ],
          [
           "2011-12-14",
           "y"
          ],
          [
           "2011-12-15",
           "y"
          ],
          [
           "2011-12-16",
           "y"
          ],
          [
           "2011-12-17",
           "y"
          ],
          [
           "2011-12-18",
           "y"
          ],
          [
           "2011-12-19",
           "y"
          ],
          [
           "2011-12-20",
           "y"
          ],
          [
           "2011-12-21",
           "y"
          ],
          [
           "2011-12-22",
           "y"
          ],
          [
           "2011-12-23",
           "y"
          ],
          [
           "2011-12-24",
           "y"
          ],
          [
           "2011-12-25",
           "y"
          ],
          [
           "2011-12-26",
           "y"
          ],
          [
           "2011-12-27",
           "y"
          ],
          [
           "2011-12-28",
           "y"
          ],
          [
           "2011-12-29",
           "y"
          ],
          [
           "2011-12-30",
           "y"
          ],
          [
           "2011-12-31",
           "y"
          ]
         ],
         "hovertemplate": "%{customdata[0]} <br>Week=%{x} <br>%{customdata[1]}=%{z}",
         "name": "2011",
         "showscale": false,
         "type": "heatmap",
         "x": [
          0,
          0,
          1,
          1,
          1,
          1,
          1,
          1,
          1,
          2,
          2,
          2,
          2,
          2,
          2,
          2,
          3,
          3,
          3,
          3,
          3,
          3,
          3,
          4,
          4,
          4,
          4,
          4,
          4,
          4,
          5,
          5,
          5,
          5,
          5,
          5,
          5,
          6,
          6,
          6,
          6,
          6,
          6,
          6,
          7,
          7,
          7,
          7,
          7,
          7,
          7,
          8,
          8,
          8,
          8,
          8,
          8,
          8,
          9,
          9,
          9,
          9,
          9,
          9,
          9,
          10,
          10,
          10,
          10,
          10,
          10,
          10,
          11,
          11,
          11,
          11,
          11,
          11,
          11,
          12,
          12,
          12,
          12,
          12,
          12,
          12,
          13,
          13,
          13,
          13,
          13,
          13,
          13,
          14,
          14,
          14,
          14,
          14,
          14,
          14,
          15,
          15,
          15,
          15,
          15,
          15,
          15,
          16,
          16,
          16,
          16,
          16,
          16,
          16,
          17,
          17,
          17,
          17,
          17,
          17,
          17,
          18,
          18,
          18,
          18,
          18,
          18,
          18,
          19,
          19,
          19,
          19,
          19,
          19,
          19,
          20,
          20,
          20,
          20,
          20,
          20,
          20,
          21,
          21,
          21,
          21,
          21,
          21,
          21,
          22,
          22,
          22,
          22,
          22,
          22,
          22,
          23,
          23,
          23,
          23,
          23,
          23,
          23,
          24,
          24,
          24,
          24,
          24,
          24,
          24,
          25,
          25,
          25,
          25,
          25,
          25,
          25,
          26,
          26,
          26,
          26,
          26,
          26,
          26,
          27,
          27,
          27,
          27,
          27,
          27,
          27,
          28,
          28,
          28,
          28,
          28,
          28,
          28,
          29,
          29,
          29,
          29,
          29,
          29,
          29,
          30,
          30,
          30,
          30,
          30,
          30,
          30,
          31,
          31,
          31,
          31,
          31,
          31,
          31,
          32,
          32,
          32,
          32,
          32,
          32,
          32,
          33,
          33,
          33,
          33,
          33,
          33,
          33,
          34,
          34,
          34,
          34,
          34,
          34,
          34,
          35,
          35,
          35,
          35,
          35,
          35,
          35,
          36,
          36,
          36,
          36,
          36,
          36,
          36,
          37,
          37,
          37,
          37,
          37,
          37,
          37,
          38,
          38,
          38,
          38,
          38,
          38,
          38,
          39,
          39,
          39,
          39,
          39,
          39,
          39,
          40,
          40,
          40,
          40,
          40,
          40,
          40,
          41,
          41,
          41,
          41,
          41,
          41,
          41,
          42,
          42,
          42,
          42,
          42,
          42,
          42,
          43,
          43,
          43,
          43,
          43,
          43,
          43,
          44,
          44,
          44,
          44,
          44,
          44,
          44,
          45,
          45,
          45,
          45,
          45,
          45,
          45,
          46,
          46,
          46,
          46,
          46,
          46,
          46,
          47,
          47,
          47,
          47,
          47,
          47,
          47,
          48,
          48,
          48,
          48,
          48,
          48,
          48,
          49,
          49,
          49,
          49,
          49,
          49,
          49,
          50,
          50,
          50,
          50,
          50,
          50,
          50,
          51,
          51,
          51,
          51,
          51,
          51,
          51,
          52,
          52,
          52,
          52,
          52,
          52
         ],
         "xaxis": "x",
         "xgap": 1,
         "y": [
          5,
          6,
          0,
          1,
          2,
          3,
          4,
          5,
          6,
          0,
          1,
          2,
          3,
          4,
          5,
          6,
          0,
          1,
          2,
          3,
          4,
          5,
          6,
          0,
          1,
          2,
          3,
          4,
          5,
          6,
          0,
          1,
          2,
          3,
          4,
          5,
          6,
          0,
          1,
          2,
          3,
          4,
          5,
          6,
          0,
          1,
          2,
          3,
          4,
          5,
          6,
          0,
          1,
          2,
          3,
          4,
          5,
          6,
          0,
          1,
          2,
          3,
          4,
          5,
          6,
          0,
          1,
          2,
          3,
          4,
          5,
          6,
          0,
          1,
          2,
          3,
          4,
          5,
          6,
          0,
          1,
          2,
          3,
          4,
          5,
          6,
          0,
          1,
          2,
          3,
          4,
          5,
          6,
          0,
          1,
          2,
          3,
          4,
          5,
          6,
          0,
          1,
          2,
          3,
          4,
          5,
          6,
          0,
          1,
          2,
          3,
          4,
          5,
          6,
          0,
          1,
          2,
          3,
          4,
          5,
          6,
          0,
          1,
          2,
          3,
          4,
          5,
          6,
          0,
          1,
          2,
          3,
          4,
          5,
          6,
          0,
          1,
          2,
          3,
          4,
          5,
          6,
          0,
          1,
          2,
          3,
          4,
          5,
          6,
          0,
          1,
          2,
          3,
          4,
          5,
          6,
          0,
          1,
          2,
          3,
          4,
          5,
          6,
          0,
          1,
          2,
          3,
          4,
          5,
          6,
          0,
          1,
          2,
          3,
          4,
          5,
          6,
          0,
          1,
          2,
          3,
          4,
          5,
          6,
          0,
          1,
          2,
          3,
          4,
          5,
          6,
          0,
          1,
          2,
          3,
          4,
          5,
          6,
          0,
          1,
          2,
          3,
          4,
          5,
          6,
          0,
          1,
          2,
          3,
          4,
          5,
          6,
          0,
          1,
          2,
          3,
          4,
          5,
          6,
          0,
          1,
          2,
          3,
          4,
          5,
          6,
          0,
          1,
          2,
          3,
          4,
          5,
          6,
          0,
          1,
          2,
          3,
          4,
          5,
          6,
          0,
          1,
          2,
          3,
          4,
          5,
          6,
          0,
          1,
          2,
          3,
          4,
          5,
          6,
          0,
          1,
          2,
          3,
          4,
          5,
          6,
          0,
          1,
          2,
          3,
          4,
          5,
          6,
          0,
          1,
          2,
          3,
          4,
          5,
          6,
          0,
          1,
          2,
          3,
          4,
          5,
          6,
          0,
          1,
          2,
          3,
          4,
          5,
          6,
          0,
          1,
          2,
          3,
          4,
          5,
          6,
          0,
          1,
          2,
          3,
          4,
          5,
          6,
          0,
          1,
          2,
          3,
          4,
          5,
          6,
          0,
          1,
          2,
          3,
          4,
          5,
          6,
          0,
          1,
          2,
          3,
          4,
          5,
          6,
          0,
          1,
          2,
          3,
          4,
          5,
          6,
          0,
          1,
          2,
          3,
          4,
          5,
          6,
          0,
          1,
          2,
          3,
          4,
          5,
          6,
          0,
          1,
          2,
          3,
          4,
          5,
          6,
          0,
          1,
          2,
          3,
          4,
          5,
          6,
          0,
          1,
          2,
          3,
          4,
          5
         ],
         "yaxis": "y",
         "ygap": 1,
         "z": [
          985,
          801,
          1349,
          1562,
          1600,
          1606,
          1510,
          959,
          822,
          1321,
          1263,
          1162,
          1406,
          1421,
          1248,
          1204,
          1000,
          683,
          1650,
          1927,
          1543,
          981,
          986,
          1416,
          1985,
          506,
          431,
          1167,
          1098,
          1096,
          1501,
          1360,
          1526,
          1550,
          1708,
          1005,
          1623,
          1712,
          1530,
          1605,
          1538,
          1746,
          1472,
          1589,
          1913,
          1815,
          2115,
          2475,
          2927,
          1635,
          1812,
          1107,
          1450,
          1917,
          1807,
          1461,
          1969,
          2402,
          1446,
          1851,
          2134,
          1685,
          1944,
          2077,
          605,
          1872,
          2133,
          1891,
          623,
          1977,
          2132,
          2417,
          2046,
          2056,
          2192,
          2744,
          3239,
          3117,
          2471,
          2077,
          2703,
          2121,
          1865,
          2210,
          2496,
          1693,
          2028,
          2425,
          1536,
          1685,
          2227,
          2252,
          3249,
          3115,
          1795,
          2808,
          3141,
          1471,
          2455,
          2895,
          3348,
          2034,
          2162,
          3267,
          3126,
          795,
          3744,
          3429,
          3204,
          3944,
          4189,
          1683,
          4036,
          4191,
          4073,
          4400,
          3872,
          4058,
          4595,
          5312,
          3351,
          4401,
          4451,
          2633,
          4433,
          4608,
          4714,
          4333,
          4362,
          4803,
          4182,
          4864,
          4105,
          3409,
          4553,
          3958,
          4123,
          3855,
          4575,
          4917,
          5805,
          4660,
          4274,
          4492,
          4978,
          4677,
          4679,
          4758,
          4788,
          4098,
          3982,
          3974,
          4968,
          5312,
          5342,
          4906,
          4548,
          4833,
          4401,
          3915,
          4586,
          4966,
          4460,
          5020,
          4891,
          5180,
          3767,
          4844,
          5119,
          4744,
          4010,
          4835,
          4507,
          4790,
          4991,
          5202,
          5305,
          4708,
          4648,
          5225,
          5515,
          5362,
          5119,
          4649,
          6043,
          4665,
          4629,
          4592,
          4040,
          5336,
          4881,
          4086,
          4258,
          4342,
          5084,
          5538,
          5923,
          5302,
          4458,
          4541,
          4332,
          3784,
          3387,
          3285,
          3606,
          3840,
          4590,
          4656,
          4390,
          3846,
          4475,
          4302,
          4266,
          4845,
          3574,
          4576,
          4866,
          4294,
          3785,
          4326,
          4602,
          4780,
          4792,
          4905,
          4150,
          3820,
          4338,
          4725,
          4694,
          3805,
          4153,
          5191,
          3873,
          4758,
          5895,
          5130,
          3542,
          4661,
          1115,
          4334,
          4634,
          5204,
          5058,
          5115,
          4727,
          4484,
          4940,
          3351,
          2710,
          1996,
          1842,
          3544,
          5345,
          5046,
          4713,
          4763,
          4785,
          3659,
          4760,
          4511,
          4274,
          4539,
          3641,
          4352,
          4795,
          2395,
          5423,
          5010,
          4630,
          4120,
          3907,
          4839,
          5202,
          2429,
          2918,
          3570,
          4456,
          4826,
          4765,
          4985,
          5409,
          5511,
          5117,
          4563,
          2416,
          2913,
          3644,
          5217,
          5041,
          4570,
          4748,
          2424,
          4195,
          4304,
          4308,
          4381,
          4187,
          4687,
          3894,
          2659,
          3747,
          627,
          3331,
          3669,
          4068,
          4186,
          3974,
          4046,
          3926,
          3649,
          4035,
          4205,
          4109,
          2933,
          3368,
          4067,
          3717,
          4486,
          4195,
          1817,
          3053,
          3392,
          3663,
          3520,
          2765,
          1607,
          2566,
          1495,
          2792,
          3068,
          3071,
          3867,
          2914,
          3613,
          3727,
          3940,
          3614,
          3485,
          3811,
          2594,
          705,
          3322,
          3620,
          3190,
          2743,
          3310,
          3523,
          3740,
          3709,
          3577,
          2739,
          2431,
          3403,
          3750,
          2660,
          3068,
          2209,
          1011,
          754,
          1317,
          1162,
          2302,
          2423,
          2999,
          2485
         ],
         "zmax": 8714,
         "zmin": 22
        },
        {
         "hoverinfo": "skip",
         "line": {
          "color": "#9e9e9e",
          "width": 1
         },
         "mode": "lines",
         "type": "scatter",
         "x": [
          -0.5,
          -0.5
         ],
         "xaxis": "x",
         "y": [
          4.5,
          6.5
         ],
         "yaxis": "y"
        },
        {
         "hoverinfo": "skip",
         "line": {
          "color": "#9e9e9e",
          "width": 1
         },
         "mode": "lines",
         "type": "scatter",
         "x": [
          -0.5,
          0.5
         ],
         "xaxis": "x",
         "y": [
          4.5,
          4.5
         ],
         "yaxis": "y"
        },
        {
         "hoverinfo": "skip",
         "line": {
          "color": "#9e9e9e",
          "width": 1
         },
         "mode": "lines",
         "type": "scatter",
         "x": [
          0.5,
          0.5
         ],
         "xaxis": "x",
         "y": [
          4.5,
          -0.5
         ],
         "yaxis": "y"
        },
        {
         "hoverinfo": "skip",
         "line": {
          "color": "#9e9e9e",
          "width": 1
         },
         "mode": "lines",
         "type": "scatter",
         "x": [
          4.5,
          4.5
         ],
         "xaxis": "x",
         "y": [
          0.5,
          6.5
         ],
         "yaxis": "y"
        },
        {
         "hoverinfo": "skip",
         "line": {
          "color": "#9e9e9e",
          "width": 1
         },
         "mode": "lines",
         "type": "scatter",
         "x": [
          4.5,
          5.5
         ],
         "xaxis": "x",
         "y": [
          0.5,
          0.5
         ],
         "yaxis": "y"
        },
        {
         "hoverinfo": "skip",
         "line": {
          "color": "#9e9e9e",
          "width": 1
         },
         "mode": "lines",
         "type": "scatter",
         "x": [
          5.5,
          5.5
         ],
         "xaxis": "x",
         "y": [
          0.5,
          -0.5
         ],
         "yaxis": "y"
        },
        {
         "hoverinfo": "skip",
         "line": {
          "color": "#9e9e9e",
          "width": 1
         },
         "mode": "lines",
         "type": "scatter",
         "x": [
          8.5,
          8.5
         ],
         "xaxis": "x",
         "y": [
          0.5,
          6.5
         ],
         "yaxis": "y"
        },
        {
         "hoverinfo": "skip",
         "line": {
          "color": "#9e9e9e",
          "width": 1
         },
         "mode": "lines",
         "type": "scatter",
         "x": [
          8.5,
          9.5
         ],
         "xaxis": "x",
         "y": [
          0.5,
          0.5
         ],
         "yaxis": "y"
        },
        {
         "hoverinfo": "skip",
         "line": {
          "color": "#9e9e9e",
          "width": 1
         },
         "mode": "lines",
         "type": "scatter",
         "x": [
          9.5,
          9.5
         ],
         "xaxis": "x",
         "y": [
          0.5,
          -0.5
         ],
         "yaxis": "y"
        },
        {
         "hoverinfo": "skip",
         "line": {
          "color": "#9e9e9e",
          "width": 1
         },
         "mode": "lines",
         "type": "scatter",
         "x": [
          12.5,
          12.5
         ],
         "xaxis": "x",
         "y": [
          3.5,
          6.5
         ],
         "yaxis": "y"
        },
        {
         "hoverinfo": "skip",
         "line": {
          "color": "#9e9e9e",
          "width": 1
         },
         "mode": "lines",
         "type": "scatter",
         "x": [
          12.5,
          13.5
         ],
         "xaxis": "x",
         "y": [
          3.5,
          3.5
         ],
         "yaxis": "y"
        },
        {
         "hoverinfo": "skip",
         "line": {
          "color": "#9e9e9e",
          "width": 1
         },
         "mode": "lines",
         "type": "scatter",
         "x": [
          13.5,
          13.5
         ],
         "xaxis": "x",
         "y": [
          3.5,
          -0.5
         ],
         "yaxis": "y"
        },
        {
         "hoverinfo": "skip",
         "line": {
          "color": "#9e9e9e",
          "width": 1
         },
         "mode": "lines",
         "type": "scatter",
         "x": [
          16.5,
          16.5
         ],
         "xaxis": "x",
         "y": [
          5.5,
          6.5
         ],
         "yaxis": "y"
        },
        {
         "hoverinfo": "skip",
         "line": {
          "color": "#9e9e9e",
          "width": 1
         },
         "mode": "lines",
         "type": "scatter",
         "x": [
          16.5,
          17.5
         ],
         "xaxis": "x",
         "y": [
          5.5,
          5.5
         ],
         "yaxis": "y"
        },
        {
         "hoverinfo": "skip",
         "line": {
          "color": "#9e9e9e",
          "width": 1
         },
         "mode": "lines",
         "type": "scatter",
         "x": [
          17.5,
          17.5
         ],
         "xaxis": "x",
         "y": [
          5.5,
          -0.5
         ],
         "yaxis": "y"
        },
        {
         "hoverinfo": "skip",
         "line": {
          "color": "#9e9e9e",
          "width": 1
         },
         "mode": "lines",
         "type": "scatter",
         "x": [
          21.5,
          21.5
         ],
         "xaxis": "x",
         "y": [
          1.5,
          6.5
         ],
         "yaxis": "y"
        },
        {
         "hoverinfo": "skip",
         "line": {
          "color": "#9e9e9e",
          "width": 1
         },
         "mode": "lines",
         "type": "scatter",
         "x": [
          21.5,
          22.5
         ],
         "xaxis": "x",
         "y": [
          1.5,
          1.5
         ],
         "yaxis": "y"
        },
        {
         "hoverinfo": "skip",
         "line": {
          "color": "#9e9e9e",
          "width": 1
         },
         "mode": "lines",
         "type": "scatter",
         "x": [
          22.5,
          22.5
         ],
         "xaxis": "x",
         "y": [
          1.5,
          -0.5
         ],
         "yaxis": "y"
        },
        {
         "hoverinfo": "skip",
         "line": {
          "color": "#9e9e9e",
          "width": 1
         },
         "mode": "lines",
         "type": "scatter",
         "x": [
          25.5,
          25.5
         ],
         "xaxis": "x",
         "y": [
          3.5,
          6.5
         ],
         "yaxis": "y"
        },
        {
         "hoverinfo": "skip",
         "line": {
          "color": "#9e9e9e",
          "width": 1
         },
         "mode": "lines",
         "type": "scatter",
         "x": [
          25.5,
          26.5
         ],
         "xaxis": "x",
         "y": [
          3.5,
          3.5
         ],
         "yaxis": "y"
        },
        {
         "hoverinfo": "skip",
         "line": {
          "color": "#9e9e9e",
          "width": 1
         },
         "mode": "lines",
         "type": "scatter",
         "x": [
          26.5,
          26.5
         ],
         "xaxis": "x",
         "y": [
          3.5,
          -0.5
         ],
         "yaxis": "y"
        },
        {
         "hoverinfo": "skip",
         "line": {
          "color": "#9e9e9e",
          "width": 1
         },
         "mode": "lines",
         "type": "scatter",
         "x": [
          30.5,
          30.5
         ],
         "xaxis": "x",
         "y": [
          -0.5,
          6.5
         ],
         "yaxis": "y"
        },
        {
         "hoverinfo": "skip",
         "line": {
          "color": "#9e9e9e",
          "width": 1
         },
         "mode": "lines",
         "type": "scatter",
         "x": [
          34.5,
          34.5
         ],
         "xaxis": "x",
         "y": [
          2.5,
          6.5
         ],
         "yaxis": "y"
        },
        {
         "hoverinfo": "skip",
         "line": {
          "color": "#9e9e9e",
          "width": 1
         },
         "mode": "lines",
         "type": "scatter",
         "x": [
          34.5,
          35.5
         ],
         "xaxis": "x",
         "y": [
          2.5,
          2.5
         ],
         "yaxis": "y"
        },
        {
         "hoverinfo": "skip",
         "line": {
          "color": "#9e9e9e",
          "width": 1
         },
         "mode": "lines",
         "type": "scatter",
         "x": [
          35.5,
          35.5
         ],
         "xaxis": "x",
         "y": [
          2.5,
          -0.5
         ],
         "yaxis": "y"
        },
        {
         "hoverinfo": "skip",
         "line": {
          "color": "#9e9e9e",
          "width": 1
         },
         "mode": "lines",
         "type": "scatter",
         "x": [
          38.5,
          38.5
         ],
         "xaxis": "x",
         "y": [
          4.5,
          6.5
         ],
         "yaxis": "y"
        },
        {
         "hoverinfo": "skip",
         "line": {
          "color": "#9e9e9e",
          "width": 1
         },
         "mode": "lines",
         "type": "scatter",
         "x": [
          38.5,
          39.5
         ],
         "xaxis": "x",
         "y": [
          4.5,
          4.5
         ],
         "yaxis": "y"
        },
        {
         "hoverinfo": "skip",
         "line": {
          "color": "#9e9e9e",
          "width": 1
         },
         "mode": "lines",
         "type": "scatter",
         "x": [
          39.5,
          39.5
         ],
         "xaxis": "x",
         "y": [
          4.5,
          -0.5
         ],
         "yaxis": "y"
        },
        {
         "hoverinfo": "skip",
         "line": {
          "color": "#9e9e9e",
          "width": 1
         },
         "mode": "lines",
         "type": "scatter",
         "x": [
          43.5,
          43.5
         ],
         "xaxis": "x",
         "y": [
          0.5,
          6.5
         ],
         "yaxis": "y"
        },
        {
         "hoverinfo": "skip",
         "line": {
          "color": "#9e9e9e",
          "width": 1
         },
         "mode": "lines",
         "type": "scatter",
         "x": [
          43.5,
          44.5
         ],
         "xaxis": "x",
         "y": [
          0.5,
          0.5
         ],
         "yaxis": "y"
        },
        {
         "hoverinfo": "skip",
         "line": {
          "color": "#9e9e9e",
          "width": 1
         },
         "mode": "lines",
         "type": "scatter",
         "x": [
          44.5,
          44.5
         ],
         "xaxis": "x",
         "y": [
          0.5,
          -0.5
         ],
         "yaxis": "y"
        },
        {
         "hoverinfo": "skip",
         "line": {
          "color": "#9e9e9e",
          "width": 1
         },
         "mode": "lines",
         "type": "scatter",
         "x": [
          47.5,
          47.5
         ],
         "xaxis": "x",
         "y": [
          2.5,
          6.5
         ],
         "yaxis": "y"
        },
        {
         "hoverinfo": "skip",
         "line": {
          "color": "#9e9e9e",
          "width": 1
         },
         "mode": "lines",
         "type": "scatter",
         "x": [
          47.5,
          48.5
         ],
         "xaxis": "x",
         "y": [
          2.5,
          2.5
         ],
         "yaxis": "y"
        },
        {
         "hoverinfo": "skip",
         "line": {
          "color": "#9e9e9e",
          "width": 1
         },
         "mode": "lines",
         "type": "scatter",
         "x": [
          48.5,
          48.5
         ],
         "xaxis": "x",
         "y": [
          2.5,
          -0.5
         ],
         "yaxis": "y"
        },
        {
         "colorscale": [
          [
           0,
           "rgb(247,252,245)"
          ],
          [
           0.125,
           "rgb(229,245,224)"
          ],
          [
           0.25,
           "rgb(199,233,192)"
          ],
          [
           0.375,
           "rgb(161,217,155)"
          ],
          [
           0.5,
           "rgb(116,196,118)"
          ],
          [
           0.625,
           "rgb(65,171,93)"
          ],
          [
           0.75,
           "rgb(35,139,69)"
          ],
          [
           0.875,
           "rgb(0,109,44)"
          ],
          [
           1,
           "rgb(0,68,27)"
          ]
         ],
         "customdata": [
          [
           "2012-01-01",
           "y"
          ],
          [
           "2012-01-02",
           "y"
          ],
          [
           "2012-01-03",
           "y"
          ],
          [
           "2012-01-04",
           "y"
          ],
          [
           "2012-01-05",
           "y"
          ],
          [
           "2012-01-06",
           "y"
          ],
          [
           "2012-01-07",
           "y"
          ],
          [
           "2012-01-08",
           "y"
          ],
          [
           "2012-01-09",
           "y"
          ],
          [
           "2012-01-10",
           "y"
          ],
          [
           "2012-01-11",
           "y"
          ],
          [
           "2012-01-12",
           "y"
          ],
          [
           "2012-01-13",
           "y"
          ],
          [
           "2012-01-14",
           "y"
          ],
          [
           "2012-01-15",
           "y"
          ],
          [
           "2012-01-16",
           "y"
          ],
          [
           "2012-01-17",
           "y"
          ],
          [
           "2012-01-18",
           "y"
          ],
          [
           "2012-01-19",
           "y"
          ],
          [
           "2012-01-20",
           "y"
          ],
          [
           "2012-01-21",
           "y"
          ],
          [
           "2012-01-22",
           "y"
          ],
          [
           "2012-01-23",
           "y"
          ],
          [
           "2012-01-24",
           "y"
          ],
          [
           "2012-01-25",
           "y"
          ],
          [
           "2012-01-26",
           "y"
          ],
          [
           "2012-01-27",
           "y"
          ],
          [
           "2012-01-28",
           "y"
          ],
          [
           "2012-01-29",
           "y"
          ],
          [
           "2012-01-30",
           "y"
          ],
          [
           "2012-01-31",
           "y"
          ],
          [
           "2012-02-01",
           "y"
          ],
          [
           "2012-02-02",
           "y"
          ],
          [
           "2012-02-03",
           "y"
          ],
          [
           "2012-02-04",
           "y"
          ],
          [
           "2012-02-05",
           "y"
          ],
          [
           "2012-02-06",
           "y"
          ],
          [
           "2012-02-07",
           "y"
          ],
          [
           "2012-02-08",
           "y"
          ],
          [
           "2012-02-09",
           "y"
          ],
          [
           "2012-02-10",
           "y"
          ],
          [
           "2012-02-11",
           "y"
          ],
          [
           "2012-02-12",
           "y"
          ],
          [
           "2012-02-13",
           "y"
          ],
          [
           "2012-02-14",
           "y"
          ],
          [
           "2012-02-15",
           "y"
          ],
          [
           "2012-02-16",
           "y"
          ],
          [
           "2012-02-17",
           "y"
          ],
          [
           "2012-02-18",
           "y"
          ],
          [
           "2012-02-19",
           "y"
          ],
          [
           "2012-02-20",
           "y"
          ],
          [
           "2012-02-21",
           "y"
          ],
          [
           "2012-02-22",
           "y"
          ],
          [
           "2012-02-23",
           "y"
          ],
          [
           "2012-02-24",
           "y"
          ],
          [
           "2012-02-25",
           "y"
          ],
          [
           "2012-02-26",
           "y"
          ],
          [
           "2012-02-27",
           "y"
          ],
          [
           "2012-02-28",
           "y"
          ],
          [
           "2012-02-29",
           "y"
          ],
          [
           "2012-03-01",
           "y"
          ],
          [
           "2012-03-02",
           "y"
          ],
          [
           "2012-03-03",
           "y"
          ],
          [
           "2012-03-04",
           "y"
          ],
          [
           "2012-03-05",
           "y"
          ],
          [
           "2012-03-06",
           "y"
          ],
          [
           "2012-03-07",
           "y"
          ],
          [
           "2012-03-08",
           "y"
          ],
          [
           "2012-03-09",
           "y"
          ],
          [
           "2012-03-10",
           "y"
          ],
          [
           "2012-03-11",
           "y"
          ],
          [
           "2012-03-12",
           "y"
          ],
          [
           "2012-03-13",
           "y"
          ],
          [
           "2012-03-14",
           "y"
          ],
          [
           "2012-03-15",
           "y"
          ],
          [
           "2012-03-16",
           "y"
          ],
          [
           "2012-03-17",
           "y"
          ],
          [
           "2012-03-18",
           "y"
          ],
          [
           "2012-03-19",
           "y"
          ],
          [
           "2012-03-20",
           "y"
          ],
          [
           "2012-03-21",
           "y"
          ],
          [
           "2012-03-22",
           "y"
          ],
          [
           "2012-03-23",
           "y"
          ],
          [
           "2012-03-24",
           "y"
          ],
          [
           "2012-03-25",
           "y"
          ],
          [
           "2012-03-26",
           "y"
          ],
          [
           "2012-03-27",
           "y"
          ],
          [
           "2012-03-28",
           "y"
          ],
          [
           "2012-03-29",
           "y"
          ],
          [
           "2012-03-30",
           "y"
          ],
          [
           "2012-03-31",
           "y"
          ],
          [
           "2012-04-01",
           "y"
          ],
          [
           "2012-04-02",
           "y"
          ],
          [
           "2012-04-03",
           "y"
          ],
          [
           "2012-04-04",
           "y"
          ],
          [
           "2012-04-05",
           "y"
          ],
          [
           "2012-04-06",
           "y"
          ],
          [
           "2012-04-07",
           "y"
          ],
          [
           "2012-04-08",
           "y"
          ],
          [
           "2012-04-09",
           "y"
          ],
          [
           "2012-04-10",
           "y"
          ],
          [
           "2012-04-11",
           "y"
          ],
          [
           "2012-04-12",
           "y"
          ],
          [
           "2012-04-13",
           "y"
          ],
          [
           "2012-04-14",
           "y"
          ],
          [
           "2012-04-15",
           "y"
          ],
          [
           "2012-04-16",
           "y"
          ],
          [
           "2012-04-17",
           "y"
          ],
          [
           "2012-04-18",
           "y"
          ],
          [
           "2012-04-19",
           "y"
          ],
          [
           "2012-04-20",
           "y"
          ],
          [
           "2012-04-21",
           "y"
          ],
          [
           "2012-04-22",
           "y"
          ],
          [
           "2012-04-23",
           "y"
          ],
          [
           "2012-04-24",
           "y"
          ],
          [
           "2012-04-25",
           "y"
          ],
          [
           "2012-04-26",
           "y"
          ],
          [
           "2012-04-27",
           "y"
          ],
          [
           "2012-04-28",
           "y"
          ],
          [
           "2012-04-29",
           "y"
          ],
          [
           "2012-04-30",
           "y"
          ],
          [
           "2012-05-01",
           "y"
          ],
          [
           "2012-05-02",
           "y"
          ],
          [
           "2012-05-03",
           "y"
          ],
          [
           "2012-05-04",
           "y"
          ],
          [
           "2012-05-05",
           "y"
          ],
          [
           "2012-05-06",
           "y"
          ],
          [
           "2012-05-07",
           "y"
          ],
          [
           "2012-05-08",
           "y"
          ],
          [
           "2012-05-09",
           "y"
          ],
          [
           "2012-05-10",
           "y"
          ],
          [
           "2012-05-11",
           "y"
          ],
          [
           "2012-05-12",
           "y"
          ],
          [
           "2012-05-13",
           "y"
          ],
          [
           "2012-05-14",
           "y"
          ],
          [
           "2012-05-15",
           "y"
          ],
          [
           "2012-05-16",
           "y"
          ],
          [
           "2012-05-17",
           "y"
          ],
          [
           "2012-05-18",
           "y"
          ],
          [
           "2012-05-19",
           "y"
          ],
          [
           "2012-05-20",
           "y"
          ],
          [
           "2012-05-21",
           "y"
          ],
          [
           "2012-05-22",
           "y"
          ],
          [
           "2012-05-23",
           "y"
          ],
          [
           "2012-05-24",
           "y"
          ],
          [
           "2012-05-25",
           "y"
          ],
          [
           "2012-05-26",
           "y"
          ],
          [
           "2012-05-27",
           "y"
          ],
          [
           "2012-05-28",
           "y"
          ],
          [
           "2012-05-29",
           "y"
          ],
          [
           "2012-05-30",
           "y"
          ],
          [
           "2012-05-31",
           "y"
          ],
          [
           "2012-06-01",
           "y"
          ],
          [
           "2012-06-02",
           "y"
          ],
          [
           "2012-06-03",
           "y"
          ],
          [
           "2012-06-04",
           "y"
          ],
          [
           "2012-06-05",
           "y"
          ],
          [
           "2012-06-06",
           "y"
          ],
          [
           "2012-06-07",
           "y"
          ],
          [
           "2012-06-08",
           "y"
          ],
          [
           "2012-06-09",
           "y"
          ],
          [
           "2012-06-10",
           "y"
          ],
          [
           "2012-06-11",
           "y"
          ],
          [
           "2012-06-12",
           "y"
          ],
          [
           "2012-06-13",
           "y"
          ],
          [
           "2012-06-14",
           "y"
          ],
          [
           "2012-06-15",
           "y"
          ],
          [
           "2012-06-16",
           "y"
          ],
          [
           "2012-06-17",
           "y"
          ],
          [
           "2012-06-18",
           "y"
          ],
          [
           "2012-06-19",
           "y"
          ],
          [
           "2012-06-20",
           "y"
          ],
          [
           "2012-06-21",
           "y"
          ],
          [
           "2012-06-22",
           "y"
          ],
          [
           "2012-06-23",
           "y"
          ],
          [
           "2012-06-24",
           "y"
          ],
          [
           "2012-06-25",
           "y"
          ],
          [
           "2012-06-26",
           "y"
          ],
          [
           "2012-06-27",
           "y"
          ],
          [
           "2012-06-28",
           "y"
          ],
          [
           "2012-06-29",
           "y"
          ],
          [
           "2012-06-30",
           "y"
          ],
          [
           "2012-07-01",
           "y"
          ],
          [
           "2012-07-02",
           "y"
          ],
          [
           "2012-07-03",
           "y"
          ],
          [
           "2012-07-04",
           "y"
          ],
          [
           "2012-07-05",
           "y"
          ],
          [
           "2012-07-06",
           "y"
          ],
          [
           "2012-07-07",
           "y"
          ],
          [
           "2012-07-08",
           "y"
          ],
          [
           "2012-07-09",
           "y"
          ],
          [
           "2012-07-10",
           "y"
          ],
          [
           "2012-07-11",
           "y"
          ],
          [
           "2012-07-12",
           "y"
          ],
          [
           "2012-07-13",
           "y"
          ],
          [
           "2012-07-14",
           "y"
          ],
          [
           "2012-07-15",
           "y"
          ],
          [
           "2012-07-16",
           "y"
          ],
          [
           "2012-07-17",
           "y"
          ],
          [
           "2012-07-18",
           "y"
          ],
          [
           "2012-07-19",
           "y"
          ],
          [
           "2012-07-20",
           "y"
          ],
          [
           "2012-07-21",
           "y"
          ],
          [
           "2012-07-22",
           "y"
          ],
          [
           "2012-07-23",
           "y"
          ],
          [
           "2012-07-24",
           "y"
          ],
          [
           "2012-07-25",
           "y"
          ],
          [
           "2012-07-26",
           "y"
          ],
          [
           "2012-07-27",
           "y"
          ],
          [
           "2012-07-28",
           "y"
          ],
          [
           "2012-07-29",
           "y"
          ],
          [
           "2012-07-30",
           "y"
          ],
          [
           "2012-07-31",
           "y"
          ],
          [
           "2012-08-01",
           "y"
          ],
          [
           "2012-08-02",
           "y"
          ],
          [
           "2012-08-03",
           "y"
          ],
          [
           "2012-08-04",
           "y"
          ],
          [
           "2012-08-05",
           "y"
          ],
          [
           "2012-08-06",
           "y"
          ],
          [
           "2012-08-07",
           "y"
          ],
          [
           "2012-08-08",
           "y"
          ],
          [
           "2012-08-09",
           "y"
          ],
          [
           "2012-08-10",
           "y"
          ],
          [
           "2012-08-11",
           "y"
          ],
          [
           "2012-08-12",
           "y"
          ],
          [
           "2012-08-13",
           "y"
          ],
          [
           "2012-08-14",
           "y"
          ],
          [
           "2012-08-15",
           "y"
          ],
          [
           "2012-08-16",
           "y"
          ],
          [
           "2012-08-17",
           "y"
          ],
          [
           "2012-08-18",
           "y"
          ],
          [
           "2012-08-19",
           "y"
          ],
          [
           "2012-08-20",
           "y"
          ],
          [
           "2012-08-21",
           "y"
          ],
          [
           "2012-08-22",
           "y"
          ],
          [
           "2012-08-23",
           "y"
          ],
          [
           "2012-08-24",
           "y"
          ],
          [
           "2012-08-25",
           "y"
          ],
          [
           "2012-08-26",
           "y"
          ],
          [
           "2012-08-27",
           "y"
          ],
          [
           "2012-08-28",
           "y"
          ],
          [
           "2012-08-29",
           "y"
          ],
          [
           "2012-08-30",
           "y"
          ],
          [
           "2012-08-31",
           "y"
          ],
          [
           "2012-09-01",
           "y"
          ],
          [
           "2012-09-02",
           "y"
          ],
          [
           "2012-09-03",
           "y"
          ],
          [
           "2012-09-04",
           "y"
          ],
          [
           "2012-09-05",
           "y"
          ],
          [
           "2012-09-06",
           "y"
          ],
          [
           "2012-09-07",
           "y"
          ],
          [
           "2012-09-08",
           "y"
          ],
          [
           "2012-09-09",
           "y"
          ],
          [
           "2012-09-10",
           "y"
          ],
          [
           "2012-09-11",
           "y"
          ],
          [
           "2012-09-12",
           "y"
          ],
          [
           "2012-09-13",
           "y"
          ],
          [
           "2012-09-14",
           "y"
          ],
          [
           "2012-09-15",
           "y"
          ],
          [
           "2012-09-16",
           "y"
          ],
          [
           "2012-09-17",
           "y"
          ],
          [
           "2012-09-18",
           "y"
          ],
          [
           "2012-09-19",
           "y"
          ],
          [
           "2012-09-20",
           "y"
          ],
          [
           "2012-09-21",
           "y"
          ],
          [
           "2012-09-22",
           "y"
          ],
          [
           "2012-09-23",
           "y"
          ],
          [
           "2012-09-24",
           "y"
          ],
          [
           "2012-09-25",
           "y"
          ],
          [
           "2012-09-26",
           "y"
          ],
          [
           "2012-09-27",
           "y"
          ],
          [
           "2012-09-28",
           "y"
          ],
          [
           "2012-09-29",
           "y"
          ],
          [
           "2012-09-30",
           "y"
          ],
          [
           "2012-10-01",
           "y"
          ],
          [
           "2012-10-02",
           "y"
          ],
          [
           "2012-10-03",
           "y"
          ],
          [
           "2012-10-04",
           "y"
          ],
          [
           "2012-10-05",
           "y"
          ],
          [
           "2012-10-06",
           "y"
          ],
          [
           "2012-10-07",
           "y"
          ],
          [
           "2012-10-08",
           "y"
          ],
          [
           "2012-10-09",
           "y"
          ],
          [
           "2012-10-10",
           "y"
          ],
          [
           "2012-10-11",
           "y"
          ],
          [
           "2012-10-12",
           "y"
          ],
          [
           "2012-10-13",
           "y"
          ],
          [
           "2012-10-14",
           "y"
          ],
          [
           "2012-10-15",
           "y"
          ],
          [
           "2012-10-16",
           "y"
          ],
          [
           "2012-10-17",
           "y"
          ],
          [
           "2012-10-18",
           "y"
          ],
          [
           "2012-10-19",
           "y"
          ],
          [
           "2012-10-20",
           "y"
          ],
          [
           "2012-10-21",
           "y"
          ],
          [
           "2012-10-22",
           "y"
          ],
          [
           "2012-10-23",
           "y"
          ],
          [
           "2012-10-24",
           "y"
          ],
          [
           "2012-10-25",
           "y"
          ],
          [
           "2012-10-26",
           "y"
          ],
          [
           "2012-10-27",
           "y"
          ],
          [
           "2012-10-28",
           "y"
          ],
          [
           "2012-10-29",
           "y"
          ],
          [
           "2012-10-30",
           "y"
          ],
          [
           "2012-10-31",
           "y"
          ],
          [
           "2012-11-01",
           "y"
          ],
          [
           "2012-11-02",
           "y"
          ],
          [
           "2012-11-03",
           "y"
          ],
          [
           "2012-11-04",
           "y"
          ],
          [
           "2012-11-05",
           "y"
          ],
          [
           "2012-11-06",
           "y"
          ],
          [
           "2012-11-07",
           "y"
          ],
          [
           "2012-11-08",
           "y"
          ],
          [
           "2012-11-09",
           "y"
          ],
          [
           "2012-11-10",
           "y"
          ],
          [
           "2012-11-11",
           "y"
          ],
          [
           "2012-11-12",
           "y"
          ],
          [
           "2012-11-13",
           "y"
          ],
          [
           "2012-11-14",
           "y"
          ],
          [
           "2012-11-15",
           "y"
          ],
          [
           "2012-11-16",
           "y"
          ],
          [
           "2012-11-17",
           "y"
          ],
          [
           "2012-11-18",
           "y"
          ],
          [
           "2012-11-19",
           "y"
          ],
          [
           "2012-11-20",
           "y"
          ],
          [
           "2012-11-21",
           "y"
          ],
          [
           "2012-11-22",
           "y"
          ],
          [
           "2012-11-23",
           "y"
          ],
          [
           "2012-11-24",
           "y"
          ],
          [
           "2012-11-25",
           "y"
          ],
          [
           "2012-11-26",
           "y"
          ],
          [
           "2012-11-27",
           "y"
          ],
          [
           "2012-11-28",
           "y"
          ],
          [
           "2012-11-29",
           "y"
          ],
          [
           "2012-11-30",
           "y"
          ],
          [
           "2012-12-01",
           "y"
          ],
          [
           "2012-12-02",
           "y"
          ],
          [
           "2012-12-03",
           "y"
          ],
          [
           "2012-12-04",
           "y"
          ],
          [
           "2012-12-05",
           "y"
          ],
          [
           "2012-12-06",
           "y"
          ],
          [
           "2012-12-07",
           "y"
          ],
          [
           "2012-12-08",
           "y"
          ],
          [
           "2012-12-09",
           "y"
          ],
          [
           "2012-12-10",
           "y"
          ],
          [
           "2012-12-11",
           "y"
          ],
          [
           "2012-12-12",
           "y"
          ],
          [
           "2012-12-13",
           "y"
          ],
          [
           "2012-12-14",
           "y"
          ],
          [
           "2012-12-15",
           "y"
          ],
          [
           "2012-12-16",
           "y"
          ],
          [
           "2012-12-17",
           "y"
          ],
          [
           "2012-12-18",
           "y"
          ],
          [
           "2012-12-19",
           "y"
          ],
          [
           "2012-12-20",
           "y"
          ],
          [
           "2012-12-21",
           "y"
          ],
          [
           "2012-12-22",
           "y"
          ],
          [
           "2012-12-23",
           "y"
          ],
          [
           "2012-12-24",
           "y"
          ],
          [
           "2012-12-25",
           "y"
          ],
          [
           "2012-12-26",
           "y"
          ],
          [
           "2012-12-27",
           "y"
          ],
          [
           "2012-12-28",
           "y"
          ],
          [
           "2012-12-29",
           "y"
          ],
          [
           "2012-12-30",
           "y"
          ],
          [
           "2012-12-31",
           "y"
          ]
         ],
         "hovertemplate": "%{customdata[0]} <br>Week=%{x} <br>%{customdata[1]}=%{z}",
         "name": "2012",
         "showscale": false,
         "type": "heatmap",
         "x": [
          0,
          1,
          1,
          1,
          1,
          1,
          1,
          1,
          2,
          2,
          2,
          2,
          2,
          2,
          2,
          3,
          3,
          3,
          3,
          3,
          3,
          3,
          4,
          4,
          4,
          4,
          4,
          4,
          4,
          5,
          5,
          5,
          5,
          5,
          5,
          5,
          6,
          6,
          6,
          6,
          6,
          6,
          6,
          7,
          7,
          7,
          7,
          7,
          7,
          7,
          8,
          8,
          8,
          8,
          8,
          8,
          8,
          9,
          9,
          9,
          9,
          9,
          9,
          9,
          10,
          10,
          10,
          10,
          10,
          10,
          10,
          11,
          11,
          11,
          11,
          11,
          11,
          11,
          12,
          12,
          12,
          12,
          12,
          12,
          12,
          13,
          13,
          13,
          13,
          13,
          13,
          13,
          14,
          14,
          14,
          14,
          14,
          14,
          14,
          15,
          15,
          15,
          15,
          15,
          15,
          15,
          16,
          16,
          16,
          16,
          16,
          16,
          16,
          17,
          17,
          17,
          17,
          17,
          17,
          17,
          18,
          18,
          18,
          18,
          18,
          18,
          18,
          19,
          19,
          19,
          19,
          19,
          19,
          19,
          20,
          20,
          20,
          20,
          20,
          20,
          20,
          21,
          21,
          21,
          21,
          21,
          21,
          21,
          22,
          22,
          22,
          22,
          22,
          22,
          22,
          23,
          23,
          23,
          23,
          23,
          23,
          23,
          24,
          24,
          24,
          24,
          24,
          24,
          24,
          25,
          25,
          25,
          25,
          25,
          25,
          25,
          26,
          26,
          26,
          26,
          26,
          26,
          26,
          27,
          27,
          27,
          27,
          27,
          27,
          27,
          28,
          28,
          28,
          28,
          28,
          28,
          28,
          29,
          29,
          29,
          29,
          29,
          29,
          29,
          30,
          30,
          30,
          30,
          30,
          30,
          30,
          31,
          31,
          31,
          31,
          31,
          31,
          31,
          32,
          32,
          32,
          32,
          32,
          32,
          32,
          33,
          33,
          33,
          33,
          33,
          33,
          33,
          34,
          34,
          34,
          34,
          34,
          34,
          34,
          35,
          35,
          35,
          35,
          35,
          35,
          35,
          36,
          36,
          36,
          36,
          36,
          36,
          36,
          37,
          37,
          37,
          37,
          37,
          37,
          37,
          38,
          38,
          38,
          38,
          38,
          38,
          38,
          39,
          39,
          39,
          39,
          39,
          39,
          39,
          40,
          40,
          40,
          40,
          40,
          40,
          40,
          41,
          41,
          41,
          41,
          41,
          41,
          41,
          42,
          42,
          42,
          42,
          42,
          42,
          42,
          43,
          43,
          43,
          43,
          43,
          43,
          43,
          44,
          44,
          44,
          44,
          44,
          44,
          44,
          45,
          45,
          45,
          45,
          45,
          45,
          45,
          46,
          46,
          46,
          46,
          46,
          46,
          46,
          47,
          47,
          47,
          47,
          47,
          47,
          47,
          48,
          48,
          48,
          48,
          48,
          48,
          48,
          49,
          49,
          49,
          49,
          49,
          49,
          49,
          50,
          50,
          50,
          50,
          50,
          50,
          50,
          51,
          51,
          51,
          51,
          51,
          51,
          51,
          52,
          52,
          52,
          52,
          52,
          52,
          52,
          53
         ],
         "xaxis": "x2",
         "xgap": 1,
         "y": [
          6,
          0,
          1,
          2,
          3,
          4,
          5,
          6,
          0,
          1,
          2,
          3,
          4,
          5,
          6,
          0,
          1,
          2,
          3,
          4,
          5,
          6,
          0,
          1,
          2,
          3,
          4,
          5,
          6,
          0,
          1,
          2,
          3,
          4,
          5,
          6,
          0,
          1,
          2,
          3,
          4,
          5,
          6,
          0,
          1,
          2,
          3,
          4,
          5,
          6,
          0,
          1,
          2,
          3,
          4,
          5,
          6,
          0,
          1,
          2,
          3,
          4,
          5,
          6,
          0,
          1,
          2,
          3,
          4,
          5,
          6,
          0,
          1,
          2,
          3,
          4,
          5,
          6,
          0,
          1,
          2,
          3,
          4,
          5,
          6,
          0,
          1,
          2,
          3,
          4,
          5,
          6,
          0,
          1,
          2,
          3,
          4,
          5,
          6,
          0,
          1,
          2,
          3,
          4,
          5,
          6,
          0,
          1,
          2,
          3,
          4,
          5,
          6,
          0,
          1,
          2,
          3,
          4,
          5,
          6,
          0,
          1,
          2,
          3,
          4,
          5,
          6,
          0,
          1,
          2,
          3,
          4,
          5,
          6,
          0,
          1,
          2,
          3,
          4,
          5,
          6,
          0,
          1,
          2,
          3,
          4,
          5,
          6,
          0,
          1,
          2,
          3,
          4,
          5,
          6,
          0,
          1,
          2,
          3,
          4,
          5,
          6,
          0,
          1,
          2,
          3,
          4,
          5,
          6,
          0,
          1,
          2,
          3,
          4,
          5,
          6,
          0,
          1,
          2,
          3,
          4,
          5,
          6,
          0,
          1,
          2,
          3,
          4,
          5,
          6,
          0,
          1,
          2,
          3,
          4,
          5,
          6,
          0,
          1,
          2,
          3,
          4,
          5,
          6,
          0,
          1,
          2,
          3,
          4,
          5,
          6,
          0,
          1,
          2,
          3,
          4,
          5,
          6,
          0,
          1,
          2,
          3,
          4,
          5,
          6,
          0,
          1,
          2,
          3,
          4,
          5,
          6,
          0,
          1,
          2,
          3,
          4,
          5,
          6,
          0,
          1,
          2,
          3,
          4,
          5,
          6,
          0,
          1,
          2,
          3,
          4,
          5,
          6,
          0,
          1,
          2,
          3,
          4,
          5,
          6,
          0,
          1,
          2,
          3,
          4,
          5,
          6,
          0,
          1,
          2,
          3,
          4,
          5,
          6,
          0,
          1,
          2,
          3,
          4,
          5,
          6,
          0,
          1,
          2,
          3,
          4,
          5,
          6,
          0,
          1,
          2,
          3,
          4,
          5,
          6,
          0,
          1,
          2,
          3,
          4,
          5,
          6,
          0,
          1,
          2,
          3,
          4,
          5,
          6,
          0,
          1,
          2,
          3,
          4,
          5,
          6,
          0,
          1,
          2,
          3,
          4,
          5,
          6,
          0,
          1,
          2,
          3,
          4,
          5,
          6,
          0,
          1,
          2,
          3,
          4,
          5,
          6,
          0,
          1,
          2,
          3,
          4,
          5,
          6,
          0,
          1,
          2,
          3,
          4,
          5,
          6,
          0,
          1,
          2,
          3,
          4,
          5,
          6,
          0,
          1,
          2,
          3,
          4,
          5,
          6,
          0
         ],
         "yaxis": "y2",
         "ygap": 1,
         "z": [
          2294,
          1951,
          2236,
          2368,
          3272,
          4098,
          4521,
          3425,
          2376,
          3598,
          2177,
          4097,
          3214,
          2493,
          2311,
          2298,
          2935,
          3376,
          3292,
          3163,
          1301,
          1977,
          2432,
          4339,
          4270,
          4075,
          3456,
          4023,
          3243,
          3624,
          4509,
          4579,
          3761,
          4151,
          2832,
          2947,
          3784,
          4375,
          2802,
          3830,
          3831,
          2169,
          1529,
          3422,
          3922,
          4169,
          3005,
          4154,
          4318,
          2689,
          3129,
          3777,
          4773,
          5062,
          3487,
          2732,
          3389,
          4322,
          4363,
          1834,
          4990,
          3194,
          4066,
          3423,
          3333,
          3956,
          4916,
          5382,
          4569,
          4118,
          4911,
          5298,
          5847,
          6312,
          6192,
          4378,
          7836,
          5892,
          6153,
          6093,
          6230,
          6871,
          8362,
          3372,
          4996,
          5558,
          5102,
          5698,
          6133,
          5459,
          6235,
          6041,
          5936,
          6772,
          6436,
          6457,
          6460,
          6857,
          5169,
          5585,
          5918,
          4862,
          5409,
          6398,
          7460,
          7132,
          6370,
          6691,
          4367,
          6565,
          7290,
          6624,
          1027,
          3214,
          5633,
          6196,
          5026,
          6233,
          4220,
          6304,
          5572,
          5740,
          6169,
          6421,
          6296,
          6883,
          6359,
          6273,
          5728,
          4717,
          6572,
          7030,
          7429,
          6118,
          2843,
          5115,
          7424,
          7384,
          7639,
          8294,
          7129,
          4359,
          6073,
          5260,
          6770,
          6734,
          6536,
          6591,
          6043,
          5743,
          6855,
          7338,
          4127,
          8120,
          7641,
          6998,
          7001,
          7055,
          7494,
          7736,
          7498,
          6598,
          6664,
          4972,
          7421,
          7363,
          7665,
          7702,
          6978,
          5099,
          6825,
          6211,
          5905,
          5823,
          7458,
          6891,
          6779,
          7442,
          7335,
          6879,
          5463,
          5687,
          5531,
          6227,
          6660,
          7403,
          6241,
          6207,
          4840,
          4672,
          6569,
          6290,
          7264,
          7446,
          7499,
          6969,
          6031,
          6830,
          6786,
          5713,
          6591,
          5870,
          4459,
          7410,
          6966,
          7592,
          8173,
          6861,
          6904,
          6685,
          6597,
          7105,
          7216,
          7580,
          7261,
          7175,
          6824,
          5464,
          7013,
          7273,
          7534,
          7286,
          5786,
          6299,
          6544,
          6883,
          6784,
          7347,
          7605,
          7148,
          7865,
          4549,
          6530,
          7006,
          7375,
          7765,
          7582,
          6053,
          5255,
          6917,
          7040,
          7697,
          7713,
          7350,
          6140,
          5810,
          6034,
          6864,
          7112,
          6203,
          7504,
          5976,
          8227,
          7525,
          7767,
          7870,
          7804,
          8009,
          8714,
          7333,
          6869,
          4073,
          7591,
          7720,
          8167,
          8395,
          7907,
          7436,
          7538,
          7733,
          7393,
          7415,
          8555,
          6889,
          6778,
          4639,
          7572,
          7328,
          8156,
          7965,
          3510,
          5478,
          6392,
          7691,
          7570,
          7282,
          7109,
          6639,
          5875,
          7534,
          7461,
          7509,
          5424,
          8090,
          6824,
          7058,
          7466,
          7693,
          7359,
          7444,
          7852,
          4459,
          22,
          1096,
          5566,
          5986,
          5847,
          5138,
          5107,
          5259,
          5686,
          5035,
          5315,
          5992,
          6536,
          6852,
          6269,
          4094,
          5495,
          5445,
          5698,
          5629,
          4669,
          5499,
          5634,
          5146,
          2425,
          3910,
          2277,
          2424,
          5087,
          3959,
          5260,
          5323,
          5668,
          5191,
          null,
          null,
          null,
          null,
          null,
          null,
          null,
          null,
          null,
          null,
          null,
          null,
          null,
          null,
          null,
          null,
          null,
          null,
          null,
          null,
          null,
          null,
          null,
          null,
          null,
          null,
          null,
          null,
          null,
          null
         ],
         "zmax": 8714,
         "zmin": 22
        },
        {
         "hoverinfo": "skip",
         "line": {
          "color": "#9e9e9e",
          "width": 1
         },
         "mode": "lines",
         "type": "scatter",
         "x": [
          -0.5,
          -0.5
         ],
         "xaxis": "x2",
         "y": [
          5.5,
          6.5
         ],
         "yaxis": "y2"
        },
        {
         "hoverinfo": "skip",
         "line": {
          "color": "#9e9e9e",
          "width": 1
         },
         "mode": "lines",
         "type": "scatter",
         "x": [
          -0.5,
          0.5
         ],
         "xaxis": "x2",
         "y": [
          5.5,
          5.5
         ],
         "yaxis": "y2"
        },
        {
         "hoverinfo": "skip",
         "line": {
          "color": "#9e9e9e",
          "width": 1
         },
         "mode": "lines",
         "type": "scatter",
         "x": [
          0.5,
          0.5
         ],
         "xaxis": "x2",
         "y": [
          5.5,
          -0.5
         ],
         "yaxis": "y2"
        },
        {
         "hoverinfo": "skip",
         "line": {
          "color": "#9e9e9e",
          "width": 1
         },
         "mode": "lines",
         "type": "scatter",
         "x": [
          4.5,
          4.5
         ],
         "xaxis": "x2",
         "y": [
          1.5,
          6.5
         ],
         "yaxis": "y2"
        },
        {
         "hoverinfo": "skip",
         "line": {
          "color": "#9e9e9e",
          "width": 1
         },
         "mode": "lines",
         "type": "scatter",
         "x": [
          4.5,
          5.5
         ],
         "xaxis": "x2",
         "y": [
          1.5,
          1.5
         ],
         "yaxis": "y2"
        },
        {
         "hoverinfo": "skip",
         "line": {
          "color": "#9e9e9e",
          "width": 1
         },
         "mode": "lines",
         "type": "scatter",
         "x": [
          5.5,
          5.5
         ],
         "xaxis": "x2",
         "y": [
          1.5,
          -0.5
         ],
         "yaxis": "y2"
        },
        {
         "hoverinfo": "skip",
         "line": {
          "color": "#9e9e9e",
          "width": 1
         },
         "mode": "lines",
         "type": "scatter",
         "x": [
          8.5,
          8.5
         ],
         "xaxis": "x2",
         "y": [
          2.5,
          6.5
         ],
         "yaxis": "y2"
        },
        {
         "hoverinfo": "skip",
         "line": {
          "color": "#9e9e9e",
          "width": 1
         },
         "mode": "lines",
         "type": "scatter",
         "x": [
          8.5,
          9.5
         ],
         "xaxis": "x2",
         "y": [
          2.5,
          2.5
         ],
         "yaxis": "y2"
        },
        {
         "hoverinfo": "skip",
         "line": {
          "color": "#9e9e9e",
          "width": 1
         },
         "mode": "lines",
         "type": "scatter",
         "x": [
          9.5,
          9.5
         ],
         "xaxis": "x2",
         "y": [
          2.5,
          -0.5
         ],
         "yaxis": "y2"
        },
        {
         "hoverinfo": "skip",
         "line": {
          "color": "#9e9e9e",
          "width": 1
         },
         "mode": "lines",
         "type": "scatter",
         "x": [
          12.5,
          12.5
         ],
         "xaxis": "x2",
         "y": [
          5.5,
          6.5
         ],
         "yaxis": "y2"
        },
        {
         "hoverinfo": "skip",
         "line": {
          "color": "#9e9e9e",
          "width": 1
         },
         "mode": "lines",
         "type": "scatter",
         "x": [
          12.5,
          13.5
         ],
         "xaxis": "x2",
         "y": [
          5.5,
          5.5
         ],
         "yaxis": "y2"
        },
        {
         "hoverinfo": "skip",
         "line": {
          "color": "#9e9e9e",
          "width": 1
         },
         "mode": "lines",
         "type": "scatter",
         "x": [
          13.5,
          13.5
         ],
         "xaxis": "x2",
         "y": [
          5.5,
          -0.5
         ],
         "yaxis": "y2"
        },
        {
         "hoverinfo": "skip",
         "line": {
          "color": "#9e9e9e",
          "width": 1
         },
         "mode": "lines",
         "type": "scatter",
         "x": [
          17.5,
          17.5
         ],
         "xaxis": "x2",
         "y": [
          0.5,
          6.5
         ],
         "yaxis": "y2"
        },
        {
         "hoverinfo": "skip",
         "line": {
          "color": "#9e9e9e",
          "width": 1
         },
         "mode": "lines",
         "type": "scatter",
         "x": [
          17.5,
          18.5
         ],
         "xaxis": "x2",
         "y": [
          0.5,
          0.5
         ],
         "yaxis": "y2"
        },
        {
         "hoverinfo": "skip",
         "line": {
          "color": "#9e9e9e",
          "width": 1
         },
         "mode": "lines",
         "type": "scatter",
         "x": [
          18.5,
          18.5
         ],
         "xaxis": "x2",
         "y": [
          0.5,
          -0.5
         ],
         "yaxis": "y2"
        },
        {
         "hoverinfo": "skip",
         "line": {
          "color": "#9e9e9e",
          "width": 1
         },
         "mode": "lines",
         "type": "scatter",
         "x": [
          21.5,
          21.5
         ],
         "xaxis": "x2",
         "y": [
          3.5,
          6.5
         ],
         "yaxis": "y2"
        },
        {
         "hoverinfo": "skip",
         "line": {
          "color": "#9e9e9e",
          "width": 1
         },
         "mode": "lines",
         "type": "scatter",
         "x": [
          21.5,
          22.5
         ],
         "xaxis": "x2",
         "y": [
          3.5,
          3.5
         ],
         "yaxis": "y2"
        },
        {
         "hoverinfo": "skip",
         "line": {
          "color": "#9e9e9e",
          "width": 1
         },
         "mode": "lines",
         "type": "scatter",
         "x": [
          22.5,
          22.5
         ],
         "xaxis": "x2",
         "y": [
          3.5,
          -0.5
         ],
         "yaxis": "y2"
        },
        {
         "hoverinfo": "skip",
         "line": {
          "color": "#9e9e9e",
          "width": 1
         },
         "mode": "lines",
         "type": "scatter",
         "x": [
          25.5,
          25.5
         ],
         "xaxis": "x2",
         "y": [
          5.5,
          6.5
         ],
         "yaxis": "y2"
        },
        {
         "hoverinfo": "skip",
         "line": {
          "color": "#9e9e9e",
          "width": 1
         },
         "mode": "lines",
         "type": "scatter",
         "x": [
          25.5,
          26.5
         ],
         "xaxis": "x2",
         "y": [
          5.5,
          5.5
         ],
         "yaxis": "y2"
        },
        {
         "hoverinfo": "skip",
         "line": {
          "color": "#9e9e9e",
          "width": 1
         },
         "mode": "lines",
         "type": "scatter",
         "x": [
          26.5,
          26.5
         ],
         "xaxis": "x2",
         "y": [
          5.5,
          -0.5
         ],
         "yaxis": "y2"
        },
        {
         "hoverinfo": "skip",
         "line": {
          "color": "#9e9e9e",
          "width": 1
         },
         "mode": "lines",
         "type": "scatter",
         "x": [
          30.5,
          30.5
         ],
         "xaxis": "x2",
         "y": [
          1.5,
          6.5
         ],
         "yaxis": "y2"
        },
        {
         "hoverinfo": "skip",
         "line": {
          "color": "#9e9e9e",
          "width": 1
         },
         "mode": "lines",
         "type": "scatter",
         "x": [
          30.5,
          31.5
         ],
         "xaxis": "x2",
         "y": [
          1.5,
          1.5
         ],
         "yaxis": "y2"
        },
        {
         "hoverinfo": "skip",
         "line": {
          "color": "#9e9e9e",
          "width": 1
         },
         "mode": "lines",
         "type": "scatter",
         "x": [
          31.5,
          31.5
         ],
         "xaxis": "x2",
         "y": [
          1.5,
          -0.5
         ],
         "yaxis": "y2"
        },
        {
         "hoverinfo": "skip",
         "line": {
          "color": "#9e9e9e",
          "width": 1
         },
         "mode": "lines",
         "type": "scatter",
         "x": [
          34.5,
          34.5
         ],
         "xaxis": "x2",
         "y": [
          4.5,
          6.5
         ],
         "yaxis": "y2"
        },
        {
         "hoverinfo": "skip",
         "line": {
          "color": "#9e9e9e",
          "width": 1
         },
         "mode": "lines",
         "type": "scatter",
         "x": [
          34.5,
          35.5
         ],
         "xaxis": "x2",
         "y": [
          4.5,
          4.5
         ],
         "yaxis": "y2"
        },
        {
         "hoverinfo": "skip",
         "line": {
          "color": "#9e9e9e",
          "width": 1
         },
         "mode": "lines",
         "type": "scatter",
         "x": [
          35.5,
          35.5
         ],
         "xaxis": "x2",
         "y": [
          4.5,
          -0.5
         ],
         "yaxis": "y2"
        },
        {
         "hoverinfo": "skip",
         "line": {
          "color": "#9e9e9e",
          "width": 1
         },
         "mode": "lines",
         "type": "scatter",
         "x": [
          39.5,
          39.5
         ],
         "xaxis": "x2",
         "y": [
          -0.5,
          6.5
         ],
         "yaxis": "y2"
        },
        {
         "hoverinfo": "skip",
         "line": {
          "color": "#9e9e9e",
          "width": 1
         },
         "mode": "lines",
         "type": "scatter",
         "x": [
          43.5,
          43.5
         ],
         "xaxis": "x2",
         "y": [
          2.5,
          6.5
         ],
         "yaxis": "y2"
        },
        {
         "hoverinfo": "skip",
         "line": {
          "color": "#9e9e9e",
          "width": 1
         },
         "mode": "lines",
         "type": "scatter",
         "x": [
          43.5,
          44.5
         ],
         "xaxis": "x2",
         "y": [
          2.5,
          2.5
         ],
         "yaxis": "y2"
        },
        {
         "hoverinfo": "skip",
         "line": {
          "color": "#9e9e9e",
          "width": 1
         },
         "mode": "lines",
         "type": "scatter",
         "x": [
          44.5,
          44.5
         ],
         "xaxis": "x2",
         "y": [
          2.5,
          -0.5
         ],
         "yaxis": "y2"
        },
        {
         "hoverinfo": "skip",
         "line": {
          "color": "#9e9e9e",
          "width": 1
         },
         "mode": "lines",
         "type": "scatter",
         "x": [
          47.5,
          47.5
         ],
         "xaxis": "x2",
         "y": [
          4.5,
          6.5
         ],
         "yaxis": "y2"
        },
        {
         "hoverinfo": "skip",
         "line": {
          "color": "#9e9e9e",
          "width": 1
         },
         "mode": "lines",
         "type": "scatter",
         "x": [
          47.5,
          48.5
         ],
         "xaxis": "x2",
         "y": [
          4.5,
          4.5
         ],
         "yaxis": "y2"
        },
        {
         "hoverinfo": "skip",
         "line": {
          "color": "#9e9e9e",
          "width": 1
         },
         "mode": "lines",
         "type": "scatter",
         "x": [
          48.5,
          48.5
         ],
         "xaxis": "x2",
         "y": [
          4.5,
          -0.5
         ],
         "yaxis": "y2"
        }
       ],
       "layout": {
        "font": {
         "color": "#9e9e9e",
         "size": 10
        },
        "height": 300,
        "margin": {
         "b": 20,
         "t": 20
        },
        "plot_bgcolor": "#fff",
        "showlegend": false,
        "template": {
         "data": {
          "bar": [
           {
            "error_x": {
             "color": "#2a3f5f"
            },
            "error_y": {
             "color": "#2a3f5f"
            },
            "marker": {
             "line": {
              "color": "#E5ECF6",
              "width": 0.5
             },
             "pattern": {
              "fillmode": "overlay",
              "size": 10,
              "solidity": 0.2
             }
            },
            "type": "bar"
           }
          ],
          "barpolar": [
           {
            "marker": {
             "line": {
              "color": "#E5ECF6",
              "width": 0.5
             },
             "pattern": {
              "fillmode": "overlay",
              "size": 10,
              "solidity": 0.2
             }
            },
            "type": "barpolar"
           }
          ],
          "carpet": [
           {
            "aaxis": {
             "endlinecolor": "#2a3f5f",
             "gridcolor": "white",
             "linecolor": "white",
             "minorgridcolor": "white",
             "startlinecolor": "#2a3f5f"
            },
            "baxis": {
             "endlinecolor": "#2a3f5f",
             "gridcolor": "white",
             "linecolor": "white",
             "minorgridcolor": "white",
             "startlinecolor": "#2a3f5f"
            },
            "type": "carpet"
           }
          ],
          "choropleth": [
           {
            "colorbar": {
             "outlinewidth": 0,
             "ticks": ""
            },
            "type": "choropleth"
           }
          ],
          "contour": [
           {
            "colorbar": {
             "outlinewidth": 0,
             "ticks": ""
            },
            "colorscale": [
             [
              0,
              "#0d0887"
             ],
             [
              0.1111111111111111,
              "#46039f"
             ],
             [
              0.2222222222222222,
              "#7201a8"
             ],
             [
              0.3333333333333333,
              "#9c179e"
             ],
             [
              0.4444444444444444,
              "#bd3786"
             ],
             [
              0.5555555555555556,
              "#d8576b"
             ],
             [
              0.6666666666666666,
              "#ed7953"
             ],
             [
              0.7777777777777778,
              "#fb9f3a"
             ],
             [
              0.8888888888888888,
              "#fdca26"
             ],
             [
              1,
              "#f0f921"
             ]
            ],
            "type": "contour"
           }
          ],
          "contourcarpet": [
           {
            "colorbar": {
             "outlinewidth": 0,
             "ticks": ""
            },
            "type": "contourcarpet"
           }
          ],
          "heatmap": [
           {
            "colorbar": {
             "outlinewidth": 0,
             "ticks": ""
            },
            "colorscale": [
             [
              0,
              "#0d0887"
             ],
             [
              0.1111111111111111,
              "#46039f"
             ],
             [
              0.2222222222222222,
              "#7201a8"
             ],
             [
              0.3333333333333333,
              "#9c179e"
             ],
             [
              0.4444444444444444,
              "#bd3786"
             ],
             [
              0.5555555555555556,
              "#d8576b"
             ],
             [
              0.6666666666666666,
              "#ed7953"
             ],
             [
              0.7777777777777778,
              "#fb9f3a"
             ],
             [
              0.8888888888888888,
              "#fdca26"
             ],
             [
              1,
              "#f0f921"
             ]
            ],
            "type": "heatmap"
           }
          ],
          "heatmapgl": [
           {
            "colorbar": {
             "outlinewidth": 0,
             "ticks": ""
            },
            "colorscale": [
             [
              0,
              "#0d0887"
             ],
             [
              0.1111111111111111,
              "#46039f"
             ],
             [
              0.2222222222222222,
              "#7201a8"
             ],
             [
              0.3333333333333333,
              "#9c179e"
             ],
             [
              0.4444444444444444,
              "#bd3786"
             ],
             [
              0.5555555555555556,
              "#d8576b"
             ],
             [
              0.6666666666666666,
              "#ed7953"
             ],
             [
              0.7777777777777778,
              "#fb9f3a"
             ],
             [
              0.8888888888888888,
              "#fdca26"
             ],
             [
              1,
              "#f0f921"
             ]
            ],
            "type": "heatmapgl"
           }
          ],
          "histogram": [
           {
            "marker": {
             "pattern": {
              "fillmode": "overlay",
              "size": 10,
              "solidity": 0.2
             }
            },
            "type": "histogram"
           }
          ],
          "histogram2d": [
           {
            "colorbar": {
             "outlinewidth": 0,
             "ticks": ""
            },
            "colorscale": [
             [
              0,
              "#0d0887"
             ],
             [
              0.1111111111111111,
              "#46039f"
             ],
             [
              0.2222222222222222,
              "#7201a8"
             ],
             [
              0.3333333333333333,
              "#9c179e"
             ],
             [
              0.4444444444444444,
              "#bd3786"
             ],
             [
              0.5555555555555556,
              "#d8576b"
             ],
             [
              0.6666666666666666,
              "#ed7953"
             ],
             [
              0.7777777777777778,
              "#fb9f3a"
             ],
             [
              0.8888888888888888,
              "#fdca26"
             ],
             [
              1,
              "#f0f921"
             ]
            ],
            "type": "histogram2d"
           }
          ],
          "histogram2dcontour": [
           {
            "colorbar": {
             "outlinewidth": 0,
             "ticks": ""
            },
            "colorscale": [
             [
              0,
              "#0d0887"
             ],
             [
              0.1111111111111111,
              "#46039f"
             ],
             [
              0.2222222222222222,
              "#7201a8"
             ],
             [
              0.3333333333333333,
              "#9c179e"
             ],
             [
              0.4444444444444444,
              "#bd3786"
             ],
             [
              0.5555555555555556,
              "#d8576b"
             ],
             [
              0.6666666666666666,
              "#ed7953"
             ],
             [
              0.7777777777777778,
              "#fb9f3a"
             ],
             [
              0.8888888888888888,
              "#fdca26"
             ],
             [
              1,
              "#f0f921"
             ]
            ],
            "type": "histogram2dcontour"
           }
          ],
          "mesh3d": [
           {
            "colorbar": {
             "outlinewidth": 0,
             "ticks": ""
            },
            "type": "mesh3d"
           }
          ],
          "parcoords": [
           {
            "line": {
             "colorbar": {
              "outlinewidth": 0,
              "ticks": ""
             }
            },
            "type": "parcoords"
           }
          ],
          "pie": [
           {
            "automargin": true,
            "type": "pie"
           }
          ],
          "scatter": [
           {
            "fillpattern": {
             "fillmode": "overlay",
             "size": 10,
             "solidity": 0.2
            },
            "type": "scatter"
           }
          ],
          "scatter3d": [
           {
            "line": {
             "colorbar": {
              "outlinewidth": 0,
              "ticks": ""
             }
            },
            "marker": {
             "colorbar": {
              "outlinewidth": 0,
              "ticks": ""
             }
            },
            "type": "scatter3d"
           }
          ],
          "scattercarpet": [
           {
            "marker": {
             "colorbar": {
              "outlinewidth": 0,
              "ticks": ""
             }
            },
            "type": "scattercarpet"
           }
          ],
          "scattergeo": [
           {
            "marker": {
             "colorbar": {
              "outlinewidth": 0,
              "ticks": ""
             }
            },
            "type": "scattergeo"
           }
          ],
          "scattergl": [
           {
            "marker": {
             "colorbar": {
              "outlinewidth": 0,
              "ticks": ""
             }
            },
            "type": "scattergl"
           }
          ],
          "scattermapbox": [
           {
            "marker": {
             "colorbar": {
              "outlinewidth": 0,
              "ticks": ""
             }
            },
            "type": "scattermapbox"
           }
          ],
          "scatterpolar": [
           {
            "marker": {
             "colorbar": {
              "outlinewidth": 0,
              "ticks": ""
             }
            },
            "type": "scatterpolar"
           }
          ],
          "scatterpolargl": [
           {
            "marker": {
             "colorbar": {
              "outlinewidth": 0,
              "ticks": ""
             }
            },
            "type": "scatterpolargl"
           }
          ],
          "scatterternary": [
           {
            "marker": {
             "colorbar": {
              "outlinewidth": 0,
              "ticks": ""
             }
            },
            "type": "scatterternary"
           }
          ],
          "surface": [
           {
            "colorbar": {
             "outlinewidth": 0,
             "ticks": ""
            },
            "colorscale": [
             [
              0,
              "#0d0887"
             ],
             [
              0.1111111111111111,
              "#46039f"
             ],
             [
              0.2222222222222222,
              "#7201a8"
             ],
             [
              0.3333333333333333,
              "#9c179e"
             ],
             [
              0.4444444444444444,
              "#bd3786"
             ],
             [
              0.5555555555555556,
              "#d8576b"
             ],
             [
              0.6666666666666666,
              "#ed7953"
             ],
             [
              0.7777777777777778,
              "#fb9f3a"
             ],
             [
              0.8888888888888888,
              "#fdca26"
             ],
             [
              1,
              "#f0f921"
             ]
            ],
            "type": "surface"
           }
          ],
          "table": [
           {
            "cells": {
             "fill": {
              "color": "#EBF0F8"
             },
             "line": {
              "color": "white"
             }
            },
            "header": {
             "fill": {
              "color": "#C8D4E3"
             },
             "line": {
              "color": "white"
             }
            },
            "type": "table"
           }
          ]
         },
         "layout": {
          "annotationdefaults": {
           "arrowcolor": "#2a3f5f",
           "arrowhead": 0,
           "arrowwidth": 1
          },
          "autotypenumbers": "strict",
          "coloraxis": {
           "colorbar": {
            "outlinewidth": 0,
            "ticks": ""
           }
          },
          "colorscale": {
           "diverging": [
            [
             0,
             "#8e0152"
            ],
            [
             0.1,
             "#c51b7d"
            ],
            [
             0.2,
             "#de77ae"
            ],
            [
             0.3,
             "#f1b6da"
            ],
            [
             0.4,
             "#fde0ef"
            ],
            [
             0.5,
             "#f7f7f7"
            ],
            [
             0.6,
             "#e6f5d0"
            ],
            [
             0.7,
             "#b8e186"
            ],
            [
             0.8,
             "#7fbc41"
            ],
            [
             0.9,
             "#4d9221"
            ],
            [
             1,
             "#276419"
            ]
           ],
           "sequential": [
            [
             0,
             "#0d0887"
            ],
            [
             0.1111111111111111,
             "#46039f"
            ],
            [
             0.2222222222222222,
             "#7201a8"
            ],
            [
             0.3333333333333333,
             "#9c179e"
            ],
            [
             0.4444444444444444,
             "#bd3786"
            ],
            [
             0.5555555555555556,
             "#d8576b"
            ],
            [
             0.6666666666666666,
             "#ed7953"
            ],
            [
             0.7777777777777778,
             "#fb9f3a"
            ],
            [
             0.8888888888888888,
             "#fdca26"
            ],
            [
             1,
             "#f0f921"
            ]
           ],
           "sequentialminus": [
            [
             0,
             "#0d0887"
            ],
            [
             0.1111111111111111,
             "#46039f"
            ],
            [
             0.2222222222222222,
             "#7201a8"
            ],
            [
             0.3333333333333333,
             "#9c179e"
            ],
            [
             0.4444444444444444,
             "#bd3786"
            ],
            [
             0.5555555555555556,
             "#d8576b"
            ],
            [
             0.6666666666666666,
             "#ed7953"
            ],
            [
             0.7777777777777778,
             "#fb9f3a"
            ],
            [
             0.8888888888888888,
             "#fdca26"
            ],
            [
             1,
             "#f0f921"
            ]
           ]
          },
          "colorway": [
           "#636efa",
           "#EF553B",
           "#00cc96",
           "#ab63fa",
           "#FFA15A",
           "#19d3f3",
           "#FF6692",
           "#B6E880",
           "#FF97FF",
           "#FECB52"
          ],
          "font": {
           "color": "#2a3f5f"
          },
          "geo": {
           "bgcolor": "white",
           "lakecolor": "white",
           "landcolor": "#E5ECF6",
           "showlakes": true,
           "showland": true,
           "subunitcolor": "white"
          },
          "hoverlabel": {
           "align": "left"
          },
          "hovermode": "closest",
          "mapbox": {
           "style": "light"
          },
          "paper_bgcolor": "white",
          "plot_bgcolor": "#E5ECF6",
          "polar": {
           "angularaxis": {
            "gridcolor": "white",
            "linecolor": "white",
            "ticks": ""
           },
           "bgcolor": "#E5ECF6",
           "radialaxis": {
            "gridcolor": "white",
            "linecolor": "white",
            "ticks": ""
           }
          },
          "scene": {
           "xaxis": {
            "backgroundcolor": "#E5ECF6",
            "gridcolor": "white",
            "gridwidth": 2,
            "linecolor": "white",
            "showbackground": true,
            "ticks": "",
            "zerolinecolor": "white"
           },
           "yaxis": {
            "backgroundcolor": "#E5ECF6",
            "gridcolor": "white",
            "gridwidth": 2,
            "linecolor": "white",
            "showbackground": true,
            "ticks": "",
            "zerolinecolor": "white"
           },
           "zaxis": {
            "backgroundcolor": "#E5ECF6",
            "gridcolor": "white",
            "gridwidth": 2,
            "linecolor": "white",
            "showbackground": true,
            "ticks": "",
            "zerolinecolor": "white"
           }
          },
          "shapedefaults": {
           "line": {
            "color": "#2a3f5f"
           }
          },
          "ternary": {
           "aaxis": {
            "gridcolor": "white",
            "linecolor": "white",
            "ticks": ""
           },
           "baxis": {
            "gridcolor": "white",
            "linecolor": "white",
            "ticks": ""
           },
           "bgcolor": "#E5ECF6",
           "caxis": {
            "gridcolor": "white",
            "linecolor": "white",
            "ticks": ""
           }
          },
          "title": {
           "x": 0.05
          },
          "xaxis": {
           "automargin": true,
           "gridcolor": "white",
           "linecolor": "white",
           "ticks": "",
           "title": {
            "standoff": 15
           },
           "zerolinecolor": "white",
           "zerolinewidth": 2
          },
          "yaxis": {
           "automargin": true,
           "gridcolor": "white",
           "linecolor": "white",
           "ticks": "",
           "title": {
            "standoff": 15
           },
           "zerolinecolor": "white",
           "zerolinewidth": 2
          }
         }
        },
        "title": {
         "text": ""
        },
        "xaxis": {
         "anchor": "y",
         "autorange": true,
         "domain": [
          0,
          1
         ],
         "range": [
          -0.5,
          52.5
         ],
         "showgrid": false,
         "showline": false,
         "tickmode": "array",
         "ticktext": [
          "January",
          "February",
          "March",
          "April",
          "May",
          "June",
          "July",
          "August",
          "September",
          "October",
          "November",
          "December"
         ],
         "tickvals": [
          1.5,
          5.909090909090909,
          10.318181818181818,
          14.727272727272727,
          19.136363636363637,
          23.545454545454547,
          27.954545454545453,
          32.36363636363636,
          36.77272727272727,
          41.18181818181818,
          45.59090909090909,
          50
         ],
         "type": "linear",
         "zeroline": false
        },
        "xaxis2": {
         "anchor": "y2",
         "autorange": true,
         "domain": [
          0,
          1
         ],
         "range": [
          -0.5,
          53.5
         ],
         "showgrid": false,
         "showline": false,
         "tickmode": "array",
         "ticktext": [
          "January",
          "February",
          "March",
          "April",
          "May",
          "June",
          "July",
          "August",
          "September",
          "October",
          "November",
          "December"
         ],
         "tickvals": [
          1.5,
          5.909090909090909,
          10.318181818181818,
          14.727272727272727,
          19.136363636363637,
          23.545454545454547,
          27.954545454545453,
          32.36363636363636,
          36.77272727272727,
          41.18181818181818,
          45.59090909090909,
          50
         ],
         "type": "linear",
         "zeroline": false
        },
        "yaxis": {
         "anchor": "x",
         "autorange": true,
         "domain": [
          0.54,
          1
         ],
         "range": [
          6.888888888888889,
          -0.8888888888888888
         ],
         "showgrid": false,
         "showline": false,
         "tickmode": "array",
         "ticktext": [
          "Mon",
          "Tue",
          "Wed",
          "Thu",
          "Fri",
          "Sat",
          "Sun"
         ],
         "tickvals": [
          0,
          1,
          2,
          3,
          4,
          5,
          6
         ],
         "type": "linear",
         "zeroline": false
        },
        "yaxis2": {
         "anchor": "x2",
         "autorange": true,
         "domain": [
          0,
          0.46
         ],
         "range": [
          6.888888888888889,
          -0.8888888888888888
         ],
         "showgrid": false,
         "showline": false,
         "tickmode": "array",
         "ticktext": [
          "Mon",
          "Tue",
          "Wed",
          "Thu",
          "Fri",
          "Sat",
          "Sun"
         ],
         "tickvals": [
          0,
          1,
          2,
          3,
          4,
          5,
          6
         ],
         "type": "linear",
         "zeroline": false
        }
       }
      },
      "text/html": [
       "<div>                            <div id=\"461b06ac-e9a3-44d1-ab2c-275f382792af\" class=\"plotly-graph-div\" style=\"height:300px; width:100%;\"></div>            <script type=\"text/javascript\">                require([\"plotly\"], function(Plotly) {                    window.PLOTLYENV=window.PLOTLYENV || {};                                    if (document.getElementById(\"461b06ac-e9a3-44d1-ab2c-275f382792af\")) {                    Plotly.newPlot(                        \"461b06ac-e9a3-44d1-ab2c-275f382792af\",                        [{\"colorscale\":[[0.0,\"rgb(247,252,245)\"],[0.125,\"rgb(229,245,224)\"],[0.25,\"rgb(199,233,192)\"],[0.375,\"rgb(161,217,155)\"],[0.5,\"rgb(116,196,118)\"],[0.625,\"rgb(65,171,93)\"],[0.75,\"rgb(35,139,69)\"],[0.875,\"rgb(0,109,44)\"],[1.0,\"rgb(0,68,27)\"]],\"customdata\":[[\"2011-01-01\",\"y\"],[\"2011-01-02\",\"y\"],[\"2011-01-03\",\"y\"],[\"2011-01-04\",\"y\"],[\"2011-01-05\",\"y\"],[\"2011-01-06\",\"y\"],[\"2011-01-07\",\"y\"],[\"2011-01-08\",\"y\"],[\"2011-01-09\",\"y\"],[\"2011-01-10\",\"y\"],[\"2011-01-11\",\"y\"],[\"2011-01-12\",\"y\"],[\"2011-01-13\",\"y\"],[\"2011-01-14\",\"y\"],[\"2011-01-15\",\"y\"],[\"2011-01-16\",\"y\"],[\"2011-01-17\",\"y\"],[\"2011-01-18\",\"y\"],[\"2011-01-19\",\"y\"],[\"2011-01-20\",\"y\"],[\"2011-01-21\",\"y\"],[\"2011-01-22\",\"y\"],[\"2011-01-23\",\"y\"],[\"2011-01-24\",\"y\"],[\"2011-01-25\",\"y\"],[\"2011-01-26\",\"y\"],[\"2011-01-27\",\"y\"],[\"2011-01-28\",\"y\"],[\"2011-01-29\",\"y\"],[\"2011-01-30\",\"y\"],[\"2011-01-31\",\"y\"],[\"2011-02-01\",\"y\"],[\"2011-02-02\",\"y\"],[\"2011-02-03\",\"y\"],[\"2011-02-04\",\"y\"],[\"2011-02-05\",\"y\"],[\"2011-02-06\",\"y\"],[\"2011-02-07\",\"y\"],[\"2011-02-08\",\"y\"],[\"2011-02-09\",\"y\"],[\"2011-02-10\",\"y\"],[\"2011-02-11\",\"y\"],[\"2011-02-12\",\"y\"],[\"2011-02-13\",\"y\"],[\"2011-02-14\",\"y\"],[\"2011-02-15\",\"y\"],[\"2011-02-16\",\"y\"],[\"2011-02-17\",\"y\"],[\"2011-02-18\",\"y\"],[\"2011-02-19\",\"y\"],[\"2011-02-20\",\"y\"],[\"2011-02-21\",\"y\"],[\"2011-02-22\",\"y\"],[\"2011-02-23\",\"y\"],[\"2011-02-24\",\"y\"],[\"2011-02-25\",\"y\"],[\"2011-02-26\",\"y\"],[\"2011-02-27\",\"y\"],[\"2011-02-28\",\"y\"],[\"2011-03-01\",\"y\"],[\"2011-03-02\",\"y\"],[\"2011-03-03\",\"y\"],[\"2011-03-04\",\"y\"],[\"2011-03-05\",\"y\"],[\"2011-03-06\",\"y\"],[\"2011-03-07\",\"y\"],[\"2011-03-08\",\"y\"],[\"2011-03-09\",\"y\"],[\"2011-03-10\",\"y\"],[\"2011-03-11\",\"y\"],[\"2011-03-12\",\"y\"],[\"2011-03-13\",\"y\"],[\"2011-03-14\",\"y\"],[\"2011-03-15\",\"y\"],[\"2011-03-16\",\"y\"],[\"2011-03-17\",\"y\"],[\"2011-03-18\",\"y\"],[\"2011-03-19\",\"y\"],[\"2011-03-20\",\"y\"],[\"2011-03-21\",\"y\"],[\"2011-03-22\",\"y\"],[\"2011-03-23\",\"y\"],[\"2011-03-24\",\"y\"],[\"2011-03-25\",\"y\"],[\"2011-03-26\",\"y\"],[\"2011-03-27\",\"y\"],[\"2011-03-28\",\"y\"],[\"2011-03-29\",\"y\"],[\"2011-03-30\",\"y\"],[\"2011-03-31\",\"y\"],[\"2011-04-01\",\"y\"],[\"2011-04-02\",\"y\"],[\"2011-04-03\",\"y\"],[\"2011-04-04\",\"y\"],[\"2011-04-05\",\"y\"],[\"2011-04-06\",\"y\"],[\"2011-04-07\",\"y\"],[\"2011-04-08\",\"y\"],[\"2011-04-09\",\"y\"],[\"2011-04-10\",\"y\"],[\"2011-04-11\",\"y\"],[\"2011-04-12\",\"y\"],[\"2011-04-13\",\"y\"],[\"2011-04-14\",\"y\"],[\"2011-04-15\",\"y\"],[\"2011-04-16\",\"y\"],[\"2011-04-17\",\"y\"],[\"2011-04-18\",\"y\"],[\"2011-04-19\",\"y\"],[\"2011-04-20\",\"y\"],[\"2011-04-21\",\"y\"],[\"2011-04-22\",\"y\"],[\"2011-04-23\",\"y\"],[\"2011-04-24\",\"y\"],[\"2011-04-25\",\"y\"],[\"2011-04-26\",\"y\"],[\"2011-04-27\",\"y\"],[\"2011-04-28\",\"y\"],[\"2011-04-29\",\"y\"],[\"2011-04-30\",\"y\"],[\"2011-05-01\",\"y\"],[\"2011-05-02\",\"y\"],[\"2011-05-03\",\"y\"],[\"2011-05-04\",\"y\"],[\"2011-05-05\",\"y\"],[\"2011-05-06\",\"y\"],[\"2011-05-07\",\"y\"],[\"2011-05-08\",\"y\"],[\"2011-05-09\",\"y\"],[\"2011-05-10\",\"y\"],[\"2011-05-11\",\"y\"],[\"2011-05-12\",\"y\"],[\"2011-05-13\",\"y\"],[\"2011-05-14\",\"y\"],[\"2011-05-15\",\"y\"],[\"2011-05-16\",\"y\"],[\"2011-05-17\",\"y\"],[\"2011-05-18\",\"y\"],[\"2011-05-19\",\"y\"],[\"2011-05-20\",\"y\"],[\"2011-05-21\",\"y\"],[\"2011-05-22\",\"y\"],[\"2011-05-23\",\"y\"],[\"2011-05-24\",\"y\"],[\"2011-05-25\",\"y\"],[\"2011-05-26\",\"y\"],[\"2011-05-27\",\"y\"],[\"2011-05-28\",\"y\"],[\"2011-05-29\",\"y\"],[\"2011-05-30\",\"y\"],[\"2011-05-31\",\"y\"],[\"2011-06-01\",\"y\"],[\"2011-06-02\",\"y\"],[\"2011-06-03\",\"y\"],[\"2011-06-04\",\"y\"],[\"2011-06-05\",\"y\"],[\"2011-06-06\",\"y\"],[\"2011-06-07\",\"y\"],[\"2011-06-08\",\"y\"],[\"2011-06-09\",\"y\"],[\"2011-06-10\",\"y\"],[\"2011-06-11\",\"y\"],[\"2011-06-12\",\"y\"],[\"2011-06-13\",\"y\"],[\"2011-06-14\",\"y\"],[\"2011-06-15\",\"y\"],[\"2011-06-16\",\"y\"],[\"2011-06-17\",\"y\"],[\"2011-06-18\",\"y\"],[\"2011-06-19\",\"y\"],[\"2011-06-20\",\"y\"],[\"2011-06-21\",\"y\"],[\"2011-06-22\",\"y\"],[\"2011-06-23\",\"y\"],[\"2011-06-24\",\"y\"],[\"2011-06-25\",\"y\"],[\"2011-06-26\",\"y\"],[\"2011-06-27\",\"y\"],[\"2011-06-28\",\"y\"],[\"2011-06-29\",\"y\"],[\"2011-06-30\",\"y\"],[\"2011-07-01\",\"y\"],[\"2011-07-02\",\"y\"],[\"2011-07-03\",\"y\"],[\"2011-07-04\",\"y\"],[\"2011-07-05\",\"y\"],[\"2011-07-06\",\"y\"],[\"2011-07-07\",\"y\"],[\"2011-07-08\",\"y\"],[\"2011-07-09\",\"y\"],[\"2011-07-10\",\"y\"],[\"2011-07-11\",\"y\"],[\"2011-07-12\",\"y\"],[\"2011-07-13\",\"y\"],[\"2011-07-14\",\"y\"],[\"2011-07-15\",\"y\"],[\"2011-07-16\",\"y\"],[\"2011-07-17\",\"y\"],[\"2011-07-18\",\"y\"],[\"2011-07-19\",\"y\"],[\"2011-07-20\",\"y\"],[\"2011-07-21\",\"y\"],[\"2011-07-22\",\"y\"],[\"2011-07-23\",\"y\"],[\"2011-07-24\",\"y\"],[\"2011-07-25\",\"y\"],[\"2011-07-26\",\"y\"],[\"2011-07-27\",\"y\"],[\"2011-07-28\",\"y\"],[\"2011-07-29\",\"y\"],[\"2011-07-30\",\"y\"],[\"2011-07-31\",\"y\"],[\"2011-08-01\",\"y\"],[\"2011-08-02\",\"y\"],[\"2011-08-03\",\"y\"],[\"2011-08-04\",\"y\"],[\"2011-08-05\",\"y\"],[\"2011-08-06\",\"y\"],[\"2011-08-07\",\"y\"],[\"2011-08-08\",\"y\"],[\"2011-08-09\",\"y\"],[\"2011-08-10\",\"y\"],[\"2011-08-11\",\"y\"],[\"2011-08-12\",\"y\"],[\"2011-08-13\",\"y\"],[\"2011-08-14\",\"y\"],[\"2011-08-15\",\"y\"],[\"2011-08-16\",\"y\"],[\"2011-08-17\",\"y\"],[\"2011-08-18\",\"y\"],[\"2011-08-19\",\"y\"],[\"2011-08-20\",\"y\"],[\"2011-08-21\",\"y\"],[\"2011-08-22\",\"y\"],[\"2011-08-23\",\"y\"],[\"2011-08-24\",\"y\"],[\"2011-08-25\",\"y\"],[\"2011-08-26\",\"y\"],[\"2011-08-27\",\"y\"],[\"2011-08-28\",\"y\"],[\"2011-08-29\",\"y\"],[\"2011-08-30\",\"y\"],[\"2011-08-31\",\"y\"],[\"2011-09-01\",\"y\"],[\"2011-09-02\",\"y\"],[\"2011-09-03\",\"y\"],[\"2011-09-04\",\"y\"],[\"2011-09-05\",\"y\"],[\"2011-09-06\",\"y\"],[\"2011-09-07\",\"y\"],[\"2011-09-08\",\"y\"],[\"2011-09-09\",\"y\"],[\"2011-09-10\",\"y\"],[\"2011-09-11\",\"y\"],[\"2011-09-12\",\"y\"],[\"2011-09-13\",\"y\"],[\"2011-09-14\",\"y\"],[\"2011-09-15\",\"y\"],[\"2011-09-16\",\"y\"],[\"2011-09-17\",\"y\"],[\"2011-09-18\",\"y\"],[\"2011-09-19\",\"y\"],[\"2011-09-20\",\"y\"],[\"2011-09-21\",\"y\"],[\"2011-09-22\",\"y\"],[\"2011-09-23\",\"y\"],[\"2011-09-24\",\"y\"],[\"2011-09-25\",\"y\"],[\"2011-09-26\",\"y\"],[\"2011-09-27\",\"y\"],[\"2011-09-28\",\"y\"],[\"2011-09-29\",\"y\"],[\"2011-09-30\",\"y\"],[\"2011-10-01\",\"y\"],[\"2011-10-02\",\"y\"],[\"2011-10-03\",\"y\"],[\"2011-10-04\",\"y\"],[\"2011-10-05\",\"y\"],[\"2011-10-06\",\"y\"],[\"2011-10-07\",\"y\"],[\"2011-10-08\",\"y\"],[\"2011-10-09\",\"y\"],[\"2011-10-10\",\"y\"],[\"2011-10-11\",\"y\"],[\"2011-10-12\",\"y\"],[\"2011-10-13\",\"y\"],[\"2011-10-14\",\"y\"],[\"2011-10-15\",\"y\"],[\"2011-10-16\",\"y\"],[\"2011-10-17\",\"y\"],[\"2011-10-18\",\"y\"],[\"2011-10-19\",\"y\"],[\"2011-10-20\",\"y\"],[\"2011-10-21\",\"y\"],[\"2011-10-22\",\"y\"],[\"2011-10-23\",\"y\"],[\"2011-10-24\",\"y\"],[\"2011-10-25\",\"y\"],[\"2011-10-26\",\"y\"],[\"2011-10-27\",\"y\"],[\"2011-10-28\",\"y\"],[\"2011-10-29\",\"y\"],[\"2011-10-30\",\"y\"],[\"2011-10-31\",\"y\"],[\"2011-11-01\",\"y\"],[\"2011-11-02\",\"y\"],[\"2011-11-03\",\"y\"],[\"2011-11-04\",\"y\"],[\"2011-11-05\",\"y\"],[\"2011-11-06\",\"y\"],[\"2011-11-07\",\"y\"],[\"2011-11-08\",\"y\"],[\"2011-11-09\",\"y\"],[\"2011-11-10\",\"y\"],[\"2011-11-11\",\"y\"],[\"2011-11-12\",\"y\"],[\"2011-11-13\",\"y\"],[\"2011-11-14\",\"y\"],[\"2011-11-15\",\"y\"],[\"2011-11-16\",\"y\"],[\"2011-11-17\",\"y\"],[\"2011-11-18\",\"y\"],[\"2011-11-19\",\"y\"],[\"2011-11-20\",\"y\"],[\"2011-11-21\",\"y\"],[\"2011-11-22\",\"y\"],[\"2011-11-23\",\"y\"],[\"2011-11-24\",\"y\"],[\"2011-11-25\",\"y\"],[\"2011-11-26\",\"y\"],[\"2011-11-27\",\"y\"],[\"2011-11-28\",\"y\"],[\"2011-11-29\",\"y\"],[\"2011-11-30\",\"y\"],[\"2011-12-01\",\"y\"],[\"2011-12-02\",\"y\"],[\"2011-12-03\",\"y\"],[\"2011-12-04\",\"y\"],[\"2011-12-05\",\"y\"],[\"2011-12-06\",\"y\"],[\"2011-12-07\",\"y\"],[\"2011-12-08\",\"y\"],[\"2011-12-09\",\"y\"],[\"2011-12-10\",\"y\"],[\"2011-12-11\",\"y\"],[\"2011-12-12\",\"y\"],[\"2011-12-13\",\"y\"],[\"2011-12-14\",\"y\"],[\"2011-12-15\",\"y\"],[\"2011-12-16\",\"y\"],[\"2011-12-17\",\"y\"],[\"2011-12-18\",\"y\"],[\"2011-12-19\",\"y\"],[\"2011-12-20\",\"y\"],[\"2011-12-21\",\"y\"],[\"2011-12-22\",\"y\"],[\"2011-12-23\",\"y\"],[\"2011-12-24\",\"y\"],[\"2011-12-25\",\"y\"],[\"2011-12-26\",\"y\"],[\"2011-12-27\",\"y\"],[\"2011-12-28\",\"y\"],[\"2011-12-29\",\"y\"],[\"2011-12-30\",\"y\"],[\"2011-12-31\",\"y\"]],\"hovertemplate\":\"%{customdata[0]} \\u003cbr\\u003eWeek=%{x} \\u003cbr\\u003e%{customdata[1]}=%{z}\",\"name\":\"2011\",\"showscale\":false,\"x\":[0,0,1,1,1,1,1,1,1,2,2,2,2,2,2,2,3,3,3,3,3,3,3,4,4,4,4,4,4,4,5,5,5,5,5,5,5,6,6,6,6,6,6,6,7,7,7,7,7,7,7,8,8,8,8,8,8,8,9,9,9,9,9,9,9,10,10,10,10,10,10,10,11,11,11,11,11,11,11,12,12,12,12,12,12,12,13,13,13,13,13,13,13,14,14,14,14,14,14,14,15,15,15,15,15,15,15,16,16,16,16,16,16,16,17,17,17,17,17,17,17,18,18,18,18,18,18,18,19,19,19,19,19,19,19,20,20,20,20,20,20,20,21,21,21,21,21,21,21,22,22,22,22,22,22,22,23,23,23,23,23,23,23,24,24,24,24,24,24,24,25,25,25,25,25,25,25,26,26,26,26,26,26,26,27,27,27,27,27,27,27,28,28,28,28,28,28,28,29,29,29,29,29,29,29,30,30,30,30,30,30,30,31,31,31,31,31,31,31,32,32,32,32,32,32,32,33,33,33,33,33,33,33,34,34,34,34,34,34,34,35,35,35,35,35,35,35,36,36,36,36,36,36,36,37,37,37,37,37,37,37,38,38,38,38,38,38,38,39,39,39,39,39,39,39,40,40,40,40,40,40,40,41,41,41,41,41,41,41,42,42,42,42,42,42,42,43,43,43,43,43,43,43,44,44,44,44,44,44,44,45,45,45,45,45,45,45,46,46,46,46,46,46,46,47,47,47,47,47,47,47,48,48,48,48,48,48,48,49,49,49,49,49,49,49,50,50,50,50,50,50,50,51,51,51,51,51,51,51,52,52,52,52,52,52],\"xgap\":1,\"y\":[5,6,0,1,2,3,4,5,6,0,1,2,3,4,5,6,0,1,2,3,4,5,6,0,1,2,3,4,5,6,0,1,2,3,4,5,6,0,1,2,3,4,5,6,0,1,2,3,4,5,6,0,1,2,3,4,5,6,0,1,2,3,4,5,6,0,1,2,3,4,5,6,0,1,2,3,4,5,6,0,1,2,3,4,5,6,0,1,2,3,4,5,6,0,1,2,3,4,5,6,0,1,2,3,4,5,6,0,1,2,3,4,5,6,0,1,2,3,4,5,6,0,1,2,3,4,5,6,0,1,2,3,4,5,6,0,1,2,3,4,5,6,0,1,2,3,4,5,6,0,1,2,3,4,5,6,0,1,2,3,4,5,6,0,1,2,3,4,5,6,0,1,2,3,4,5,6,0,1,2,3,4,5,6,0,1,2,3,4,5,6,0,1,2,3,4,5,6,0,1,2,3,4,5,6,0,1,2,3,4,5,6,0,1,2,3,4,5,6,0,1,2,3,4,5,6,0,1,2,3,4,5,6,0,1,2,3,4,5,6,0,1,2,3,4,5,6,0,1,2,3,4,5,6,0,1,2,3,4,5,6,0,1,2,3,4,5,6,0,1,2,3,4,5,6,0,1,2,3,4,5,6,0,1,2,3,4,5,6,0,1,2,3,4,5,6,0,1,2,3,4,5,6,0,1,2,3,4,5,6,0,1,2,3,4,5,6,0,1,2,3,4,5,6,0,1,2,3,4,5,6,0,1,2,3,4,5,6,0,1,2,3,4,5,6,0,1,2,3,4,5,6,0,1,2,3,4,5,6,0,1,2,3,4,5],\"ygap\":1,\"z\":[985,801,1349,1562,1600,1606,1510,959,822,1321,1263,1162,1406,1421,1248,1204,1000,683,1650,1927,1543,981,986,1416,1985,506,431,1167,1098,1096,1501,1360,1526,1550,1708,1005,1623,1712,1530,1605,1538,1746,1472,1589,1913,1815,2115,2475,2927,1635,1812,1107,1450,1917,1807,1461,1969,2402,1446,1851,2134,1685,1944,2077,605,1872,2133,1891,623,1977,2132,2417,2046,2056,2192,2744,3239,3117,2471,2077,2703,2121,1865,2210,2496,1693,2028,2425,1536,1685,2227,2252,3249,3115,1795,2808,3141,1471,2455,2895,3348,2034,2162,3267,3126,795,3744,3429,3204,3944,4189,1683,4036,4191,4073,4400,3872,4058,4595,5312,3351,4401,4451,2633,4433,4608,4714,4333,4362,4803,4182,4864,4105,3409,4553,3958,4123,3855,4575,4917,5805,4660,4274,4492,4978,4677,4679,4758,4788,4098,3982,3974,4968,5312,5342,4906,4548,4833,4401,3915,4586,4966,4460,5020,4891,5180,3767,4844,5119,4744,4010,4835,4507,4790,4991,5202,5305,4708,4648,5225,5515,5362,5119,4649,6043,4665,4629,4592,4040,5336,4881,4086,4258,4342,5084,5538,5923,5302,4458,4541,4332,3784,3387,3285,3606,3840,4590,4656,4390,3846,4475,4302,4266,4845,3574,4576,4866,4294,3785,4326,4602,4780,4792,4905,4150,3820,4338,4725,4694,3805,4153,5191,3873,4758,5895,5130,3542,4661,1115,4334,4634,5204,5058,5115,4727,4484,4940,3351,2710,1996,1842,3544,5345,5046,4713,4763,4785,3659,4760,4511,4274,4539,3641,4352,4795,2395,5423,5010,4630,4120,3907,4839,5202,2429,2918,3570,4456,4826,4765,4985,5409,5511,5117,4563,2416,2913,3644,5217,5041,4570,4748,2424,4195,4304,4308,4381,4187,4687,3894,2659,3747,627,3331,3669,4068,4186,3974,4046,3926,3649,4035,4205,4109,2933,3368,4067,3717,4486,4195,1817,3053,3392,3663,3520,2765,1607,2566,1495,2792,3068,3071,3867,2914,3613,3727,3940,3614,3485,3811,2594,705,3322,3620,3190,2743,3310,3523,3740,3709,3577,2739,2431,3403,3750,2660,3068,2209,1011,754,1317,1162,2302,2423,2999,2485],\"type\":\"heatmap\",\"xaxis\":\"x\",\"yaxis\":\"y\",\"zmax\":8714,\"zmin\":22},{\"hoverinfo\":\"skip\",\"line\":{\"color\":\"#9e9e9e\",\"width\":1},\"mode\":\"lines\",\"x\":[-0.5,-0.5],\"y\":[4.5,6.5],\"type\":\"scatter\",\"xaxis\":\"x\",\"yaxis\":\"y\"},{\"hoverinfo\":\"skip\",\"line\":{\"color\":\"#9e9e9e\",\"width\":1},\"mode\":\"lines\",\"x\":[-0.5,0.5],\"y\":[4.5,4.5],\"type\":\"scatter\",\"xaxis\":\"x\",\"yaxis\":\"y\"},{\"hoverinfo\":\"skip\",\"line\":{\"color\":\"#9e9e9e\",\"width\":1},\"mode\":\"lines\",\"x\":[0.5,0.5],\"y\":[4.5,-0.5],\"type\":\"scatter\",\"xaxis\":\"x\",\"yaxis\":\"y\"},{\"hoverinfo\":\"skip\",\"line\":{\"color\":\"#9e9e9e\",\"width\":1},\"mode\":\"lines\",\"x\":[4.5,4.5],\"y\":[0.5,6.5],\"type\":\"scatter\",\"xaxis\":\"x\",\"yaxis\":\"y\"},{\"hoverinfo\":\"skip\",\"line\":{\"color\":\"#9e9e9e\",\"width\":1},\"mode\":\"lines\",\"x\":[4.5,5.5],\"y\":[0.5,0.5],\"type\":\"scatter\",\"xaxis\":\"x\",\"yaxis\":\"y\"},{\"hoverinfo\":\"skip\",\"line\":{\"color\":\"#9e9e9e\",\"width\":1},\"mode\":\"lines\",\"x\":[5.5,5.5],\"y\":[0.5,-0.5],\"type\":\"scatter\",\"xaxis\":\"x\",\"yaxis\":\"y\"},{\"hoverinfo\":\"skip\",\"line\":{\"color\":\"#9e9e9e\",\"width\":1},\"mode\":\"lines\",\"x\":[8.5,8.5],\"y\":[0.5,6.5],\"type\":\"scatter\",\"xaxis\":\"x\",\"yaxis\":\"y\"},{\"hoverinfo\":\"skip\",\"line\":{\"color\":\"#9e9e9e\",\"width\":1},\"mode\":\"lines\",\"x\":[8.5,9.5],\"y\":[0.5,0.5],\"type\":\"scatter\",\"xaxis\":\"x\",\"yaxis\":\"y\"},{\"hoverinfo\":\"skip\",\"line\":{\"color\":\"#9e9e9e\",\"width\":1},\"mode\":\"lines\",\"x\":[9.5,9.5],\"y\":[0.5,-0.5],\"type\":\"scatter\",\"xaxis\":\"x\",\"yaxis\":\"y\"},{\"hoverinfo\":\"skip\",\"line\":{\"color\":\"#9e9e9e\",\"width\":1},\"mode\":\"lines\",\"x\":[12.5,12.5],\"y\":[3.5,6.5],\"type\":\"scatter\",\"xaxis\":\"x\",\"yaxis\":\"y\"},{\"hoverinfo\":\"skip\",\"line\":{\"color\":\"#9e9e9e\",\"width\":1},\"mode\":\"lines\",\"x\":[12.5,13.5],\"y\":[3.5,3.5],\"type\":\"scatter\",\"xaxis\":\"x\",\"yaxis\":\"y\"},{\"hoverinfo\":\"skip\",\"line\":{\"color\":\"#9e9e9e\",\"width\":1},\"mode\":\"lines\",\"x\":[13.5,13.5],\"y\":[3.5,-0.5],\"type\":\"scatter\",\"xaxis\":\"x\",\"yaxis\":\"y\"},{\"hoverinfo\":\"skip\",\"line\":{\"color\":\"#9e9e9e\",\"width\":1},\"mode\":\"lines\",\"x\":[16.5,16.5],\"y\":[5.5,6.5],\"type\":\"scatter\",\"xaxis\":\"x\",\"yaxis\":\"y\"},{\"hoverinfo\":\"skip\",\"line\":{\"color\":\"#9e9e9e\",\"width\":1},\"mode\":\"lines\",\"x\":[16.5,17.5],\"y\":[5.5,5.5],\"type\":\"scatter\",\"xaxis\":\"x\",\"yaxis\":\"y\"},{\"hoverinfo\":\"skip\",\"line\":{\"color\":\"#9e9e9e\",\"width\":1},\"mode\":\"lines\",\"x\":[17.5,17.5],\"y\":[5.5,-0.5],\"type\":\"scatter\",\"xaxis\":\"x\",\"yaxis\":\"y\"},{\"hoverinfo\":\"skip\",\"line\":{\"color\":\"#9e9e9e\",\"width\":1},\"mode\":\"lines\",\"x\":[21.5,21.5],\"y\":[1.5,6.5],\"type\":\"scatter\",\"xaxis\":\"x\",\"yaxis\":\"y\"},{\"hoverinfo\":\"skip\",\"line\":{\"color\":\"#9e9e9e\",\"width\":1},\"mode\":\"lines\",\"x\":[21.5,22.5],\"y\":[1.5,1.5],\"type\":\"scatter\",\"xaxis\":\"x\",\"yaxis\":\"y\"},{\"hoverinfo\":\"skip\",\"line\":{\"color\":\"#9e9e9e\",\"width\":1},\"mode\":\"lines\",\"x\":[22.5,22.5],\"y\":[1.5,-0.5],\"type\":\"scatter\",\"xaxis\":\"x\",\"yaxis\":\"y\"},{\"hoverinfo\":\"skip\",\"line\":{\"color\":\"#9e9e9e\",\"width\":1},\"mode\":\"lines\",\"x\":[25.5,25.5],\"y\":[3.5,6.5],\"type\":\"scatter\",\"xaxis\":\"x\",\"yaxis\":\"y\"},{\"hoverinfo\":\"skip\",\"line\":{\"color\":\"#9e9e9e\",\"width\":1},\"mode\":\"lines\",\"x\":[25.5,26.5],\"y\":[3.5,3.5],\"type\":\"scatter\",\"xaxis\":\"x\",\"yaxis\":\"y\"},{\"hoverinfo\":\"skip\",\"line\":{\"color\":\"#9e9e9e\",\"width\":1},\"mode\":\"lines\",\"x\":[26.5,26.5],\"y\":[3.5,-0.5],\"type\":\"scatter\",\"xaxis\":\"x\",\"yaxis\":\"y\"},{\"hoverinfo\":\"skip\",\"line\":{\"color\":\"#9e9e9e\",\"width\":1},\"mode\":\"lines\",\"x\":[30.5,30.5],\"y\":[-0.5,6.5],\"type\":\"scatter\",\"xaxis\":\"x\",\"yaxis\":\"y\"},{\"hoverinfo\":\"skip\",\"line\":{\"color\":\"#9e9e9e\",\"width\":1},\"mode\":\"lines\",\"x\":[34.5,34.5],\"y\":[2.5,6.5],\"type\":\"scatter\",\"xaxis\":\"x\",\"yaxis\":\"y\"},{\"hoverinfo\":\"skip\",\"line\":{\"color\":\"#9e9e9e\",\"width\":1},\"mode\":\"lines\",\"x\":[34.5,35.5],\"y\":[2.5,2.5],\"type\":\"scatter\",\"xaxis\":\"x\",\"yaxis\":\"y\"},{\"hoverinfo\":\"skip\",\"line\":{\"color\":\"#9e9e9e\",\"width\":1},\"mode\":\"lines\",\"x\":[35.5,35.5],\"y\":[2.5,-0.5],\"type\":\"scatter\",\"xaxis\":\"x\",\"yaxis\":\"y\"},{\"hoverinfo\":\"skip\",\"line\":{\"color\":\"#9e9e9e\",\"width\":1},\"mode\":\"lines\",\"x\":[38.5,38.5],\"y\":[4.5,6.5],\"type\":\"scatter\",\"xaxis\":\"x\",\"yaxis\":\"y\"},{\"hoverinfo\":\"skip\",\"line\":{\"color\":\"#9e9e9e\",\"width\":1},\"mode\":\"lines\",\"x\":[38.5,39.5],\"y\":[4.5,4.5],\"type\":\"scatter\",\"xaxis\":\"x\",\"yaxis\":\"y\"},{\"hoverinfo\":\"skip\",\"line\":{\"color\":\"#9e9e9e\",\"width\":1},\"mode\":\"lines\",\"x\":[39.5,39.5],\"y\":[4.5,-0.5],\"type\":\"scatter\",\"xaxis\":\"x\",\"yaxis\":\"y\"},{\"hoverinfo\":\"skip\",\"line\":{\"color\":\"#9e9e9e\",\"width\":1},\"mode\":\"lines\",\"x\":[43.5,43.5],\"y\":[0.5,6.5],\"type\":\"scatter\",\"xaxis\":\"x\",\"yaxis\":\"y\"},{\"hoverinfo\":\"skip\",\"line\":{\"color\":\"#9e9e9e\",\"width\":1},\"mode\":\"lines\",\"x\":[43.5,44.5],\"y\":[0.5,0.5],\"type\":\"scatter\",\"xaxis\":\"x\",\"yaxis\":\"y\"},{\"hoverinfo\":\"skip\",\"line\":{\"color\":\"#9e9e9e\",\"width\":1},\"mode\":\"lines\",\"x\":[44.5,44.5],\"y\":[0.5,-0.5],\"type\":\"scatter\",\"xaxis\":\"x\",\"yaxis\":\"y\"},{\"hoverinfo\":\"skip\",\"line\":{\"color\":\"#9e9e9e\",\"width\":1},\"mode\":\"lines\",\"x\":[47.5,47.5],\"y\":[2.5,6.5],\"type\":\"scatter\",\"xaxis\":\"x\",\"yaxis\":\"y\"},{\"hoverinfo\":\"skip\",\"line\":{\"color\":\"#9e9e9e\",\"width\":1},\"mode\":\"lines\",\"x\":[47.5,48.5],\"y\":[2.5,2.5],\"type\":\"scatter\",\"xaxis\":\"x\",\"yaxis\":\"y\"},{\"hoverinfo\":\"skip\",\"line\":{\"color\":\"#9e9e9e\",\"width\":1},\"mode\":\"lines\",\"x\":[48.5,48.5],\"y\":[2.5,-0.5],\"type\":\"scatter\",\"xaxis\":\"x\",\"yaxis\":\"y\"},{\"colorscale\":[[0.0,\"rgb(247,252,245)\"],[0.125,\"rgb(229,245,224)\"],[0.25,\"rgb(199,233,192)\"],[0.375,\"rgb(161,217,155)\"],[0.5,\"rgb(116,196,118)\"],[0.625,\"rgb(65,171,93)\"],[0.75,\"rgb(35,139,69)\"],[0.875,\"rgb(0,109,44)\"],[1.0,\"rgb(0,68,27)\"]],\"customdata\":[[\"2012-01-01\",\"y\"],[\"2012-01-02\",\"y\"],[\"2012-01-03\",\"y\"],[\"2012-01-04\",\"y\"],[\"2012-01-05\",\"y\"],[\"2012-01-06\",\"y\"],[\"2012-01-07\",\"y\"],[\"2012-01-08\",\"y\"],[\"2012-01-09\",\"y\"],[\"2012-01-10\",\"y\"],[\"2012-01-11\",\"y\"],[\"2012-01-12\",\"y\"],[\"2012-01-13\",\"y\"],[\"2012-01-14\",\"y\"],[\"2012-01-15\",\"y\"],[\"2012-01-16\",\"y\"],[\"2012-01-17\",\"y\"],[\"2012-01-18\",\"y\"],[\"2012-01-19\",\"y\"],[\"2012-01-20\",\"y\"],[\"2012-01-21\",\"y\"],[\"2012-01-22\",\"y\"],[\"2012-01-23\",\"y\"],[\"2012-01-24\",\"y\"],[\"2012-01-25\",\"y\"],[\"2012-01-26\",\"y\"],[\"2012-01-27\",\"y\"],[\"2012-01-28\",\"y\"],[\"2012-01-29\",\"y\"],[\"2012-01-30\",\"y\"],[\"2012-01-31\",\"y\"],[\"2012-02-01\",\"y\"],[\"2012-02-02\",\"y\"],[\"2012-02-03\",\"y\"],[\"2012-02-04\",\"y\"],[\"2012-02-05\",\"y\"],[\"2012-02-06\",\"y\"],[\"2012-02-07\",\"y\"],[\"2012-02-08\",\"y\"],[\"2012-02-09\",\"y\"],[\"2012-02-10\",\"y\"],[\"2012-02-11\",\"y\"],[\"2012-02-12\",\"y\"],[\"2012-02-13\",\"y\"],[\"2012-02-14\",\"y\"],[\"2012-02-15\",\"y\"],[\"2012-02-16\",\"y\"],[\"2012-02-17\",\"y\"],[\"2012-02-18\",\"y\"],[\"2012-02-19\",\"y\"],[\"2012-02-20\",\"y\"],[\"2012-02-21\",\"y\"],[\"2012-02-22\",\"y\"],[\"2012-02-23\",\"y\"],[\"2012-02-24\",\"y\"],[\"2012-02-25\",\"y\"],[\"2012-02-26\",\"y\"],[\"2012-02-27\",\"y\"],[\"2012-02-28\",\"y\"],[\"2012-02-29\",\"y\"],[\"2012-03-01\",\"y\"],[\"2012-03-02\",\"y\"],[\"2012-03-03\",\"y\"],[\"2012-03-04\",\"y\"],[\"2012-03-05\",\"y\"],[\"2012-03-06\",\"y\"],[\"2012-03-07\",\"y\"],[\"2012-03-08\",\"y\"],[\"2012-03-09\",\"y\"],[\"2012-03-10\",\"y\"],[\"2012-03-11\",\"y\"],[\"2012-03-12\",\"y\"],[\"2012-03-13\",\"y\"],[\"2012-03-14\",\"y\"],[\"2012-03-15\",\"y\"],[\"2012-03-16\",\"y\"],[\"2012-03-17\",\"y\"],[\"2012-03-18\",\"y\"],[\"2012-03-19\",\"y\"],[\"2012-03-20\",\"y\"],[\"2012-03-21\",\"y\"],[\"2012-03-22\",\"y\"],[\"2012-03-23\",\"y\"],[\"2012-03-24\",\"y\"],[\"2012-03-25\",\"y\"],[\"2012-03-26\",\"y\"],[\"2012-03-27\",\"y\"],[\"2012-03-28\",\"y\"],[\"2012-03-29\",\"y\"],[\"2012-03-30\",\"y\"],[\"2012-03-31\",\"y\"],[\"2012-04-01\",\"y\"],[\"2012-04-02\",\"y\"],[\"2012-04-03\",\"y\"],[\"2012-04-04\",\"y\"],[\"2012-04-05\",\"y\"],[\"2012-04-06\",\"y\"],[\"2012-04-07\",\"y\"],[\"2012-04-08\",\"y\"],[\"2012-04-09\",\"y\"],[\"2012-04-10\",\"y\"],[\"2012-04-11\",\"y\"],[\"2012-04-12\",\"y\"],[\"2012-04-13\",\"y\"],[\"2012-04-14\",\"y\"],[\"2012-04-15\",\"y\"],[\"2012-04-16\",\"y\"],[\"2012-04-17\",\"y\"],[\"2012-04-18\",\"y\"],[\"2012-04-19\",\"y\"],[\"2012-04-20\",\"y\"],[\"2012-04-21\",\"y\"],[\"2012-04-22\",\"y\"],[\"2012-04-23\",\"y\"],[\"2012-04-24\",\"y\"],[\"2012-04-25\",\"y\"],[\"2012-04-26\",\"y\"],[\"2012-04-27\",\"y\"],[\"2012-04-28\",\"y\"],[\"2012-04-29\",\"y\"],[\"2012-04-30\",\"y\"],[\"2012-05-01\",\"y\"],[\"2012-05-02\",\"y\"],[\"2012-05-03\",\"y\"],[\"2012-05-04\",\"y\"],[\"2012-05-05\",\"y\"],[\"2012-05-06\",\"y\"],[\"2012-05-07\",\"y\"],[\"2012-05-08\",\"y\"],[\"2012-05-09\",\"y\"],[\"2012-05-10\",\"y\"],[\"2012-05-11\",\"y\"],[\"2012-05-12\",\"y\"],[\"2012-05-13\",\"y\"],[\"2012-05-14\",\"y\"],[\"2012-05-15\",\"y\"],[\"2012-05-16\",\"y\"],[\"2012-05-17\",\"y\"],[\"2012-05-18\",\"y\"],[\"2012-05-19\",\"y\"],[\"2012-05-20\",\"y\"],[\"2012-05-21\",\"y\"],[\"2012-05-22\",\"y\"],[\"2012-05-23\",\"y\"],[\"2012-05-24\",\"y\"],[\"2012-05-25\",\"y\"],[\"2012-05-26\",\"y\"],[\"2012-05-27\",\"y\"],[\"2012-05-28\",\"y\"],[\"2012-05-29\",\"y\"],[\"2012-05-30\",\"y\"],[\"2012-05-31\",\"y\"],[\"2012-06-01\",\"y\"],[\"2012-06-02\",\"y\"],[\"2012-06-03\",\"y\"],[\"2012-06-04\",\"y\"],[\"2012-06-05\",\"y\"],[\"2012-06-06\",\"y\"],[\"2012-06-07\",\"y\"],[\"2012-06-08\",\"y\"],[\"2012-06-09\",\"y\"],[\"2012-06-10\",\"y\"],[\"2012-06-11\",\"y\"],[\"2012-06-12\",\"y\"],[\"2012-06-13\",\"y\"],[\"2012-06-14\",\"y\"],[\"2012-06-15\",\"y\"],[\"2012-06-16\",\"y\"],[\"2012-06-17\",\"y\"],[\"2012-06-18\",\"y\"],[\"2012-06-19\",\"y\"],[\"2012-06-20\",\"y\"],[\"2012-06-21\",\"y\"],[\"2012-06-22\",\"y\"],[\"2012-06-23\",\"y\"],[\"2012-06-24\",\"y\"],[\"2012-06-25\",\"y\"],[\"2012-06-26\",\"y\"],[\"2012-06-27\",\"y\"],[\"2012-06-28\",\"y\"],[\"2012-06-29\",\"y\"],[\"2012-06-30\",\"y\"],[\"2012-07-01\",\"y\"],[\"2012-07-02\",\"y\"],[\"2012-07-03\",\"y\"],[\"2012-07-04\",\"y\"],[\"2012-07-05\",\"y\"],[\"2012-07-06\",\"y\"],[\"2012-07-07\",\"y\"],[\"2012-07-08\",\"y\"],[\"2012-07-09\",\"y\"],[\"2012-07-10\",\"y\"],[\"2012-07-11\",\"y\"],[\"2012-07-12\",\"y\"],[\"2012-07-13\",\"y\"],[\"2012-07-14\",\"y\"],[\"2012-07-15\",\"y\"],[\"2012-07-16\",\"y\"],[\"2012-07-17\",\"y\"],[\"2012-07-18\",\"y\"],[\"2012-07-19\",\"y\"],[\"2012-07-20\",\"y\"],[\"2012-07-21\",\"y\"],[\"2012-07-22\",\"y\"],[\"2012-07-23\",\"y\"],[\"2012-07-24\",\"y\"],[\"2012-07-25\",\"y\"],[\"2012-07-26\",\"y\"],[\"2012-07-27\",\"y\"],[\"2012-07-28\",\"y\"],[\"2012-07-29\",\"y\"],[\"2012-07-30\",\"y\"],[\"2012-07-31\",\"y\"],[\"2012-08-01\",\"y\"],[\"2012-08-02\",\"y\"],[\"2012-08-03\",\"y\"],[\"2012-08-04\",\"y\"],[\"2012-08-05\",\"y\"],[\"2012-08-06\",\"y\"],[\"2012-08-07\",\"y\"],[\"2012-08-08\",\"y\"],[\"2012-08-09\",\"y\"],[\"2012-08-10\",\"y\"],[\"2012-08-11\",\"y\"],[\"2012-08-12\",\"y\"],[\"2012-08-13\",\"y\"],[\"2012-08-14\",\"y\"],[\"2012-08-15\",\"y\"],[\"2012-08-16\",\"y\"],[\"2012-08-17\",\"y\"],[\"2012-08-18\",\"y\"],[\"2012-08-19\",\"y\"],[\"2012-08-20\",\"y\"],[\"2012-08-21\",\"y\"],[\"2012-08-22\",\"y\"],[\"2012-08-23\",\"y\"],[\"2012-08-24\",\"y\"],[\"2012-08-25\",\"y\"],[\"2012-08-26\",\"y\"],[\"2012-08-27\",\"y\"],[\"2012-08-28\",\"y\"],[\"2012-08-29\",\"y\"],[\"2012-08-30\",\"y\"],[\"2012-08-31\",\"y\"],[\"2012-09-01\",\"y\"],[\"2012-09-02\",\"y\"],[\"2012-09-03\",\"y\"],[\"2012-09-04\",\"y\"],[\"2012-09-05\",\"y\"],[\"2012-09-06\",\"y\"],[\"2012-09-07\",\"y\"],[\"2012-09-08\",\"y\"],[\"2012-09-09\",\"y\"],[\"2012-09-10\",\"y\"],[\"2012-09-11\",\"y\"],[\"2012-09-12\",\"y\"],[\"2012-09-13\",\"y\"],[\"2012-09-14\",\"y\"],[\"2012-09-15\",\"y\"],[\"2012-09-16\",\"y\"],[\"2012-09-17\",\"y\"],[\"2012-09-18\",\"y\"],[\"2012-09-19\",\"y\"],[\"2012-09-20\",\"y\"],[\"2012-09-21\",\"y\"],[\"2012-09-22\",\"y\"],[\"2012-09-23\",\"y\"],[\"2012-09-24\",\"y\"],[\"2012-09-25\",\"y\"],[\"2012-09-26\",\"y\"],[\"2012-09-27\",\"y\"],[\"2012-09-28\",\"y\"],[\"2012-09-29\",\"y\"],[\"2012-09-30\",\"y\"],[\"2012-10-01\",\"y\"],[\"2012-10-02\",\"y\"],[\"2012-10-03\",\"y\"],[\"2012-10-04\",\"y\"],[\"2012-10-05\",\"y\"],[\"2012-10-06\",\"y\"],[\"2012-10-07\",\"y\"],[\"2012-10-08\",\"y\"],[\"2012-10-09\",\"y\"],[\"2012-10-10\",\"y\"],[\"2012-10-11\",\"y\"],[\"2012-10-12\",\"y\"],[\"2012-10-13\",\"y\"],[\"2012-10-14\",\"y\"],[\"2012-10-15\",\"y\"],[\"2012-10-16\",\"y\"],[\"2012-10-17\",\"y\"],[\"2012-10-18\",\"y\"],[\"2012-10-19\",\"y\"],[\"2012-10-20\",\"y\"],[\"2012-10-21\",\"y\"],[\"2012-10-22\",\"y\"],[\"2012-10-23\",\"y\"],[\"2012-10-24\",\"y\"],[\"2012-10-25\",\"y\"],[\"2012-10-26\",\"y\"],[\"2012-10-27\",\"y\"],[\"2012-10-28\",\"y\"],[\"2012-10-29\",\"y\"],[\"2012-10-30\",\"y\"],[\"2012-10-31\",\"y\"],[\"2012-11-01\",\"y\"],[\"2012-11-02\",\"y\"],[\"2012-11-03\",\"y\"],[\"2012-11-04\",\"y\"],[\"2012-11-05\",\"y\"],[\"2012-11-06\",\"y\"],[\"2012-11-07\",\"y\"],[\"2012-11-08\",\"y\"],[\"2012-11-09\",\"y\"],[\"2012-11-10\",\"y\"],[\"2012-11-11\",\"y\"],[\"2012-11-12\",\"y\"],[\"2012-11-13\",\"y\"],[\"2012-11-14\",\"y\"],[\"2012-11-15\",\"y\"],[\"2012-11-16\",\"y\"],[\"2012-11-17\",\"y\"],[\"2012-11-18\",\"y\"],[\"2012-11-19\",\"y\"],[\"2012-11-20\",\"y\"],[\"2012-11-21\",\"y\"],[\"2012-11-22\",\"y\"],[\"2012-11-23\",\"y\"],[\"2012-11-24\",\"y\"],[\"2012-11-25\",\"y\"],[\"2012-11-26\",\"y\"],[\"2012-11-27\",\"y\"],[\"2012-11-28\",\"y\"],[\"2012-11-29\",\"y\"],[\"2012-11-30\",\"y\"],[\"2012-12-01\",\"y\"],[\"2012-12-02\",\"y\"],[\"2012-12-03\",\"y\"],[\"2012-12-04\",\"y\"],[\"2012-12-05\",\"y\"],[\"2012-12-06\",\"y\"],[\"2012-12-07\",\"y\"],[\"2012-12-08\",\"y\"],[\"2012-12-09\",\"y\"],[\"2012-12-10\",\"y\"],[\"2012-12-11\",\"y\"],[\"2012-12-12\",\"y\"],[\"2012-12-13\",\"y\"],[\"2012-12-14\",\"y\"],[\"2012-12-15\",\"y\"],[\"2012-12-16\",\"y\"],[\"2012-12-17\",\"y\"],[\"2012-12-18\",\"y\"],[\"2012-12-19\",\"y\"],[\"2012-12-20\",\"y\"],[\"2012-12-21\",\"y\"],[\"2012-12-22\",\"y\"],[\"2012-12-23\",\"y\"],[\"2012-12-24\",\"y\"],[\"2012-12-25\",\"y\"],[\"2012-12-26\",\"y\"],[\"2012-12-27\",\"y\"],[\"2012-12-28\",\"y\"],[\"2012-12-29\",\"y\"],[\"2012-12-30\",\"y\"],[\"2012-12-31\",\"y\"]],\"hovertemplate\":\"%{customdata[0]} \\u003cbr\\u003eWeek=%{x} \\u003cbr\\u003e%{customdata[1]}=%{z}\",\"name\":\"2012\",\"showscale\":false,\"x\":[0,1,1,1,1,1,1,1,2,2,2,2,2,2,2,3,3,3,3,3,3,3,4,4,4,4,4,4,4,5,5,5,5,5,5,5,6,6,6,6,6,6,6,7,7,7,7,7,7,7,8,8,8,8,8,8,8,9,9,9,9,9,9,9,10,10,10,10,10,10,10,11,11,11,11,11,11,11,12,12,12,12,12,12,12,13,13,13,13,13,13,13,14,14,14,14,14,14,14,15,15,15,15,15,15,15,16,16,16,16,16,16,16,17,17,17,17,17,17,17,18,18,18,18,18,18,18,19,19,19,19,19,19,19,20,20,20,20,20,20,20,21,21,21,21,21,21,21,22,22,22,22,22,22,22,23,23,23,23,23,23,23,24,24,24,24,24,24,24,25,25,25,25,25,25,25,26,26,26,26,26,26,26,27,27,27,27,27,27,27,28,28,28,28,28,28,28,29,29,29,29,29,29,29,30,30,30,30,30,30,30,31,31,31,31,31,31,31,32,32,32,32,32,32,32,33,33,33,33,33,33,33,34,34,34,34,34,34,34,35,35,35,35,35,35,35,36,36,36,36,36,36,36,37,37,37,37,37,37,37,38,38,38,38,38,38,38,39,39,39,39,39,39,39,40,40,40,40,40,40,40,41,41,41,41,41,41,41,42,42,42,42,42,42,42,43,43,43,43,43,43,43,44,44,44,44,44,44,44,45,45,45,45,45,45,45,46,46,46,46,46,46,46,47,47,47,47,47,47,47,48,48,48,48,48,48,48,49,49,49,49,49,49,49,50,50,50,50,50,50,50,51,51,51,51,51,51,51,52,52,52,52,52,52,52,53],\"xgap\":1,\"y\":[6,0,1,2,3,4,5,6,0,1,2,3,4,5,6,0,1,2,3,4,5,6,0,1,2,3,4,5,6,0,1,2,3,4,5,6,0,1,2,3,4,5,6,0,1,2,3,4,5,6,0,1,2,3,4,5,6,0,1,2,3,4,5,6,0,1,2,3,4,5,6,0,1,2,3,4,5,6,0,1,2,3,4,5,6,0,1,2,3,4,5,6,0,1,2,3,4,5,6,0,1,2,3,4,5,6,0,1,2,3,4,5,6,0,1,2,3,4,5,6,0,1,2,3,4,5,6,0,1,2,3,4,5,6,0,1,2,3,4,5,6,0,1,2,3,4,5,6,0,1,2,3,4,5,6,0,1,2,3,4,5,6,0,1,2,3,4,5,6,0,1,2,3,4,5,6,0,1,2,3,4,5,6,0,1,2,3,4,5,6,0,1,2,3,4,5,6,0,1,2,3,4,5,6,0,1,2,3,4,5,6,0,1,2,3,4,5,6,0,1,2,3,4,5,6,0,1,2,3,4,5,6,0,1,2,3,4,5,6,0,1,2,3,4,5,6,0,1,2,3,4,5,6,0,1,2,3,4,5,6,0,1,2,3,4,5,6,0,1,2,3,4,5,6,0,1,2,3,4,5,6,0,1,2,3,4,5,6,0,1,2,3,4,5,6,0,1,2,3,4,5,6,0,1,2,3,4,5,6,0,1,2,3,4,5,6,0,1,2,3,4,5,6,0,1,2,3,4,5,6,0,1,2,3,4,5,6,0,1,2,3,4,5,6,0,1,2,3,4,5,6,0,1,2,3,4,5,6,0,1,2,3,4,5,6,0],\"ygap\":1,\"z\":[2294.0,1951.0,2236.0,2368.0,3272.0,4098.0,4521.0,3425.0,2376.0,3598.0,2177.0,4097.0,3214.0,2493.0,2311.0,2298.0,2935.0,3376.0,3292.0,3163.0,1301.0,1977.0,2432.0,4339.0,4270.0,4075.0,3456.0,4023.0,3243.0,3624.0,4509.0,4579.0,3761.0,4151.0,2832.0,2947.0,3784.0,4375.0,2802.0,3830.0,3831.0,2169.0,1529.0,3422.0,3922.0,4169.0,3005.0,4154.0,4318.0,2689.0,3129.0,3777.0,4773.0,5062.0,3487.0,2732.0,3389.0,4322.0,4363.0,1834.0,4990.0,3194.0,4066.0,3423.0,3333.0,3956.0,4916.0,5382.0,4569.0,4118.0,4911.0,5298.0,5847.0,6312.0,6192.0,4378.0,7836.0,5892.0,6153.0,6093.0,6230.0,6871.0,8362.0,3372.0,4996.0,5558.0,5102.0,5698.0,6133.0,5459.0,6235.0,6041.0,5936.0,6772.0,6436.0,6457.0,6460.0,6857.0,5169.0,5585.0,5918.0,4862.0,5409.0,6398.0,7460.0,7132.0,6370.0,6691.0,4367.0,6565.0,7290.0,6624.0,1027.0,3214.0,5633.0,6196.0,5026.0,6233.0,4220.0,6304.0,5572.0,5740.0,6169.0,6421.0,6296.0,6883.0,6359.0,6273.0,5728.0,4717.0,6572.0,7030.0,7429.0,6118.0,2843.0,5115.0,7424.0,7384.0,7639.0,8294.0,7129.0,4359.0,6073.0,5260.0,6770.0,6734.0,6536.0,6591.0,6043.0,5743.0,6855.0,7338.0,4127.0,8120.0,7641.0,6998.0,7001.0,7055.0,7494.0,7736.0,7498.0,6598.0,6664.0,4972.0,7421.0,7363.0,7665.0,7702.0,6978.0,5099.0,6825.0,6211.0,5905.0,5823.0,7458.0,6891.0,6779.0,7442.0,7335.0,6879.0,5463.0,5687.0,5531.0,6227.0,6660.0,7403.0,6241.0,6207.0,4840.0,4672.0,6569.0,6290.0,7264.0,7446.0,7499.0,6969.0,6031.0,6830.0,6786.0,5713.0,6591.0,5870.0,4459.0,7410.0,6966.0,7592.0,8173.0,6861.0,6904.0,6685.0,6597.0,7105.0,7216.0,7580.0,7261.0,7175.0,6824.0,5464.0,7013.0,7273.0,7534.0,7286.0,5786.0,6299.0,6544.0,6883.0,6784.0,7347.0,7605.0,7148.0,7865.0,4549.0,6530.0,7006.0,7375.0,7765.0,7582.0,6053.0,5255.0,6917.0,7040.0,7697.0,7713.0,7350.0,6140.0,5810.0,6034.0,6864.0,7112.0,6203.0,7504.0,5976.0,8227.0,7525.0,7767.0,7870.0,7804.0,8009.0,8714.0,7333.0,6869.0,4073.0,7591.0,7720.0,8167.0,8395.0,7907.0,7436.0,7538.0,7733.0,7393.0,7415.0,8555.0,6889.0,6778.0,4639.0,7572.0,7328.0,8156.0,7965.0,3510.0,5478.0,6392.0,7691.0,7570.0,7282.0,7109.0,6639.0,5875.0,7534.0,7461.0,7509.0,5424.0,8090.0,6824.0,7058.0,7466.0,7693.0,7359.0,7444.0,7852.0,4459.0,22.0,1096.0,5566.0,5986.0,5847.0,5138.0,5107.0,5259.0,5686.0,5035.0,5315.0,5992.0,6536.0,6852.0,6269.0,4094.0,5495.0,5445.0,5698.0,5629.0,4669.0,5499.0,5634.0,5146.0,2425.0,3910.0,2277.0,2424.0,5087.0,3959.0,5260.0,5323.0,5668.0,5191.0,null,null,null,null,null,null,null,null,null,null,null,null,null,null,null,null,null,null,null,null,null,null,null,null,null,null,null,null,null,null],\"type\":\"heatmap\",\"xaxis\":\"x2\",\"yaxis\":\"y2\",\"zmax\":8714,\"zmin\":22},{\"hoverinfo\":\"skip\",\"line\":{\"color\":\"#9e9e9e\",\"width\":1},\"mode\":\"lines\",\"x\":[-0.5,-0.5],\"y\":[5.5,6.5],\"type\":\"scatter\",\"xaxis\":\"x2\",\"yaxis\":\"y2\"},{\"hoverinfo\":\"skip\",\"line\":{\"color\":\"#9e9e9e\",\"width\":1},\"mode\":\"lines\",\"x\":[-0.5,0.5],\"y\":[5.5,5.5],\"type\":\"scatter\",\"xaxis\":\"x2\",\"yaxis\":\"y2\"},{\"hoverinfo\":\"skip\",\"line\":{\"color\":\"#9e9e9e\",\"width\":1},\"mode\":\"lines\",\"x\":[0.5,0.5],\"y\":[5.5,-0.5],\"type\":\"scatter\",\"xaxis\":\"x2\",\"yaxis\":\"y2\"},{\"hoverinfo\":\"skip\",\"line\":{\"color\":\"#9e9e9e\",\"width\":1},\"mode\":\"lines\",\"x\":[4.5,4.5],\"y\":[1.5,6.5],\"type\":\"scatter\",\"xaxis\":\"x2\",\"yaxis\":\"y2\"},{\"hoverinfo\":\"skip\",\"line\":{\"color\":\"#9e9e9e\",\"width\":1},\"mode\":\"lines\",\"x\":[4.5,5.5],\"y\":[1.5,1.5],\"type\":\"scatter\",\"xaxis\":\"x2\",\"yaxis\":\"y2\"},{\"hoverinfo\":\"skip\",\"line\":{\"color\":\"#9e9e9e\",\"width\":1},\"mode\":\"lines\",\"x\":[5.5,5.5],\"y\":[1.5,-0.5],\"type\":\"scatter\",\"xaxis\":\"x2\",\"yaxis\":\"y2\"},{\"hoverinfo\":\"skip\",\"line\":{\"color\":\"#9e9e9e\",\"width\":1},\"mode\":\"lines\",\"x\":[8.5,8.5],\"y\":[2.5,6.5],\"type\":\"scatter\",\"xaxis\":\"x2\",\"yaxis\":\"y2\"},{\"hoverinfo\":\"skip\",\"line\":{\"color\":\"#9e9e9e\",\"width\":1},\"mode\":\"lines\",\"x\":[8.5,9.5],\"y\":[2.5,2.5],\"type\":\"scatter\",\"xaxis\":\"x2\",\"yaxis\":\"y2\"},{\"hoverinfo\":\"skip\",\"line\":{\"color\":\"#9e9e9e\",\"width\":1},\"mode\":\"lines\",\"x\":[9.5,9.5],\"y\":[2.5,-0.5],\"type\":\"scatter\",\"xaxis\":\"x2\",\"yaxis\":\"y2\"},{\"hoverinfo\":\"skip\",\"line\":{\"color\":\"#9e9e9e\",\"width\":1},\"mode\":\"lines\",\"x\":[12.5,12.5],\"y\":[5.5,6.5],\"type\":\"scatter\",\"xaxis\":\"x2\",\"yaxis\":\"y2\"},{\"hoverinfo\":\"skip\",\"line\":{\"color\":\"#9e9e9e\",\"width\":1},\"mode\":\"lines\",\"x\":[12.5,13.5],\"y\":[5.5,5.5],\"type\":\"scatter\",\"xaxis\":\"x2\",\"yaxis\":\"y2\"},{\"hoverinfo\":\"skip\",\"line\":{\"color\":\"#9e9e9e\",\"width\":1},\"mode\":\"lines\",\"x\":[13.5,13.5],\"y\":[5.5,-0.5],\"type\":\"scatter\",\"xaxis\":\"x2\",\"yaxis\":\"y2\"},{\"hoverinfo\":\"skip\",\"line\":{\"color\":\"#9e9e9e\",\"width\":1},\"mode\":\"lines\",\"x\":[17.5,17.5],\"y\":[0.5,6.5],\"type\":\"scatter\",\"xaxis\":\"x2\",\"yaxis\":\"y2\"},{\"hoverinfo\":\"skip\",\"line\":{\"color\":\"#9e9e9e\",\"width\":1},\"mode\":\"lines\",\"x\":[17.5,18.5],\"y\":[0.5,0.5],\"type\":\"scatter\",\"xaxis\":\"x2\",\"yaxis\":\"y2\"},{\"hoverinfo\":\"skip\",\"line\":{\"color\":\"#9e9e9e\",\"width\":1},\"mode\":\"lines\",\"x\":[18.5,18.5],\"y\":[0.5,-0.5],\"type\":\"scatter\",\"xaxis\":\"x2\",\"yaxis\":\"y2\"},{\"hoverinfo\":\"skip\",\"line\":{\"color\":\"#9e9e9e\",\"width\":1},\"mode\":\"lines\",\"x\":[21.5,21.5],\"y\":[3.5,6.5],\"type\":\"scatter\",\"xaxis\":\"x2\",\"yaxis\":\"y2\"},{\"hoverinfo\":\"skip\",\"line\":{\"color\":\"#9e9e9e\",\"width\":1},\"mode\":\"lines\",\"x\":[21.5,22.5],\"y\":[3.5,3.5],\"type\":\"scatter\",\"xaxis\":\"x2\",\"yaxis\":\"y2\"},{\"hoverinfo\":\"skip\",\"line\":{\"color\":\"#9e9e9e\",\"width\":1},\"mode\":\"lines\",\"x\":[22.5,22.5],\"y\":[3.5,-0.5],\"type\":\"scatter\",\"xaxis\":\"x2\",\"yaxis\":\"y2\"},{\"hoverinfo\":\"skip\",\"line\":{\"color\":\"#9e9e9e\",\"width\":1},\"mode\":\"lines\",\"x\":[25.5,25.5],\"y\":[5.5,6.5],\"type\":\"scatter\",\"xaxis\":\"x2\",\"yaxis\":\"y2\"},{\"hoverinfo\":\"skip\",\"line\":{\"color\":\"#9e9e9e\",\"width\":1},\"mode\":\"lines\",\"x\":[25.5,26.5],\"y\":[5.5,5.5],\"type\":\"scatter\",\"xaxis\":\"x2\",\"yaxis\":\"y2\"},{\"hoverinfo\":\"skip\",\"line\":{\"color\":\"#9e9e9e\",\"width\":1},\"mode\":\"lines\",\"x\":[26.5,26.5],\"y\":[5.5,-0.5],\"type\":\"scatter\",\"xaxis\":\"x2\",\"yaxis\":\"y2\"},{\"hoverinfo\":\"skip\",\"line\":{\"color\":\"#9e9e9e\",\"width\":1},\"mode\":\"lines\",\"x\":[30.5,30.5],\"y\":[1.5,6.5],\"type\":\"scatter\",\"xaxis\":\"x2\",\"yaxis\":\"y2\"},{\"hoverinfo\":\"skip\",\"line\":{\"color\":\"#9e9e9e\",\"width\":1},\"mode\":\"lines\",\"x\":[30.5,31.5],\"y\":[1.5,1.5],\"type\":\"scatter\",\"xaxis\":\"x2\",\"yaxis\":\"y2\"},{\"hoverinfo\":\"skip\",\"line\":{\"color\":\"#9e9e9e\",\"width\":1},\"mode\":\"lines\",\"x\":[31.5,31.5],\"y\":[1.5,-0.5],\"type\":\"scatter\",\"xaxis\":\"x2\",\"yaxis\":\"y2\"},{\"hoverinfo\":\"skip\",\"line\":{\"color\":\"#9e9e9e\",\"width\":1},\"mode\":\"lines\",\"x\":[34.5,34.5],\"y\":[4.5,6.5],\"type\":\"scatter\",\"xaxis\":\"x2\",\"yaxis\":\"y2\"},{\"hoverinfo\":\"skip\",\"line\":{\"color\":\"#9e9e9e\",\"width\":1},\"mode\":\"lines\",\"x\":[34.5,35.5],\"y\":[4.5,4.5],\"type\":\"scatter\",\"xaxis\":\"x2\",\"yaxis\":\"y2\"},{\"hoverinfo\":\"skip\",\"line\":{\"color\":\"#9e9e9e\",\"width\":1},\"mode\":\"lines\",\"x\":[35.5,35.5],\"y\":[4.5,-0.5],\"type\":\"scatter\",\"xaxis\":\"x2\",\"yaxis\":\"y2\"},{\"hoverinfo\":\"skip\",\"line\":{\"color\":\"#9e9e9e\",\"width\":1},\"mode\":\"lines\",\"x\":[39.5,39.5],\"y\":[-0.5,6.5],\"type\":\"scatter\",\"xaxis\":\"x2\",\"yaxis\":\"y2\"},{\"hoverinfo\":\"skip\",\"line\":{\"color\":\"#9e9e9e\",\"width\":1},\"mode\":\"lines\",\"x\":[43.5,43.5],\"y\":[2.5,6.5],\"type\":\"scatter\",\"xaxis\":\"x2\",\"yaxis\":\"y2\"},{\"hoverinfo\":\"skip\",\"line\":{\"color\":\"#9e9e9e\",\"width\":1},\"mode\":\"lines\",\"x\":[43.5,44.5],\"y\":[2.5,2.5],\"type\":\"scatter\",\"xaxis\":\"x2\",\"yaxis\":\"y2\"},{\"hoverinfo\":\"skip\",\"line\":{\"color\":\"#9e9e9e\",\"width\":1},\"mode\":\"lines\",\"x\":[44.5,44.5],\"y\":[2.5,-0.5],\"type\":\"scatter\",\"xaxis\":\"x2\",\"yaxis\":\"y2\"},{\"hoverinfo\":\"skip\",\"line\":{\"color\":\"#9e9e9e\",\"width\":1},\"mode\":\"lines\",\"x\":[47.5,47.5],\"y\":[4.5,6.5],\"type\":\"scatter\",\"xaxis\":\"x2\",\"yaxis\":\"y2\"},{\"hoverinfo\":\"skip\",\"line\":{\"color\":\"#9e9e9e\",\"width\":1},\"mode\":\"lines\",\"x\":[47.5,48.5],\"y\":[4.5,4.5],\"type\":\"scatter\",\"xaxis\":\"x2\",\"yaxis\":\"y2\"},{\"hoverinfo\":\"skip\",\"line\":{\"color\":\"#9e9e9e\",\"width\":1},\"mode\":\"lines\",\"x\":[48.5,48.5],\"y\":[4.5,-0.5],\"type\":\"scatter\",\"xaxis\":\"x2\",\"yaxis\":\"y2\"}],                        {\"template\":{\"data\":{\"histogram2dcontour\":[{\"type\":\"histogram2dcontour\",\"colorbar\":{\"outlinewidth\":0,\"ticks\":\"\"},\"colorscale\":[[0.0,\"#0d0887\"],[0.1111111111111111,\"#46039f\"],[0.2222222222222222,\"#7201a8\"],[0.3333333333333333,\"#9c179e\"],[0.4444444444444444,\"#bd3786\"],[0.5555555555555556,\"#d8576b\"],[0.6666666666666666,\"#ed7953\"],[0.7777777777777778,\"#fb9f3a\"],[0.8888888888888888,\"#fdca26\"],[1.0,\"#f0f921\"]]}],\"choropleth\":[{\"type\":\"choropleth\",\"colorbar\":{\"outlinewidth\":0,\"ticks\":\"\"}}],\"histogram2d\":[{\"type\":\"histogram2d\",\"colorbar\":{\"outlinewidth\":0,\"ticks\":\"\"},\"colorscale\":[[0.0,\"#0d0887\"],[0.1111111111111111,\"#46039f\"],[0.2222222222222222,\"#7201a8\"],[0.3333333333333333,\"#9c179e\"],[0.4444444444444444,\"#bd3786\"],[0.5555555555555556,\"#d8576b\"],[0.6666666666666666,\"#ed7953\"],[0.7777777777777778,\"#fb9f3a\"],[0.8888888888888888,\"#fdca26\"],[1.0,\"#f0f921\"]]}],\"heatmap\":[{\"type\":\"heatmap\",\"colorbar\":{\"outlinewidth\":0,\"ticks\":\"\"},\"colorscale\":[[0.0,\"#0d0887\"],[0.1111111111111111,\"#46039f\"],[0.2222222222222222,\"#7201a8\"],[0.3333333333333333,\"#9c179e\"],[0.4444444444444444,\"#bd3786\"],[0.5555555555555556,\"#d8576b\"],[0.6666666666666666,\"#ed7953\"],[0.7777777777777778,\"#fb9f3a\"],[0.8888888888888888,\"#fdca26\"],[1.0,\"#f0f921\"]]}],\"heatmapgl\":[{\"type\":\"heatmapgl\",\"colorbar\":{\"outlinewidth\":0,\"ticks\":\"\"},\"colorscale\":[[0.0,\"#0d0887\"],[0.1111111111111111,\"#46039f\"],[0.2222222222222222,\"#7201a8\"],[0.3333333333333333,\"#9c179e\"],[0.4444444444444444,\"#bd3786\"],[0.5555555555555556,\"#d8576b\"],[0.6666666666666666,\"#ed7953\"],[0.7777777777777778,\"#fb9f3a\"],[0.8888888888888888,\"#fdca26\"],[1.0,\"#f0f921\"]]}],\"contourcarpet\":[{\"type\":\"contourcarpet\",\"colorbar\":{\"outlinewidth\":0,\"ticks\":\"\"}}],\"contour\":[{\"type\":\"contour\",\"colorbar\":{\"outlinewidth\":0,\"ticks\":\"\"},\"colorscale\":[[0.0,\"#0d0887\"],[0.1111111111111111,\"#46039f\"],[0.2222222222222222,\"#7201a8\"],[0.3333333333333333,\"#9c179e\"],[0.4444444444444444,\"#bd3786\"],[0.5555555555555556,\"#d8576b\"],[0.6666666666666666,\"#ed7953\"],[0.7777777777777778,\"#fb9f3a\"],[0.8888888888888888,\"#fdca26\"],[1.0,\"#f0f921\"]]}],\"surface\":[{\"type\":\"surface\",\"colorbar\":{\"outlinewidth\":0,\"ticks\":\"\"},\"colorscale\":[[0.0,\"#0d0887\"],[0.1111111111111111,\"#46039f\"],[0.2222222222222222,\"#7201a8\"],[0.3333333333333333,\"#9c179e\"],[0.4444444444444444,\"#bd3786\"],[0.5555555555555556,\"#d8576b\"],[0.6666666666666666,\"#ed7953\"],[0.7777777777777778,\"#fb9f3a\"],[0.8888888888888888,\"#fdca26\"],[1.0,\"#f0f921\"]]}],\"mesh3d\":[{\"type\":\"mesh3d\",\"colorbar\":{\"outlinewidth\":0,\"ticks\":\"\"}}],\"scatter\":[{\"fillpattern\":{\"fillmode\":\"overlay\",\"size\":10,\"solidity\":0.2},\"type\":\"scatter\"}],\"parcoords\":[{\"type\":\"parcoords\",\"line\":{\"colorbar\":{\"outlinewidth\":0,\"ticks\":\"\"}}}],\"scatterpolargl\":[{\"type\":\"scatterpolargl\",\"marker\":{\"colorbar\":{\"outlinewidth\":0,\"ticks\":\"\"}}}],\"bar\":[{\"error_x\":{\"color\":\"#2a3f5f\"},\"error_y\":{\"color\":\"#2a3f5f\"},\"marker\":{\"line\":{\"color\":\"#E5ECF6\",\"width\":0.5},\"pattern\":{\"fillmode\":\"overlay\",\"size\":10,\"solidity\":0.2}},\"type\":\"bar\"}],\"scattergeo\":[{\"type\":\"scattergeo\",\"marker\":{\"colorbar\":{\"outlinewidth\":0,\"ticks\":\"\"}}}],\"scatterpolar\":[{\"type\":\"scatterpolar\",\"marker\":{\"colorbar\":{\"outlinewidth\":0,\"ticks\":\"\"}}}],\"histogram\":[{\"marker\":{\"pattern\":{\"fillmode\":\"overlay\",\"size\":10,\"solidity\":0.2}},\"type\":\"histogram\"}],\"scattergl\":[{\"type\":\"scattergl\",\"marker\":{\"colorbar\":{\"outlinewidth\":0,\"ticks\":\"\"}}}],\"scatter3d\":[{\"type\":\"scatter3d\",\"line\":{\"colorbar\":{\"outlinewidth\":0,\"ticks\":\"\"}},\"marker\":{\"colorbar\":{\"outlinewidth\":0,\"ticks\":\"\"}}}],\"scattermapbox\":[{\"type\":\"scattermapbox\",\"marker\":{\"colorbar\":{\"outlinewidth\":0,\"ticks\":\"\"}}}],\"scatterternary\":[{\"type\":\"scatterternary\",\"marker\":{\"colorbar\":{\"outlinewidth\":0,\"ticks\":\"\"}}}],\"scattercarpet\":[{\"type\":\"scattercarpet\",\"marker\":{\"colorbar\":{\"outlinewidth\":0,\"ticks\":\"\"}}}],\"carpet\":[{\"aaxis\":{\"endlinecolor\":\"#2a3f5f\",\"gridcolor\":\"white\",\"linecolor\":\"white\",\"minorgridcolor\":\"white\",\"startlinecolor\":\"#2a3f5f\"},\"baxis\":{\"endlinecolor\":\"#2a3f5f\",\"gridcolor\":\"white\",\"linecolor\":\"white\",\"minorgridcolor\":\"white\",\"startlinecolor\":\"#2a3f5f\"},\"type\":\"carpet\"}],\"table\":[{\"cells\":{\"fill\":{\"color\":\"#EBF0F8\"},\"line\":{\"color\":\"white\"}},\"header\":{\"fill\":{\"color\":\"#C8D4E3\"},\"line\":{\"color\":\"white\"}},\"type\":\"table\"}],\"barpolar\":[{\"marker\":{\"line\":{\"color\":\"#E5ECF6\",\"width\":0.5},\"pattern\":{\"fillmode\":\"overlay\",\"size\":10,\"solidity\":0.2}},\"type\":\"barpolar\"}],\"pie\":[{\"automargin\":true,\"type\":\"pie\"}]},\"layout\":{\"autotypenumbers\":\"strict\",\"colorway\":[\"#636efa\",\"#EF553B\",\"#00cc96\",\"#ab63fa\",\"#FFA15A\",\"#19d3f3\",\"#FF6692\",\"#B6E880\",\"#FF97FF\",\"#FECB52\"],\"font\":{\"color\":\"#2a3f5f\"},\"hovermode\":\"closest\",\"hoverlabel\":{\"align\":\"left\"},\"paper_bgcolor\":\"white\",\"plot_bgcolor\":\"#E5ECF6\",\"polar\":{\"bgcolor\":\"#E5ECF6\",\"angularaxis\":{\"gridcolor\":\"white\",\"linecolor\":\"white\",\"ticks\":\"\"},\"radialaxis\":{\"gridcolor\":\"white\",\"linecolor\":\"white\",\"ticks\":\"\"}},\"ternary\":{\"bgcolor\":\"#E5ECF6\",\"aaxis\":{\"gridcolor\":\"white\",\"linecolor\":\"white\",\"ticks\":\"\"},\"baxis\":{\"gridcolor\":\"white\",\"linecolor\":\"white\",\"ticks\":\"\"},\"caxis\":{\"gridcolor\":\"white\",\"linecolor\":\"white\",\"ticks\":\"\"}},\"coloraxis\":{\"colorbar\":{\"outlinewidth\":0,\"ticks\":\"\"}},\"colorscale\":{\"sequential\":[[0.0,\"#0d0887\"],[0.1111111111111111,\"#46039f\"],[0.2222222222222222,\"#7201a8\"],[0.3333333333333333,\"#9c179e\"],[0.4444444444444444,\"#bd3786\"],[0.5555555555555556,\"#d8576b\"],[0.6666666666666666,\"#ed7953\"],[0.7777777777777778,\"#fb9f3a\"],[0.8888888888888888,\"#fdca26\"],[1.0,\"#f0f921\"]],\"sequentialminus\":[[0.0,\"#0d0887\"],[0.1111111111111111,\"#46039f\"],[0.2222222222222222,\"#7201a8\"],[0.3333333333333333,\"#9c179e\"],[0.4444444444444444,\"#bd3786\"],[0.5555555555555556,\"#d8576b\"],[0.6666666666666666,\"#ed7953\"],[0.7777777777777778,\"#fb9f3a\"],[0.8888888888888888,\"#fdca26\"],[1.0,\"#f0f921\"]],\"diverging\":[[0,\"#8e0152\"],[0.1,\"#c51b7d\"],[0.2,\"#de77ae\"],[0.3,\"#f1b6da\"],[0.4,\"#fde0ef\"],[0.5,\"#f7f7f7\"],[0.6,\"#e6f5d0\"],[0.7,\"#b8e186\"],[0.8,\"#7fbc41\"],[0.9,\"#4d9221\"],[1,\"#276419\"]]},\"xaxis\":{\"gridcolor\":\"white\",\"linecolor\":\"white\",\"ticks\":\"\",\"title\":{\"standoff\":15},\"zerolinecolor\":\"white\",\"automargin\":true,\"zerolinewidth\":2},\"yaxis\":{\"gridcolor\":\"white\",\"linecolor\":\"white\",\"ticks\":\"\",\"title\":{\"standoff\":15},\"zerolinecolor\":\"white\",\"automargin\":true,\"zerolinewidth\":2},\"scene\":{\"xaxis\":{\"backgroundcolor\":\"#E5ECF6\",\"gridcolor\":\"white\",\"linecolor\":\"white\",\"showbackground\":true,\"ticks\":\"\",\"zerolinecolor\":\"white\",\"gridwidth\":2},\"yaxis\":{\"backgroundcolor\":\"#E5ECF6\",\"gridcolor\":\"white\",\"linecolor\":\"white\",\"showbackground\":true,\"ticks\":\"\",\"zerolinecolor\":\"white\",\"gridwidth\":2},\"zaxis\":{\"backgroundcolor\":\"#E5ECF6\",\"gridcolor\":\"white\",\"linecolor\":\"white\",\"showbackground\":true,\"ticks\":\"\",\"zerolinecolor\":\"white\",\"gridwidth\":2}},\"shapedefaults\":{\"line\":{\"color\":\"#2a3f5f\"}},\"annotationdefaults\":{\"arrowcolor\":\"#2a3f5f\",\"arrowhead\":0,\"arrowwidth\":1},\"geo\":{\"bgcolor\":\"white\",\"landcolor\":\"#E5ECF6\",\"subunitcolor\":\"white\",\"showland\":true,\"showlakes\":true,\"lakecolor\":\"white\"},\"title\":{\"x\":0.05},\"mapbox\":{\"style\":\"light\"}}},\"xaxis\":{\"anchor\":\"y\",\"domain\":[0.0,1.0],\"showgrid\":false,\"showline\":false,\"tickmode\":\"array\",\"ticktext\":[\"January\",\"February\",\"March\",\"April\",\"May\",\"June\",\"July\",\"August\",\"September\",\"October\",\"November\",\"December\"],\"tickvals\":[1.5,5.909090909090909,10.318181818181818,14.727272727272727,19.136363636363637,23.545454545454547,27.954545454545453,32.36363636363636,36.77272727272727,41.18181818181818,45.59090909090909,50.0],\"zeroline\":false},\"yaxis\":{\"anchor\":\"x\",\"domain\":[0.54,1.0],\"autorange\":\"reversed\",\"showgrid\":false,\"showline\":false,\"tickmode\":\"array\",\"ticktext\":[\"Mon\",\"Tue\",\"Wed\",\"Thu\",\"Fri\",\"Sat\",\"Sun\"],\"tickvals\":[0,1,2,3,4,5,6],\"zeroline\":false},\"xaxis2\":{\"anchor\":\"y2\",\"domain\":[0.0,1.0],\"showgrid\":false,\"showline\":false,\"tickmode\":\"array\",\"ticktext\":[\"January\",\"February\",\"March\",\"April\",\"May\",\"June\",\"July\",\"August\",\"September\",\"October\",\"November\",\"December\"],\"tickvals\":[1.5,5.909090909090909,10.318181818181818,14.727272727272727,19.136363636363637,23.545454545454547,27.954545454545453,32.36363636363636,36.77272727272727,41.18181818181818,45.59090909090909,50.0],\"zeroline\":false},\"yaxis2\":{\"anchor\":\"x2\",\"domain\":[0.0,0.46],\"autorange\":\"reversed\",\"showgrid\":false,\"showline\":false,\"tickmode\":\"array\",\"ticktext\":[\"Mon\",\"Tue\",\"Wed\",\"Thu\",\"Fri\",\"Sat\",\"Sun\"],\"tickvals\":[0,1,2,3,4,5,6],\"zeroline\":false},\"font\":{\"color\":\"#9e9e9e\",\"size\":10},\"margin\":{\"b\":20,\"t\":20},\"title\":{\"text\":\"\"},\"plot_bgcolor\":\"#fff\",\"showlegend\":false,\"height\":300},                        {\"responsive\": true}                    ).then(function(){\n",
       "                            \n",
       "var gd = document.getElementById('461b06ac-e9a3-44d1-ab2c-275f382792af');\n",
       "var x = new MutationObserver(function (mutations, observer) {{\n",
       "        var display = window.getComputedStyle(gd).display;\n",
       "        if (!display || display === 'none') {{\n",
       "            console.log([gd, 'removed!']);\n",
       "            Plotly.purge(gd);\n",
       "            observer.disconnect();\n",
       "        }}\n",
       "}});\n",
       "\n",
       "// Listen for the removal of the full notebook cells\n",
       "var notebookContainer = gd.closest('#notebook-container');\n",
       "if (notebookContainer) {{\n",
       "    x.observe(notebookContainer, {childList: true});\n",
       "}}\n",
       "\n",
       "// Listen for the clearing of the current output cell\n",
       "var outputEl = gd.closest('.output');\n",
       "if (outputEl) {{\n",
       "    x.observe(outputEl, {childList: true});\n",
       "}}\n",
       "\n",
       "                        })                };                });            </script>        </div>"
      ]
     },
     "metadata": {},
     "output_type": "display_data"
    }
   ],
   "source": [
    "# !pip install plotly_calplot\n",
    "# Heatmap of total number of ride\n",
    "from plotly_calplot import calplot\n",
    "# creating the plot\n",
    "fig = calplot(\n",
    "         df,\n",
    "         x='date',\n",
    "         y='cnt'\n",
    ")\n",
    "fig.show()\n",
    "plt.show()\n"
   ]
  },
  {
   "cell_type": "markdown",
   "metadata": {},
   "source": [
    "#### Analysis of the Bike Rentals Per Day Chart\n",
    "\n",
    "The charts show a clear annual trend in bike rentals. The number of rentals peaks in the summer months (June, July, and August) and is lowest in the winter months (December, January, and February). This seasonal pattern is likely due to favorable weather conditions during the summer months, making cycling more appealing.\n",
    "\n",
    "**Specific Observations:**\n",
    "\n",
    "* **Year-over-Year Comparison:** There appears to be a slight increase in overall rentals from 2011 to 2012. This could be attributed to factors such as increased bike-sharing infrastructure, the growing popularity of cycling as a mode of transportation, or changes in weather patterns.\n",
    "* **Seasonal Fluctuations:** The seasonal peaks and troughs in rentals are consistent across both years. This indicates a strong correlation between weather and bike rental behavior.\n",
    "* **Weekly Patterns:** The heatmap chart shows some weekly patterns in bike rentals, with higher demand on weekdays and lower demand on weekends specifically on Sundays.\n",
    "* **Outliers:** A few data points deviate significantly from the overall trend. These could be because of extreme weather events, special events, or data collection errors.\n",
    "\n",
    "**Potential Factors Influencing Bike Rentals:**\n",
    "\n",
    "* **Weather:** Temperature, precipitation, and daylight hours all influence bike rental demand.\n",
    "* **Seasonality:** Spring and summer are generally more favorable for cycling.\n",
    "* **Special Events:** Major events or holidays can increase or decrease bike rentals.\n",
    "* **Infrastructure:** The availability of bike lanes, parking facilities, and bike-friendly routes can impact rental numbers.\n",
    "* **Economic Conditions:** Economic factors such as unemployment rates and fuel prices can influence people's choice of transportation.\n",
    "\n",
    "**Suggestions:**\n",
    "\n",
    "To gain a deeper understanding of bike rental trends, additional analysis could be conducted, such as:\n",
    "\n",
    "* **Correlating rentals with weather data:** This would help quantify the impact of weather on bike usage.\n",
    "* **Examining weekly and daily patterns:** Analyzing rentals on a finer time scale can reveal more detailed insights.\n"
   ]
  },
  {
   "cell_type": "markdown",
   "metadata": {},
   "source": [
    "### Part 2 - Task 3. Assume that each bike has exactly maximum 12 rentals per day.\n",
    "    * Find the maximum number of bicycles `nmax` that was needed in any one day.\n",
    "    * Find the 95%-percentile of bicycles `n95` that was needed in any one day."
   ]
  },
  {
   "cell_type": "code",
   "execution_count": 62,
   "metadata": {},
   "outputs": [
    {
     "name": "stdout",
     "output_type": "stream",
     "text": [
      "Maximum number of bicycles needed on any one day: 727\n",
      "95th percentile of bicycles needed on any one day: 632\n"
     ]
    }
   ],
   "source": [
    "# Maximum rentals per day per bike\n",
    "max_rentals_per_bike = 12\n",
    "\n",
    "# Calculate the number of bikes needed each day\n",
    "bikes_needed = np.ceil(daily_rentals / max_rentals_per_bike).astype(int)\n",
    "df['bikes_needed'] = list(bikes_needed)\n",
    "\n",
    "# Calculate the maximum number of bikes needed on any one day, which indicates the peak demand for bicycles on any single day.\n",
    "nmax = bikes_needed.max()\n",
    "\n",
    "# Calculate the 95th percentile of the number of bikes needed\n",
    "# This value indicates that 95% of the days had a demand for bicycles less than or equal to this number.\n",
    "n95 = int(np.percentile(bikes_needed, 95))\n",
    "\n",
    "print(f\"Maximum number of bicycles needed on any one day: {nmax}\")\n",
    "print(f\"95th percentile of bicycles needed on any one day: {n95}\")\n",
    "# df"
   ]
  },
  {
   "cell_type": "markdown",
   "metadata": {},
   "source": [
    "### Part 2 - Task 4 - Visualize the distribution of the covered days depending on the number of available bicycles (e.g. `nmax` bicycles would cover 100% of days, `n95` covers 95%, etc.)"
   ]
  },
  {
   "cell_type": "code",
   "execution_count": 63,
   "metadata": {},
   "outputs": [],
   "source": [
    "# Define bin edges (e.g., bins of size 5)\n",
    "bin_edges = np.arange(0, bikes_needed.max() + 10, step=5)  # Adjust step size as needed\n",
    "\n",
    "# Calculate the percentage of days covered by each number of bikes\n",
    "coverage_percentages = []\n",
    "for ege in bin_edges :\n",
    "    coverage_percentage = (bikes_needed.values <= ege).mean() * 100\n",
    "    coverage_percentages.append(coverage_percentage)\n",
    "\n"
   ]
  },
  {
   "cell_type": "code",
   "execution_count": 64,
   "metadata": {},
   "outputs": [
    {
     "data": {
      "image/png": "[encoded data removed]",
      "text/plain": [
       "<Figure size 1200x600 with 1 Axes>"
      ]
     },
     "metadata": {},
     "output_type": "display_data"
    }
   ],
   "source": [
    "# Plot\n",
    "plt.figure(figsize=(12, 6))\n",
    "plt.plot(bin_edges, coverage_percentages, color='b')\n",
    "plt.title('Coverage of Days Depending on Number of Available Bicycles (Binned)')\n",
    "plt.xlabel('Number of Bicycles')\n",
    "plt.ylabel('Percentage of Days Covered')\n",
    "plt.xticks(rotation=45, ha='right')\n",
    "plt.grid(axis='y', linestyle='--', alpha=0.7)\n",
    "plt.tight_layout()\n",
    "plt.show()\n"
   ]
  },
  {
   "cell_type": "markdown",
   "metadata": {},
   "source": [
    "#### Analysis of the Chart: Coverage of Days Depending on Number of Available Bicycles\n",
    "\n",
    "The chart displays a clear upward trend, indicating that as the number of available bicycles increases, the percentage of days with sufficient coverage also increases. This reveals the existence of a positive correlation between the availability of bicycles and the ability to fulfill the demand.\n",
    "\n",
    "**Specific Observations:**\n",
    "\n",
    "* **Initial Plateau:** The graph starts with a relatively flat section, suggesting that even with a small number of bicycles, a certain percentage of days can be covered. This might be due to factors like low demand on some days or the ability to redistribute bicycles from areas with extra supply.\n",
    "* **Steadily Increasing Coverage:** As the number of bicycles increases, the coverage rate rises steadily. \n",
    "* **Asymptotic Behavior:** The curve seems to approach a maximum value, suggesting that there might be a point of diminishing returns where adding more bicycles doesn't significantly increase coverage. This could be due to factors like congestion of demand or limitations in infrastructure or operational capacity (If the bike supply data was available, we could provide more insight into the market capacity).\n",
    "\n",
    "**Potential Implications:**\n",
    "\n",
    "* **Optimal Bicycle Inventory:** The chart can help determine the optimal number of bicycles to maintain based on desired coverage levels. By identifying the point where the curve starts to plateau, organizations can assess whether the additional cost of more bicycles justifies the increase in coverage.\n",
    "* **Demand Forecasting:** The data can be used to forecast future demand and adjust bicycle inventory accordingly. If demand is expected to increase, organizations can proactively add more bicycles to maintain coverage.\n",
    "* **Infrastructure Planning:** The chart can inform decisions about expanding bike-sharing infrastructure, such as adding more docking stations or increasing the fleet size. By understanding the relationship between bicycle availability and coverage, organizations can make data-driven decisions about resource allocation.\n",
    "\n",
    "**Further Analysis:**\n",
    "\n",
    "To gain a deeper understanding of the relationship between bicycle availability and coverage, additional analysis could be conducted, such as:\n",
    "\n",
    "* **Seasonal Variations:** Examining the data for seasonal patterns can help identify periods of higher or lower demand.\n",
    "* **Geographic Factors:** Analyzing coverage by location can reveal variations in demand across different areas.\n",
    "* **Weather Impacts:** Investigating the relationship between weather conditions and bicycle usage can help identify factors that influence demand.\n",
    "* **Competitive Analysis:** Comparing the data with information about competing bike-sharing services can provide insights into market dynamics.\n"
   ]
  },
  {
   "cell_type": "markdown",
   "metadata": {},
   "source": [
    "### Further insights\n"
   ]
  },
  {
   "cell_type": "markdown",
   "metadata": {},
   "source": [
    "#### Correlation table"
   ]
  },
  {
   "cell_type": "code",
   "execution_count": 65,
   "metadata": {},
   "outputs": [
    {
     "data": {
      "image/png": "[encoded data removed]",
      "text/plain": [
       "<Figure size 1200x1200 with 2 Axes>"
      ]
     },
     "metadata": {},
     "output_type": "display_data"
    },
    {
     "data": {
      "text/plain": [
       "date            0.706355\n",
       "season          0.389125\n",
       "yr              0.603446\n",
       "mnth            0.323326\n",
       "holiday        -0.058080\n",
       "weekday         0.065928\n",
       "workingday      0.048162\n",
       "weathersit     -0.288684\n",
       "temp            0.631649\n",
       "atemp           0.633885\n",
       "hum            -0.101409\n",
       "windspeed      -0.234871\n",
       "casual          0.680335\n",
       "registered      0.944966\n",
       "cnt             1.000000\n",
       "bikes_needed    0.999999\n",
       "Name: cnt, dtype: float64"
      ]
     },
     "execution_count": 65,
     "metadata": {},
     "output_type": "execute_result"
    }
   ],
   "source": [
    "import seaborn as sns\n",
    "cor = df.corr()\n",
    "plt.figure(figsize=(12, 12))\n",
    "sns.heatmap(cor, cmap=plt.cm.CMRmap_r,annot=True)\n",
    "plt.show()\n",
    "cor['cnt']"
   ]
  },
  {
   "cell_type": "markdown",
   "metadata": {
    "jp-MarkdownHeadingCollapsed": true
   },
   "source": [
    "##### Analysing the linear correlation heatmap diagram \n",
    " ***Strong Positive Correlations***\n",
    "- **Temp (0.631649) and Atemp (0.633885):** Both actual temperature and \"feels-like\" temperature have a strong positive correlation with the rental count, indicating that warmer temperatures lead to higher bike usage.\n",
    "- **Year (0.603446):** A positive correlation with the year implies an increasing trend in bike rentals year over year, likely due to the service growing in popularity or geographic expansion (As we have only two values for the year column, the correlation is not significant and reliable).\n",
    "\n",
    "***Weak Positive Correlations***\n",
    "- **Weekday (0.065928) and Working Day (0.048162):** The very weak positive correlations suggest that the day of the week or whether it is a working day has little impact on the total rental count. Rentals might be fairly consistent throughout the week.\n",
    "\n",
    "***Negative Correlations***\n",
    "- **Holiday (-0.058080):** This very weak negative correlation suggests that rentals slightly decrease on holidays, but the effect is minimal.\n",
    "- **Humidity (-0.101409):** A weak negative correlation with humidity suggests that higher humidity slightly discourages bike rentals, but the effect is small.\n",
    "\n",
    "***Moderate Negative Correlations***\n",
    "- **Windspeed (-0.234871):** A moderate negative correlation with wind speed indicates that stronger winds are associated with fewer bike rentals, which again is understandable as windy conditions can make biking less enjoyable or more difficult.\n",
    "- **Weather Situation (-0.288684):** A moderate negative correlation with weather conditions indicates that worse weather (like rain or snow) leads to fewer bike rentals, which is intuitive.\n",
    "\n",
    "***Summary***\n",
    "- **Most Influential Factors:** temperature.\n",
    "- **Negative Influences:** Weather conditions like worse weather, higher wind speeds, and, with lower impact, higher humidity negatively impact the number of rentals.\n",
    "- **Minimal Impact:** Holidays, and whether it's a working day seem to have little effect on the overall rental count."
   ]
  },
  {
   "cell_type": "markdown",
   "metadata": {},
   "source": [
    "## Part 3 - Building prediction models\n",
    "\n",
    "**Tasks:**\n",
    "1. Define a test metric for predicting the daily demand for bike sharing, which you would like to use to measure the accuracy of the constructed models, and explain your choice.\n",
    "2. Build a demand prediction model with Random Forest, preferably making use of following python libraries: scikit-learn. \n",
    "3. Report the value of the chosen test metric on the provided data. "
   ]
  },
  {
   "cell_type": "markdown",
   "metadata": {},
   "source": [
    "### Part 3- Task 1- Define a test metric for predicting the daily demand for bike sharing, which you would like to use to measure the accuracy of the constructed models, and explain your choice."
   ]
  },
  {
   "cell_type": "markdown",
   "metadata": {},
   "source": [
    "***Test Metric for Predicting Daily Bike-Sharing Demand***\n",
    "\n",
    "To measure the accuracy of prediction models for daily bike-sharing demand, the **Root Mean Squared Error (RMSE)** is a suitable test metric. Here's why RMSE is a strong choice:\n",
    "\n",
    "***Definition of RMSE***\n",
    "The Root Mean Squared Error (RMSE) is defined as:\n",
    "\n",
    "$$\\text{RMSE} = \\sqrt{\\frac{1}{n} \\sum_{i=1}^{n} (y_i - \\hat{y}_i)^2}$$\n",
    "\n",
    "where:\n",
    "- $n$ is the number of observations (days in this context),\n",
    "- $y_i$ is the actual demand (i.e., the actual count of bike rentals on day $i$),\n",
    "- $\\hat{y}_i$ is the predicted demand by the model for day $i$.\n",
    "\n",
    "***Why RMSE?***\n",
    "RMSE is chosen as the test metric for predicting daily bike-sharing demand because it effectively balances the need to penalize large errors, provides an intuitive and interpretable measure of accuracy, and is a widely accepted standard in regression analysis. By minimizing RMSE, we aim to develop a model that predicts bike demand as accurately as possible, ensuring efficient and effective management of the bike-sharing service.\n",
    "\n",
    "***Comparison to Other Metrics***\n",
    "\n",
    "- **Mean Absolute Error (MAE):** MAE is another common metric but is less sensitive to outliers compared to RMSE. In cases to penalize large errors more (as in this case), RMSE is more appropriate.\n",
    "  \n",
    "- **Mean Squared Error (MSE):** While MSE is the precursor to RMSE, its value is in squared units of the target variable, making it harder to interpret. RMSE resolves this by taking the square root.\n",
    "\n",
    "- **R-squared ($R^2$):** $R^2$ provides a relative measure of fit, indicating the proportion of variance explained by the model. While useful for understanding overall model performance, it doesn't provide the same level of direct, interpretable insight into the magnitude of prediction errors as RMSE does.\n"
   ]
  },
  {
   "cell_type": "markdown",
   "metadata": {},
   "source": [
    "### Part 3- Task 2- Build a demand prediction model with Random Forest, preferably making use of following python libraries: scikit-learn."
   ]
  },
  {
   "cell_type": "code",
   "execution_count": 66,
   "metadata": {},
   "outputs": [
    {
     "data": {
      "text/plain": [
       "Index(['date', 'season', 'yr', 'mnth', 'holiday', 'weekday', 'workingday',\n",
       "       'weathersit', 'temp', 'atemp', 'hum', 'windspeed', 'casual',\n",
       "       'registered', 'cnt', 'bikes_needed'],\n",
       "      dtype='object')"
      ]
     },
     "execution_count": 66,
     "metadata": {},
     "output_type": "execute_result"
    }
   ],
   "source": [
    "df.columns"
   ]
  },
  {
   "cell_type": "code",
   "execution_count": 67,
   "metadata": {},
   "outputs": [
    {
     "data": {
      "text/html": [
       "<div>\n",
       "<style scoped>\n",
       "    .dataframe tbody tr th:only-of-type {\n",
       "        vertical-align: middle;\n",
       "    }\n",
       "\n",
       "    .dataframe tbody tr th {\n",
       "        vertical-align: top;\n",
       "    }\n",
       "\n",
       "    .dataframe thead th {\n",
       "        text-align: right;\n",
       "    }\n",
       "</style>\n",
       "<table border=\"1\" class=\"dataframe\">\n",
       "  <thead>\n",
       "    <tr style=\"text-align: right;\">\n",
       "      <th></th>\n",
       "      <th>season</th>\n",
       "      <th>yr</th>\n",
       "      <th>mnth</th>\n",
       "      <th>holiday</th>\n",
       "      <th>weekday</th>\n",
       "      <th>workingday</th>\n",
       "      <th>weathersit</th>\n",
       "      <th>temp</th>\n",
       "      <th>atemp</th>\n",
       "      <th>hum</th>\n",
       "      <th>windspeed</th>\n",
       "      <th>cnt</th>\n",
       "    </tr>\n",
       "  </thead>\n",
       "  <tbody>\n",
       "    <tr>\n",
       "      <th>0</th>\n",
       "      <td>1</td>\n",
       "      <td>0</td>\n",
       "      <td>1</td>\n",
       "      <td>0</td>\n",
       "      <td>6</td>\n",
       "      <td>0</td>\n",
       "      <td>2</td>\n",
       "      <td>0.344167</td>\n",
       "      <td>0.363625</td>\n",
       "      <td>0.805833</td>\n",
       "      <td>0.160446</td>\n",
       "      <td>985</td>\n",
       "    </tr>\n",
       "    <tr>\n",
       "      <th>1</th>\n",
       "      <td>1</td>\n",
       "      <td>0</td>\n",
       "      <td>1</td>\n",
       "      <td>0</td>\n",
       "      <td>0</td>\n",
       "      <td>0</td>\n",
       "      <td>2</td>\n",
       "      <td>0.363478</td>\n",
       "      <td>0.353739</td>\n",
       "      <td>0.696087</td>\n",
       "      <td>0.248539</td>\n",
       "      <td>801</td>\n",
       "    </tr>\n",
       "    <tr>\n",
       "      <th>2</th>\n",
       "      <td>1</td>\n",
       "      <td>0</td>\n",
       "      <td>1</td>\n",
       "      <td>0</td>\n",
       "      <td>1</td>\n",
       "      <td>1</td>\n",
       "      <td>1</td>\n",
       "      <td>0.196364</td>\n",
       "      <td>0.189405</td>\n",
       "      <td>0.437273</td>\n",
       "      <td>0.248309</td>\n",
       "      <td>1349</td>\n",
       "    </tr>\n",
       "    <tr>\n",
       "      <th>3</th>\n",
       "      <td>1</td>\n",
       "      <td>0</td>\n",
       "      <td>1</td>\n",
       "      <td>0</td>\n",
       "      <td>2</td>\n",
       "      <td>1</td>\n",
       "      <td>1</td>\n",
       "      <td>0.200000</td>\n",
       "      <td>0.212122</td>\n",
       "      <td>0.590435</td>\n",
       "      <td>0.160296</td>\n",
       "      <td>1562</td>\n",
       "    </tr>\n",
       "    <tr>\n",
       "      <th>4</th>\n",
       "      <td>1</td>\n",
       "      <td>0</td>\n",
       "      <td>1</td>\n",
       "      <td>0</td>\n",
       "      <td>3</td>\n",
       "      <td>1</td>\n",
       "      <td>1</td>\n",
       "      <td>0.226957</td>\n",
       "      <td>0.229270</td>\n",
       "      <td>0.436957</td>\n",
       "      <td>0.186900</td>\n",
       "      <td>1600</td>\n",
       "    </tr>\n",
       "  </tbody>\n",
       "</table>\n",
       "</div>"
      ],
      "text/plain": [
       "  season yr mnth holiday weekday workingday weathersit      temp     atemp  \\\n",
       "0      1  0    1       0       6          0          2  0.344167  0.363625   \n",
       "1      1  0    1       0       0          0          2  0.363478  0.353739   \n",
       "2      1  0    1       0       1          1          1  0.196364  0.189405   \n",
       "3      1  0    1       0       2          1          1  0.200000  0.212122   \n",
       "4      1  0    1       0       3          1          1  0.226957  0.229270   \n",
       "\n",
       "        hum  windspeed   cnt  \n",
       "0  0.805833   0.160446   985  \n",
       "1  0.696087   0.248539   801  \n",
       "2  0.437273   0.248309  1349  \n",
       "3  0.590435   0.160296  1562  \n",
       "4  0.436957   0.186900  1600  "
      ]
     },
     "execution_count": 67,
     "metadata": {},
     "output_type": "execute_result"
    }
   ],
   "source": [
    "# Some non-numerical columns like 'date' must be removed for modeling.\n",
    "# Columns of 'casual', 'registered', and 'bikes_needed' are yielded from the target, or the target is yielded from them, so they will be removed\n",
    "to_drop = ['date', 'casual', 'registered', 'bikes_needed']\n",
    "df.drop(to_drop, axis=1, inplace=True)\n",
    "df.head()"
   ]
  },
  {
   "cell_type": "markdown",
   "metadata": {},
   "source": [
    "#### Fitting the RF model"
   ]
  },
  {
   "cell_type": "code",
   "execution_count": 70,
   "metadata": {},
   "outputs": [
    {
     "data": {
      "text/html": [
       "<style>#sk-container-id-1 {\n",
       "  /* Definition of color scheme common for light and dark mode */\n",
       "  --sklearn-color-text: black;\n",
       "  --sklearn-color-line: gray;\n",
       "  /* Definition of color scheme for unfitted estimators */\n",
       "  --sklearn-color-unfitted-level-0: #fff5e6;\n",
       "  --sklearn-color-unfitted-level-1: #f6e4d2;\n",
       "  --sklearn-color-unfitted-level-2: #ffe0b3;\n",
       "  --sklearn-color-unfitted-level-3: chocolate;\n",
       "  /* Definition of color scheme for fitted estimators */\n",
       "  --sklearn-color-fitted-level-0: #f0f8ff;\n",
       "  --sklearn-color-fitted-level-1: #d4ebff;\n",
       "  --sklearn-color-fitted-level-2: #b3dbfd;\n",
       "  --sklearn-color-fitted-level-3: cornflowerblue;\n",
       "\n",
       "  /* Specific color for light theme */\n",
       "  --sklearn-color-text-on-default-background: var(--sg-text-color, var(--theme-code-foreground, var(--jp-content-font-color1, black)));\n",
       "  --sklearn-color-background: var(--sg-background-color, var(--theme-background, var(--jp-layout-color0, white)));\n",
       "  --sklearn-color-border-box: var(--sg-text-color, var(--theme-code-foreground, var(--jp-content-font-color1, black)));\n",
       "  --sklearn-color-icon: #696969;\n",
       "\n",
       "  @media (prefers-color-scheme: dark) {\n",
       "    /* Redefinition of color scheme for dark theme */\n",
       "    --sklearn-color-text-on-default-background: var(--sg-text-color, var(--theme-code-foreground, var(--jp-content-font-color1, white)));\n",
       "    --sklearn-color-background: var(--sg-background-color, var(--theme-background, var(--jp-layout-color0, #111)));\n",
       "    --sklearn-color-border-box: var(--sg-text-color, var(--theme-code-foreground, var(--jp-content-font-color1, white)));\n",
       "    --sklearn-color-icon: #878787;\n",
       "  }\n",
       "}\n",
       "\n",
       "#sk-container-id-1 {\n",
       "  color: var(--sklearn-color-text);\n",
       "}\n",
       "\n",
       "#sk-container-id-1 pre {\n",
       "  padding: 0;\n",
       "}\n",
       "\n",
       "#sk-container-id-1 input.sk-hidden--visually {\n",
       "  border: 0;\n",
       "  clip: rect(1px 1px 1px 1px);\n",
       "  clip: rect(1px, 1px, 1px, 1px);\n",
       "  height: 1px;\n",
       "  margin: -1px;\n",
       "  overflow: hidden;\n",
       "  padding: 0;\n",
       "  position: absolute;\n",
       "  width: 1px;\n",
       "}\n",
       "\n",
       "#sk-container-id-1 div.sk-dashed-wrapped {\n",
       "  border: 1px dashed var(--sklearn-color-line);\n",
       "  margin: 0 0.4em 0.5em 0.4em;\n",
       "  box-sizing: border-box;\n",
       "  padding-bottom: 0.4em;\n",
       "  background-color: var(--sklearn-color-background);\n",
       "}\n",
       "\n",
       "#sk-container-id-1 div.sk-container {\n",
       "  /* jupyter's `normalize.less` sets `[hidden] { display: none; }`\n",
       "     but bootstrap.min.css set `[hidden] { display: none !important; }`\n",
       "     so we also need the `!important` here to be able to override the\n",
       "     default hidden behavior on the sphinx rendered scikit-learn.org.\n",
       "     See: https://github.com/scikit-learn/scikit-learn/issues/21755 */\n",
       "  display: inline-block !important;\n",
       "  position: relative;\n",
       "}\n",
       "\n",
       "#sk-container-id-1 div.sk-text-repr-fallback {\n",
       "  display: none;\n",
       "}\n",
       "\n",
       "div.sk-parallel-item,\n",
       "div.sk-serial,\n",
       "div.sk-item {\n",
       "  /* draw centered vertical line to link estimators */\n",
       "  background-image: linear-gradient(var(--sklearn-color-text-on-default-background), var(--sklearn-color-text-on-default-background));\n",
       "  background-size: 2px 100%;\n",
       "  background-repeat: no-repeat;\n",
       "  background-position: center center;\n",
       "}\n",
       "\n",
       "/* Parallel-specific style estimator block */\n",
       "\n",
       "#sk-container-id-1 div.sk-parallel-item::after {\n",
       "  content: \"\";\n",
       "  width: 100%;\n",
       "  border-bottom: 2px solid var(--sklearn-color-text-on-default-background);\n",
       "  flex-grow: 1;\n",
       "}\n",
       "\n",
       "#sk-container-id-1 div.sk-parallel {\n",
       "  display: flex;\n",
       "  align-items: stretch;\n",
       "  justify-content: center;\n",
       "  background-color: var(--sklearn-color-background);\n",
       "  position: relative;\n",
       "}\n",
       "\n",
       "#sk-container-id-1 div.sk-parallel-item {\n",
       "  display: flex;\n",
       "  flex-direction: column;\n",
       "}\n",
       "\n",
       "#sk-container-id-1 div.sk-parallel-item:first-child::after {\n",
       "  align-self: flex-end;\n",
       "  width: 50%;\n",
       "}\n",
       "\n",
       "#sk-container-id-1 div.sk-parallel-item:last-child::after {\n",
       "  align-self: flex-start;\n",
       "  width: 50%;\n",
       "}\n",
       "\n",
       "#sk-container-id-1 div.sk-parallel-item:only-child::after {\n",
       "  width: 0;\n",
       "}\n",
       "\n",
       "/* Serial-specific style estimator block */\n",
       "\n",
       "#sk-container-id-1 div.sk-serial {\n",
       "  display: flex;\n",
       "  flex-direction: column;\n",
       "  align-items: center;\n",
       "  background-color: var(--sklearn-color-background);\n",
       "  padding-right: 1em;\n",
       "  padding-left: 1em;\n",
       "}\n",
       "\n",
       "\n",
       "/* Toggleable style: style used for estimator/Pipeline/ColumnTransformer box that is\n",
       "clickable and can be expanded/collapsed.\n",
       "- Pipeline and ColumnTransformer use this feature and define the default style\n",
       "- Estimators will overwrite some part of the style using the `sk-estimator` class\n",
       "*/\n",
       "\n",
       "/* Pipeline and ColumnTransformer style (default) */\n",
       "\n",
       "#sk-container-id-1 div.sk-toggleable {\n",
       "  /* Default theme specific background. It is overwritten whether we have a\n",
       "  specific estimator or a Pipeline/ColumnTransformer */\n",
       "  background-color: var(--sklearn-color-background);\n",
       "}\n",
       "\n",
       "/* Toggleable label */\n",
       "#sk-container-id-1 label.sk-toggleable__label {\n",
       "  cursor: pointer;\n",
       "  display: block;\n",
       "  width: 100%;\n",
       "  margin-bottom: 0;\n",
       "  padding: 0.5em;\n",
       "  box-sizing: border-box;\n",
       "  text-align: center;\n",
       "}\n",
       "\n",
       "#sk-container-id-1 label.sk-toggleable__label-arrow:before {\n",
       "  /* Arrow on the left of the label */\n",
       "  content: \"▸\";\n",
       "  float: left;\n",
       "  margin-right: 0.25em;\n",
       "  color: var(--sklearn-color-icon);\n",
       "}\n",
       "\n",
       "#sk-container-id-1 label.sk-toggleable__label-arrow:hover:before {\n",
       "  color: var(--sklearn-color-text);\n",
       "}\n",
       "\n",
       "/* Toggleable content - dropdown */\n",
       "\n",
       "#sk-container-id-1 div.sk-toggleable__content {\n",
       "  max-height: 0;\n",
       "  max-width: 0;\n",
       "  overflow: hidden;\n",
       "  text-align: left;\n",
       "  /* unfitted */\n",
       "  background-color: var(--sklearn-color-unfitted-level-0);\n",
       "}\n",
       "\n",
       "#sk-container-id-1 div.sk-toggleable__content.fitted {\n",
       "  /* fitted */\n",
       "  background-color: var(--sklearn-color-fitted-level-0);\n",
       "}\n",
       "\n",
       "#sk-container-id-1 div.sk-toggleable__content pre {\n",
       "  margin: 0.2em;\n",
       "  border-radius: 0.25em;\n",
       "  color: var(--sklearn-color-text);\n",
       "  /* unfitted */\n",
       "  background-color: var(--sklearn-color-unfitted-level-0);\n",
       "}\n",
       "\n",
       "#sk-container-id-1 div.sk-toggleable__content.fitted pre {\n",
       "  /* unfitted */\n",
       "  background-color: var(--sklearn-color-fitted-level-0);\n",
       "}\n",
       "\n",
       "#sk-container-id-1 input.sk-toggleable__control:checked~div.sk-toggleable__content {\n",
       "  /* Expand drop-down */\n",
       "  max-height: 200px;\n",
       "  max-width: 100%;\n",
       "  overflow: auto;\n",
       "}\n",
       "\n",
       "#sk-container-id-1 input.sk-toggleable__control:checked~label.sk-toggleable__label-arrow:before {\n",
       "  content: \"▾\";\n",
       "}\n",
       "\n",
       "/* Pipeline/ColumnTransformer-specific style */\n",
       "\n",
       "#sk-container-id-1 div.sk-label input.sk-toggleable__control:checked~label.sk-toggleable__label {\n",
       "  color: var(--sklearn-color-text);\n",
       "  background-color: var(--sklearn-color-unfitted-level-2);\n",
       "}\n",
       "\n",
       "#sk-container-id-1 div.sk-label.fitted input.sk-toggleable__control:checked~label.sk-toggleable__label {\n",
       "  background-color: var(--sklearn-color-fitted-level-2);\n",
       "}\n",
       "\n",
       "/* Estimator-specific style */\n",
       "\n",
       "/* Colorize estimator box */\n",
       "#sk-container-id-1 div.sk-estimator input.sk-toggleable__control:checked~label.sk-toggleable__label {\n",
       "  /* unfitted */\n",
       "  background-color: var(--sklearn-color-unfitted-level-2);\n",
       "}\n",
       "\n",
       "#sk-container-id-1 div.sk-estimator.fitted input.sk-toggleable__control:checked~label.sk-toggleable__label {\n",
       "  /* fitted */\n",
       "  background-color: var(--sklearn-color-fitted-level-2);\n",
       "}\n",
       "\n",
       "#sk-container-id-1 div.sk-label label.sk-toggleable__label,\n",
       "#sk-container-id-1 div.sk-label label {\n",
       "  /* The background is the default theme color */\n",
       "  color: var(--sklearn-color-text-on-default-background);\n",
       "}\n",
       "\n",
       "/* On hover, darken the color of the background */\n",
       "#sk-container-id-1 div.sk-label:hover label.sk-toggleable__label {\n",
       "  color: var(--sklearn-color-text);\n",
       "  background-color: var(--sklearn-color-unfitted-level-2);\n",
       "}\n",
       "\n",
       "/* Label box, darken color on hover, fitted */\n",
       "#sk-container-id-1 div.sk-label.fitted:hover label.sk-toggleable__label.fitted {\n",
       "  color: var(--sklearn-color-text);\n",
       "  background-color: var(--sklearn-color-fitted-level-2);\n",
       "}\n",
       "\n",
       "/* Estimator label */\n",
       "\n",
       "#sk-container-id-1 div.sk-label label {\n",
       "  font-family: monospace;\n",
       "  font-weight: bold;\n",
       "  display: inline-block;\n",
       "  line-height: 1.2em;\n",
       "}\n",
       "\n",
       "#sk-container-id-1 div.sk-label-container {\n",
       "  text-align: center;\n",
       "}\n",
       "\n",
       "/* Estimator-specific */\n",
       "#sk-container-id-1 div.sk-estimator {\n",
       "  font-family: monospace;\n",
       "  border: 1px dotted var(--sklearn-color-border-box);\n",
       "  border-radius: 0.25em;\n",
       "  box-sizing: border-box;\n",
       "  margin-bottom: 0.5em;\n",
       "  /* unfitted */\n",
       "  background-color: var(--sklearn-color-unfitted-level-0);\n",
       "}\n",
       "\n",
       "#sk-container-id-1 div.sk-estimator.fitted {\n",
       "  /* fitted */\n",
       "  background-color: var(--sklearn-color-fitted-level-0);\n",
       "}\n",
       "\n",
       "/* on hover */\n",
       "#sk-container-id-1 div.sk-estimator:hover {\n",
       "  /* unfitted */\n",
       "  background-color: var(--sklearn-color-unfitted-level-2);\n",
       "}\n",
       "\n",
       "#sk-container-id-1 div.sk-estimator.fitted:hover {\n",
       "  /* fitted */\n",
       "  background-color: var(--sklearn-color-fitted-level-2);\n",
       "}\n",
       "\n",
       "/* Specification for estimator info (e.g. \"i\" and \"?\") */\n",
       "\n",
       "/* Common style for \"i\" and \"?\" */\n",
       "\n",
       ".sk-estimator-doc-link,\n",
       "a:link.sk-estimator-doc-link,\n",
       "a:visited.sk-estimator-doc-link {\n",
       "  float: right;\n",
       "  font-size: smaller;\n",
       "  line-height: 1em;\n",
       "  font-family: monospace;\n",
       "  background-color: var(--sklearn-color-background);\n",
       "  border-radius: 1em;\n",
       "  height: 1em;\n",
       "  width: 1em;\n",
       "  text-decoration: none !important;\n",
       "  margin-left: 1ex;\n",
       "  /* unfitted */\n",
       "  border: var(--sklearn-color-unfitted-level-1) 1pt solid;\n",
       "  color: var(--sklearn-color-unfitted-level-1);\n",
       "}\n",
       "\n",
       ".sk-estimator-doc-link.fitted,\n",
       "a:link.sk-estimator-doc-link.fitted,\n",
       "a:visited.sk-estimator-doc-link.fitted {\n",
       "  /* fitted */\n",
       "  border: var(--sklearn-color-fitted-level-1) 1pt solid;\n",
       "  color: var(--sklearn-color-fitted-level-1);\n",
       "}\n",
       "\n",
       "/* On hover */\n",
       "div.sk-estimator:hover .sk-estimator-doc-link:hover,\n",
       ".sk-estimator-doc-link:hover,\n",
       "div.sk-label-container:hover .sk-estimator-doc-link:hover,\n",
       ".sk-estimator-doc-link:hover {\n",
       "  /* unfitted */\n",
       "  background-color: var(--sklearn-color-unfitted-level-3);\n",
       "  color: var(--sklearn-color-background);\n",
       "  text-decoration: none;\n",
       "}\n",
       "\n",
       "div.sk-estimator.fitted:hover .sk-estimator-doc-link.fitted:hover,\n",
       ".sk-estimator-doc-link.fitted:hover,\n",
       "div.sk-label-container:hover .sk-estimator-doc-link.fitted:hover,\n",
       ".sk-estimator-doc-link.fitted:hover {\n",
       "  /* fitted */\n",
       "  background-color: var(--sklearn-color-fitted-level-3);\n",
       "  color: var(--sklearn-color-background);\n",
       "  text-decoration: none;\n",
       "}\n",
       "\n",
       "/* Span, style for the box shown on hovering the info icon */\n",
       ".sk-estimator-doc-link span {\n",
       "  display: none;\n",
       "  z-index: 9999;\n",
       "  position: relative;\n",
       "  font-weight: normal;\n",
       "  right: .2ex;\n",
       "  padding: .5ex;\n",
       "  margin: .5ex;\n",
       "  width: min-content;\n",
       "  min-width: 20ex;\n",
       "  max-width: 50ex;\n",
       "  color: var(--sklearn-color-text);\n",
       "  box-shadow: 2pt 2pt 4pt #999;\n",
       "  /* unfitted */\n",
       "  background: var(--sklearn-color-unfitted-level-0);\n",
       "  border: .5pt solid var(--sklearn-color-unfitted-level-3);\n",
       "}\n",
       "\n",
       ".sk-estimator-doc-link.fitted span {\n",
       "  /* fitted */\n",
       "  background: var(--sklearn-color-fitted-level-0);\n",
       "  border: var(--sklearn-color-fitted-level-3);\n",
       "}\n",
       "\n",
       ".sk-estimator-doc-link:hover span {\n",
       "  display: block;\n",
       "}\n",
       "\n",
       "/* \"?\"-specific style due to the `<a>` HTML tag */\n",
       "\n",
       "#sk-container-id-1 a.estimator_doc_link {\n",
       "  float: right;\n",
       "  font-size: 1rem;\n",
       "  line-height: 1em;\n",
       "  font-family: monospace;\n",
       "  background-color: var(--sklearn-color-background);\n",
       "  border-radius: 1rem;\n",
       "  height: 1rem;\n",
       "  width: 1rem;\n",
       "  text-decoration: none;\n",
       "  /* unfitted */\n",
       "  color: var(--sklearn-color-unfitted-level-1);\n",
       "  border: var(--sklearn-color-unfitted-level-1) 1pt solid;\n",
       "}\n",
       "\n",
       "#sk-container-id-1 a.estimator_doc_link.fitted {\n",
       "  /* fitted */\n",
       "  border: var(--sklearn-color-fitted-level-1) 1pt solid;\n",
       "  color: var(--sklearn-color-fitted-level-1);\n",
       "}\n",
       "\n",
       "/* On hover */\n",
       "#sk-container-id-1 a.estimator_doc_link:hover {\n",
       "  /* unfitted */\n",
       "  background-color: var(--sklearn-color-unfitted-level-3);\n",
       "  color: var(--sklearn-color-background);\n",
       "  text-decoration: none;\n",
       "}\n",
       "\n",
       "#sk-container-id-1 a.estimator_doc_link.fitted:hover {\n",
       "  /* fitted */\n",
       "  background-color: var(--sklearn-color-fitted-level-3);\n",
       "}\n",
       "</style><div id=\"sk-container-id-1\" class=\"sk-top-container\"><div class=\"sk-text-repr-fallback\"><pre>RandomForestRegressor()</pre><b>In a Jupyter environment, please rerun this cell to show the HTML representation or trust the notebook. <br />On GitHub, the HTML representation is unable to render, please try loading this page with nbviewer.org.</b></div><div class=\"sk-container\" hidden><div class=\"sk-item\"><div class=\"sk-estimator fitted sk-toggleable\"><input class=\"sk-toggleable__control sk-hidden--visually\" id=\"sk-estimator-id-1\" type=\"checkbox\" checked><label for=\"sk-estimator-id-1\" class=\"sk-toggleable__label fitted sk-toggleable__label-arrow fitted\">&nbsp;&nbsp;RandomForestRegressor<a class=\"sk-estimator-doc-link fitted\" rel=\"noreferrer\" target=\"_blank\" href=\"https://scikit-learn.org/1.4/modules/generated/sklearn.ensemble.RandomForestRegressor.html\">?<span>Documentation for RandomForestRegressor</span></a><span class=\"sk-estimator-doc-link fitted\">i<span>Fitted</span></span></label><div class=\"sk-toggleable__content fitted\"><pre>RandomForestRegressor()</pre></div> </div></div></div></div>"
      ],
      "text/plain": [
       "RandomForestRegressor()"
      ]
     },
     "execution_count": 70,
     "metadata": {},
     "output_type": "execute_result"
    }
   ],
   "source": [
    "from sklearn.ensemble import RandomForestRegressor\n",
    "X, y = df.iloc[:,:-1], df.iloc[:,-1]\n",
    "RFreg = RandomForestRegressor()\n",
    "RFreg.fit(X, y)\n",
    "RFreg.predict()"
   ]
  },
  {
   "cell_type": "code",
   "execution_count": null,
   "metadata": {},
   "outputs": [],
   "source": [
    "'Random Forest'\n",
    "## Using grid search\n",
    "rf = RandomForestRegressor(n_jobs=-1)\n",
    "\n",
    "# Number of trees in random forest\n",
    "n_estimators = list(range(50,351,50))\n",
    "# Number of features to consider at every split\n",
    "# max_features = ['auto' , 'sqrt']\n",
    "# Maximum number of levels in tree\n",
    "max_depth = list(range(3, 10))\n",
    "# Minimum number of samples required to split a node\n",
    "# min_samples_split = [2, 4, 6, 8, 10]\n",
    "# Minimum number of samples required at each leaf node\n",
    "# min_samples_leaf = [1, 2, 3, 4]\n",
    "\n",
    "# Create the random grid\n",
    "random_grid = {\n",
    "                'criterion':['squared_error', 'friedman_mse', 'poisson'],\n",
    "                'n_estimators': n_estimators,\n",
    "#                'max_features': max_features,\n",
    "               'max_depth': max_depth,\n",
    "#                'min_samples_split': min_samples_split,\n",
    "#                'min_samples_leaf': min_samples_leaf,\n",
    "}\n",
    "tscv = TimeSeriesSplit(n_splits=3)\n",
    "tuning_model=GridSearchCV(rf, param_grid=random_grid, n_jobs=1,\n",
    "                          scoring='neg_mean_squared_error', cv=tscv, verbose=2, return_train_score=True)\n",
    "# neg_mean_squared_error\n",
    "# r2\n",
    "# function for calculating how much time take for hyperparameter tuning\n",
    "tuning_model.fit(X_train.iloc[:,1:], y_train)\n",
    "# best hyperparameters \n",
    "print('Best params:', tuning_model.best_params_)\n",
    "\n",
    "# best model score\n",
    "# print('Best R2 score:', metrics.r2_score()"
   ]
  },
  {
   "cell_type": "markdown",
   "metadata": {},
   "source": [
    "### Part 3- task 3- Report the value of the chosen test metric on the provided data"
   ]
  },
  {
   "cell_type": "markdown",
   "metadata": {},
   "source": [
    "#### Evaluating the model"
   ]
  },
  {
   "cell_type": "code",
   "execution_count": null,
   "metadata": {},
   "outputs": [],
   "source": [
    "results = []\n",
    "results = pd.DataFrame.from_dict(tuning_model.cv_results_)\n",
    "\n",
    "# print(results, results.keys())\n",
    "\n",
    "train_score= results['mean_train_score']\n",
    "train_score_std= results['std_train_score']\n",
    "cv_score = results['mean_test_score'] \n",
    "cv_score_std= results['std_test_score']\n",
    "param_max_depth = results['param_max_depth']\n",
    "results.head()\n",
    "\n"
   ]
  },
  {
   "cell_type": "code",
   "execution_count": null,
   "metadata": {},
   "outputs": [],
   "source": [
    "plt.rcParams[\"figure.figsize\"] = [9, 6]\n",
    "plt.rcParams[\"figure.autolayout\"] = True\n",
    "plt.plot(param_max_depth.astype(float), np.abs(train_score), label = 'Train')\n",
    "plt.plot(param_max_depth.astype(float), np.abs(cv_score), label = 'Validation')\n",
    "plt.xlabel('max_depth')\n",
    "plt.ylabel('R2')\n",
    "plt.legend()\n",
    "plt.show()"
   ]
  },
  {
   "cell_type": "code",
   "execution_count": null,
   "metadata": {},
   "outputs": [],
   "source": [
    "tuning_model = RandomForestRegressor(criterion='poisson', max_depth= 4,\n",
    "                                     n_estimators= 50, n_jobs=-1)\n",
    "\n",
    "tuning_model.fit(X_train.iloc[:,1:], y_train)"
   ]
  },
  {
   "cell_type": "code",
   "execution_count": null,
   "metadata": {},
   "outputs": [],
   "source": [
    "# prediction \n",
    "predict = tuning_model.predict(X_test.iloc[:,1:])\n",
    "train_predict = tuning_model.predict(X_train.iloc[:,1:])"
   ]
  },
  {
   "cell_type": "code",
   "execution_count": null,
   "metadata": {},
   "outputs": [],
   "source": [
    "###Metrics\n",
    "print('RMSE_train:', rmse(y_train, train_predict))\n",
    "print('RMSE_test:', rmse(y_test, predict))\n",
    "print('MSE of test:', metrics.mean_squared_error(y_test, predict))\n",
    "print('Train R2:', tuning_model.score(X_train.iloc[:,1:],y_train))\n",
    "# print(\"Test R^2:\",metrics.r2_score(y_test, tuned_pred))"
   ]
  },
  {
   "cell_type": "code",
   "execution_count": null,
   "metadata": {},
   "outputs": [],
   "source": [
    "import numpy as np\n",
    "import matplotlib.pyplot as plt\n",
    "\n",
    "plt.rcParams[\"figure.figsize\"] = [15, 8]\n",
    "plt.rcParams[\"figure.autolayout\"] = True\n",
    "\n",
    "x = list(range(len(y_test)))\n",
    "y1 = y_test\n",
    "y2 = predict\n",
    "\n",
    "plt.subplot(211)\n",
    "plt.plot(x, y1, color='red', lw=5)\n",
    "plt.plot(x, y2, color='Blue', lw=3)"
   ]
  },
  {
   "cell_type": "code",
   "execution_count": null,
   "metadata": {},
   "outputs": [],
   "source": [
    "sns.distplot(y_test-predict)"
   ]
  },
  {
   "cell_type": "markdown",
   "metadata": {},
   "source": [
    "**Answers / comments / reasoning:**\n",
    "\n",
    "-"
   ]
  },
  {
   "cell_type": "markdown",
   "metadata": {},
   "source": [
    "## Part 4 - Reflection / comments\n",
    "\n",
    "**Tasks:**\n",
    "\n",
    "(Optional) Please share with us any free form reflection, comments or feedback you have in the context of this test task."
   ]
  },
  {
   "cell_type": "markdown",
   "metadata": {},
   "source": [
    "## Submission\n",
    "\n",
    "Please submit this notebook with your developments in .ipynb and .html formats as well as your requirements.txt file."
   ]
  },
  {
   "cell_type": "markdown",
   "metadata": {},
   "source": [
    "## References\n",
    "\n",
    "[1] Lichman, M. (2013). UCI Machine Learning Repository [http://archive.ics.uci.edu/ml]. Irvine, CA: University of California, School of Information and Computer Science."
   ]
  }
 ],
 "metadata": {
  "kernelspec": {
   "display_name": "Python 3 (ipykernel)",
   "language": "python",
   "name": "python3"
  },
  "language_info": {
   "codemirror_mode": {
    "name": "ipython",
    "version": 3
   },
   "file_extension": ".py",
   "mimetype": "text/x-python",
   "name": "python",
   "nbconvert_exporter": "python",
   "pygments_lexer": "ipython3",
   "version": "3.10.11"
  }
 },
 "nbformat": 4,
 "nbformat_minor": 4
}
